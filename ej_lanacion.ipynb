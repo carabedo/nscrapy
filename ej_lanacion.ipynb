{
 "cells": [
  {
   "cell_type": "code",
   "execution_count": 130,
   "metadata": {},
   "outputs": [],
   "source": [
    "import requests as r\n",
    "from bs4 import BeautifulSoup as bs\n",
    "import unicodedata\n",
    "import time \n",
    "import base64\n",
    "\n",
    "class lnn():\n",
    "    def __init__(self):\n",
    "        self.url='https://www.lanacion.com.ar'\n",
    "   \n",
    "    def get(self,url):        \n",
    "        nota=r.get(url)\n",
    "        sopa=bs(nota.content,features=\"lxml\")\n",
    "        self.titulo=sopa.find('h1').get_text(strip=True)\n",
    "        try:\n",
    "            self.bajada=sopa.find('epigrafe').get_text(strip=True)\n",
    "        except:\n",
    "            pass\n",
    "        self.cuerpo=' '.join([unicodedata.normalize(\"NFKD\",x.get_text()).strip() for x in sopa.find('section',{'id':'cuerpo'}).find_all('p')][:-1])\n",
    "        bolds=sum([x.find_all('b') for x in sopa.find('section',{'id':'cuerpo'}).find_all('p', recursive=False)],[])\n",
    "        self.bolds=[x.get_text(strip=True) for x in bolds]\n",
    "        self.bold=' / '.join(self.bolds)     \n",
    "        self.quotes=' / '.join([x.split('”')[0] for x in self.cuerpo.split('“')[1:]])\n",
    "        token=base64.b64encode(bytes(sopa.find('div',{'id' : 'tokenLF'}).get('data-entrada'), 'utf-8')).decode('ascii')\n",
    "        com=r.get('https://data.livefyre.com/bs3/v3.1/la-nacion.fyre.co/356483/'+token+'/init')\n",
    "        data=com.json()\n",
    "        np=data['collectionSettings']['archiveInfo']['nPages']\n",
    "        comms=[]\n",
    "        for n in range(0,np):\n",
    "            com=r.get('https://data.livefyre.com/bs3/v3.1/la-nacion.fyre.co/356483/'+token+'/'+str(n)+'.json')\n",
    "            comms.extend(com.json()['content'][:])\n",
    "            time.sleep(0.2)\n",
    "        coms=[]    \n",
    "        for j,x in enumerate(comms):\n",
    "            try:\n",
    "                coms.append(bs(x['content']['bodyHtml']).get_text().strip())\n",
    "            except:\n",
    "                pass    \n",
    "        self.coms=coms\n",
    "        \n",
    "    def hoy(self):\n",
    "        hoy=r.get('https://www.lanacion.com.ar')\n",
    "        urls=[]\n",
    "        h1s=bs(hoy.content).find_all('h1')\n",
    "        urls.extend([h1.find('a').get('href') for h1 in h1s])\n",
    "        h2s=bs(hoy.content).find_all('h2')\n",
    "        urls.extend([h2.find('a').get('href') for h2 in h2s])\n",
    "        headers = {\n",
    "        'authority': 'www.lanacion.com.ar',\n",
    "        'user-agent': 'Mozilla/5.0 (Windows NT 10.0; Win64; x64) AppleWebKit/537.36 (KHTML, like Gecko) Chrome/86.0.4240.198 Safari/537.36',\n",
    "        'accept': '*/*',\n",
    "        'sec-fetch-site': 'same-origin',\n",
    "        'sec-fetch-mode': 'cors',\n",
    "        'sec-fetch-dest': 'empty',\n",
    "        'referer': 'https://www.lanacion.com.ar/',\n",
    "        'accept-language': 'es-419,es;q=0.9,en;q=0.8,gl;q=0.7',   \n",
    "        }\n",
    "\n",
    "        params = (\n",
    "        ('utm_source', 'navigation'),\n",
    "        ('datamodule', \"\"\"anexo_2;tema_1;tema_2;tema_3;opinion;\n",
    "         tema_4;tema_5;tema_6;mas-leidas;comercial_1;\n",
    "         tema_7;tema_8;comercial_2;tema_9;tema_10;tema_11;\n",
    "         tema_12;tema_13;tema_14;tema_15;tema_16;tema_17;tema_18\n",
    "         \"\"\"),\n",
    "        )\n",
    "\n",
    "        r1= r.get('https://www.lanacion.com.ar/', headers=headers, params=params)\n",
    "        data=r1.json()['Modules']\n",
    "        urls2=[]\n",
    "        for tema in data:\n",
    "            urls2.extend([x.find('a').get('href') for x in bs(tema['Value']).find_all('h2')])\n",
    "            try:\n",
    "                urls2.extend([x.get('href') for x in bs(tema['Value']).find('ul').find_all('a')])\n",
    "            except:\n",
    "                pass\n",
    "        urls.extend(urls2)\n",
    "        urls.sort()\n",
    "        self.urls=urls\n",
    "\n",
    "def get(lista):\n",
    "    notas=[]\n",
    "    for url in lista:\n",
    "        nota=lnn()\n",
    "        try:\n",
    "            nota.get(nota.url+url)\n",
    "            notas.append(nota)\n",
    "            time.sleep(0.2)\n",
    "        except:\n",
    "            try:\n",
    "                nota.get(url)\n",
    "                notas.append(nota)\n",
    "                time.sleep(0.2)\n",
    "            except:\n",
    "                print(url)\n",
    "    return(notas)       \n",
    "            "
   ]
  },
  {
   "cell_type": "code",
   "execution_count": 131,
   "metadata": {},
   "outputs": [],
   "source": [
    "portal=lnn()\n",
    "portal.hoy()"
   ]
  },
  {
   "cell_type": "code",
   "execution_count": 132,
   "metadata": {},
   "outputs": [
    {
     "data": {
      "text/plain": [
       "['/buenos-aires/que-son-ciudades-15-minutos-como-buenos-nid2533196',\n",
       " '/deportes/floyd-mayweather-volvera-al-ring-enfrentar-youtuber-nid2533116',\n",
       " '/deportes/futbol/benedetto-gring-disculpas-nid2534069',\n",
       " '/deportes/lionel-messi-vs-cristiano-ronaldo-estadisticas-rivalidad-nid2528016',\n",
       " '/deportes/rugby/la-world-rugby-tambien-critico-mensajes-racistas-nid2534073',\n",
       " '/deportes/tenis/del-potro-esta-brasil-someterse-tratamiento-celulas-nid2534118',\n",
       " '/deportes/un-jeque-arabe-compro-mitad-del-equipo-nid2534104',\n",
       " '/economia/campo/arandanos-reconocida-variedad-trajo-al-pais-firma-nid2528115',\n",
       " '/economia/campo/trigo-cultivo-se-enfrenta-falta-agua-heladas-nid2530121',\n",
       " '/economia/el-economista-roberto-cachanosky-conto-le-ofrecieron-nid2533497',\n",
       " '/economia/emmanuel-alvarez-agis-la-unica-fuente-disponible-de-financiamiento-en-dolares-para-la-argentina-es-el-fmi-nid2530486',\n",
       " '/economia/jubilaciones-advierten-nueva-ley-se-perdera-aumento-nid2530077',\n",
       " '/economia/negocios/facturan-us23-millones-en-mendoza-inventaron-negocio-nid2522795',\n",
       " '/economia/negocios/norwegian-solicita-concurso-acreedores-noruega-nid2534096',\n",
       " '/editoriales/el-pobre-legado-del-gobierno-trump-nid2530501',\n",
       " '/editoriales/vergonzoso-abandono-ninos-adoptados-nid2530500',\n",
       " '/el-mundo/coronavirus-segunda-ola-causo-mas-muertes-primera-nid2534128',\n",
       " '/el-mundo/coronavirus-vacuna-oxford-es-primera-exponer-sus-nid2534162',\n",
       " '/el-mundo/inmunidad-rebano-el-experimento-sueco-llego-su-nid2533169',\n",
       " '/el-mundo/la-vacuna-pfizer-es-fuerte-10-dias-nid2534129',\n",
       " '/el-mundo/william-shakespeare-recibe-vacuna-covid-19-nid2534076',\n",
       " '/espectaculos/cine/el-padrino-iii-film-treinta-anos-despues-nid2527008',\n",
       " '/espectaculos/dario-barassi-hablo-su-cambio-fisico-cuarentena-nid2533128',\n",
       " '/espectaculos/la-anecdota-cande-ruggeri-oscar-galindez-todos-nid2532142',\n",
       " '/espectaculos/musica/como-fueron-ultimas-24-horas-john-lennon-nid2525788',\n",
       " '/espectaculos/personajes/la-exnovia-matthew-perry-hizo-escandalosas-declaraciones-nid2533100',\n",
       " '/espectaculos/personajes/que-es-vida-paul-hogan-actor-protagonizo-nid2532307',\n",
       " '/espectaculos/personajes/shakira-historia-oculta-sus-pies-descalzos-25-nid2534101',\n",
       " '/espectaculos/series-de-tv/series-diciembre-que-ver-disney-hbo-directv-nid2528891',\n",
       " '/espectaculos/television/florencia-pena-hizo-llorar-claudia-villafane-su-nid2534066',\n",
       " '/espectaculos/television/rating-materchef-celebrity-gano-presencia-flor-pena-nid2534103',\n",
       " '/lifestyle/alejandro-pasquale-la-belleza-naturaleza-merece-nuestro-nid2486724',\n",
       " '/lifestyle/christmasworld-ideas-deco-simples-feria-navidad-mas-nid2530071',\n",
       " '/lifestyle/deporte-naturaleza-volve-al-golf-nid2529061',\n",
       " '/lifestyle/descubren-nombre-ciudad-mas-antigua-del-mundo-nid2533198',\n",
       " '/lifestyle/el-chef-norteamericano-viajo-16-mil-km-nid2533471',\n",
       " '/lifestyle/en-fotos-medicos-muestran-que-pasa-cuando-nid2533157',\n",
       " '/lifestyle/la-casa-kaufmann-iconica-propiedad-mas-cara-nid2529003',\n",
       " '/lifestyle/las-predicciones-jimena-la-torre-carta-suerte-nid2533092',\n",
       " '/lifestyle/los-pasajes-baratos-permiten-viajar-europa-playas-nid2533122',\n",
       " '/lifestyle/quemaduras-navidad-accidentes-mas-comunes-estan-expuestos-nid2533124',\n",
       " '/lifestyle/quien-es-quien-lo-nos-cuenta-cuadro-nid2533107',\n",
       " '/opinion/cristina-kirchner-cierra-ciclo-moderacion-nid2533370',\n",
       " '/opinion/elegir-ley-poder-politico-nid2533233',\n",
       " '/opinion/rugbiers-militantes-setentistas-sintomas-peligroso-sectarismo-juvenil-nid2533227',\n",
       " '/opinion/un-ano-gobierno-un-pais-real-escondido-nid2533221',\n",
       " '/politica/demasiados-pobres-demasiada-corrupcion-nid2533462',\n",
       " '/politica/jose-luis-espert-javier-milei-luis-rosales-nid2533422',\n",
       " '/politica/la-clase-media-rechaza-gestion-alberto-fernandez-nid2533095',\n",
       " '/politica/los-gobernadores-apuran-diputados-suspension-paso-nid2533349',\n",
       " '/politica/pese-diferencias-venezuela-eeuu-esperan-relacion-pragmatica-nid2534138',\n",
       " '/politica/por-segundo-dia-consecutivo-gobierno-se-mantuvo-nid2533222',\n",
       " '/politica/presentan-senado-proyecto-ley-maradona-aparezca-billetes-nid2533225',\n",
       " '/politica/telefonicos-nid2533399',\n",
       " '/seguridad/cordoba-rugbiers-golpean-brutalmente-joven-su-fiesta-nid2534098',\n",
       " '/seguridad/hablo-amigo-victima-del-robo-crimen-retiro-nid2534150',\n",
       " '/seguridad/puerto-madero-mataron-disparo-extranjero-robarle-bicicleta-nid2534082',\n",
       " '/seguridad/tienen-impunidad-porque-saben-no-les-pasa-nid2534117',\n",
       " '/sociedad/herramientas-cambio-no-te-sorprenda-charla-alex-nid2534065',\n",
       " '/sociedad/innovacion-medicamentos-se-ubican-centro-escena-nid2529979',\n",
       " '/sociedad/la-entrevista-jamas-contada-luz-maria-galup-nid2530123',\n",
       " '/sociedad/trucos-llenar-bolsillo-devaluado-nid2533080',\n",
       " 'https://www.lanacion.com.ar/tecnologia/aevum-ravn-x-el-avion-autonomo-que-pondra-satelites-en-orbita-nid08122020/',\n",
       " 'https://www.lanacion.com.ar/tecnologia/playstation-5-estos-son-los-juegos-que-debes-tener-para-aprovechar-sus-graficos-nid08122020/',\n",
       " 'https://www.lanacion.com.ar/turismo/cayote-alfajor-y-postre-balcarce-una-vuelta-por-la-historia-de-los-mejores-dulces-autoctonos-nid04122020/']"
      ]
     },
     "execution_count": 132,
     "metadata": {},
     "output_type": "execute_result"
    }
   ],
   "source": [
    "portal.urls"
   ]
  },
  {
   "cell_type": "code",
   "execution_count": 133,
   "metadata": {},
   "outputs": [
    {
     "name": "stdout",
     "output_type": "stream",
     "text": [
      "/lifestyle/christmasworld-ideas-deco-simples-feria-navidad-mas-nid2530071\n",
      "/sociedad/innovacion-medicamentos-se-ubican-centro-escena-nid2529979\n",
      "https://www.lanacion.com.ar/tecnologia/aevum-ravn-x-el-avion-autonomo-que-pondra-satelites-en-orbita-nid08122020/\n",
      "https://www.lanacion.com.ar/tecnologia/playstation-5-estos-son-los-juegos-que-debes-tener-para-aprovechar-sus-graficos-nid08122020/\n",
      "https://www.lanacion.com.ar/turismo/cayote-alfajor-y-postre-balcarce-una-vuelta-por-la-historia-de-los-mejores-dulces-autoctonos-nid04122020/\n"
     ]
    }
   ],
   "source": [
    "hoy=get(portal.urls)"
   ]
  },
  {
   "cell_type": "code",
   "execution_count": 161,
   "metadata": {},
   "outputs": [
    {
     "data": {
      "text/plain": [
       "['En serio? En esto termina el \"Floyd Gayweather\"? Patetico...']"
      ]
     },
     "execution_count": 161,
     "metadata": {},
     "output_type": "execute_result"
    }
   ],
   "source": []
  },
  {
   "cell_type": "code",
   "execution_count": 9,
   "metadata": {},
   "outputs": [],
   "source": [
    "url='https://www.lanacion.com.ar/el-mundo/el-ranking-mejores-paises-pasar-pandemia-deja-nid2519658'\n",
    "url='https://www.lanacion.com.ar/economia/porque-bonos-argentinos-estan-excluidos-nueva-primavera-nid2519696'\n",
    "url='https://www.lanacion.com.ar/seguridad/puerto-madero-mataron-disparo-extranjero-robarle-bicicleta-nid2534082'"
   ]
  },
  {
   "cell_type": "code",
   "execution_count": 60,
   "metadata": {},
   "outputs": [],
   "source": [
    "nota=lnn()\n",
    "nota.get(url)"
   ]
  },
  {
   "cell_type": "code",
   "execution_count": 40,
   "metadata": {},
   "outputs": [
    {
     "data": {
      "text/plain": [
       "'Retiro: mataron de un balazo en el cuello a un extranjero para robarle la bicicleta'"
      ]
     },
     "execution_count": 40,
     "metadata": {},
     "output_type": "execute_result"
    }
   ],
   "source": [
    "nota.titulo"
   ]
  },
  {
   "cell_type": "code",
   "execution_count": 12,
   "metadata": {},
   "outputs": [
    {
     "data": {
      "text/plain": [
       "'Por el crimen detuvieron a un menor de 15 años'"
      ]
     },
     "execution_count": 12,
     "metadata": {},
     "output_type": "execute_result"
    }
   ],
   "source": [
    "nota.bajada"
   ]
  },
  {
   "cell_type": "code",
   "execution_count": 13,
   "metadata": {},
   "outputs": [
    {
     "data": {
      "text/plain": [
       "''"
      ]
     },
     "execution_count": 13,
     "metadata": {},
     "output_type": "execute_result"
    }
   ],
   "source": [
    "nota.quotes"
   ]
  },
  {
   "cell_type": "code",
   "execution_count": 14,
   "metadata": {
    "scrolled": true
   },
   "outputs": [
    {
     "data": {
      "text/plain": [
       "['de nacionalidad armenia fue asesinado de un balazo en el cuello',\n",
       " 'fue detenido, armado, un adolescente de 15 años',\n",
       " 'límite entre Retiro y Puerto Madero',\n",
       " 'Dimitri Amiryan,',\n",
       " 'Hospital Fernández.',\n",
       " 'LA NACION,',\n",
       " 'Dimitri',\n",
       " 'residía en el país desde hace 20 años.',\n",
       " 'atrapó al joven a 500 metros del lugar,',\n",
       " 'LA NACION',\n",
       " \"Marcelo D'Alessandro.\",\n",
       " 'Alberto Crescenti.',\n",
       " 'una herida de arma de fuego en la región facial\"',\n",
       " 'Se lo trató de compensar, se lo trasladó al Hospital Fernández y, lamentablemente, me acaban de informar que falleció']"
      ]
     },
     "execution_count": 14,
     "metadata": {},
     "output_type": "execute_result"
    }
   ],
   "source": [
    "nota.bolds"
   ]
  },
  {
   "cell_type": "code",
   "execution_count": 62,
   "metadata": {},
   "outputs": [
    {
     "data": {
      "text/plain": [
       "'Este es el resultado del \"Estado presente\" y los planes sociales...'"
      ]
     },
     "execution_count": 62,
     "metadata": {},
     "output_type": "execute_result"
    }
   ],
   "source": []
  },
  {
   "cell_type": "code",
   "execution_count": 43,
   "metadata": {},
   "outputs": [
    {
     "data": {
      "text/plain": [
       "1574"
      ]
     },
     "execution_count": 43,
     "metadata": {},
     "output_type": "execute_result"
    }
   ],
   "source": [
    "nota.comm"
   ]
  },
  {
   "cell_type": "code",
   "execution_count": 44,
   "metadata": {},
   "outputs": [],
   "source": [
    "coms=[]    \n",
    "for j,x in enumerate(nota.comm):\n",
    "    try:\n",
    "        coms.extend(bs(x['content']['bodyHtml']).get_text().strip())\n",
    "    except:\n",
    "        pass    "
   ]
  },
  {
   "cell_type": "code",
   "execution_count": 55,
   "metadata": {},
   "outputs": [],
   "source": [
    "a=[]"
   ]
  },
  {
   "cell_type": "code",
   "execution_count": 57,
   "metadata": {},
   "outputs": [],
   "source": [
    "a.append(bs(nota.comm[0]['content']['bodyHtml']).get_text().strip())"
   ]
  },
  {
   "cell_type": "code",
   "execution_count": 58,
   "metadata": {},
   "outputs": [
    {
     "data": {
      "text/plain": [
       "['Villa 31... O de la Rodrigo Bueno...??']"
      ]
     },
     "execution_count": 58,
     "metadata": {},
     "output_type": "execute_result"
    }
   ],
   "source": [
    "a"
   ]
  },
  {
   "cell_type": "code",
   "execution_count": 169,
   "metadata": {},
   "outputs": [],
   "source": [
    "nota=r.get(url)\n",
    "sopa=bs(nota.content,features=\"lxml\")"
   ]
  },
  {
   "cell_type": "code",
   "execution_count": 170,
   "metadata": {
    "scrolled": false
   },
   "outputs": [
    {
     "data": {
      "text/plain": [
       "'Uno de los hermanos que eran juzgados en la ciudad de Salta por el homicidio del turista francés Mathieu Martin, de 32 años, que en agosto de 2018 desapareció cuando se dirigía como mochilero a la localidad de Iruya, fue condenado a 13 años de prisión, mientras que su hermano fue absuelto por el beneficio de la duda. Los jueces de la Sala VI del Tribunal del Juicio de Salta, Guillermo Pereyra, Mónica Mukdsi y José Luis Riera, condenaron esta tarde a Juan Cuevas, de 39 años, a la pena 13 años de prisión efectiva por resultar autor penalmente responsable del delito de homicidio simple en perjuicio de Martin. Además, dispusieron su traslado a la Unidad Carcelaria 1 de Salta y la extracción de material genético por parte del Servicio de Biología Molecular del Departamento Técnico del Cuerpo de Investigaciones Fiscales (CIF), para su incorporación al Banco de Datos Genéticos. En tanto, su hermano Froilán Cuevas, de 41 años, fue absuelto por el beneficio de la duda. Los jueces ordenaron además que se consigne el fallecimiento de Mathieu Martin en el Registro Civil de Salta y se notifique a sus familiares.  Así concluyó hoy el juicio oral y público contra los hermanos Cuevas, acusados del homicidio del turista francés Mathieu Martin, quien desapareció en agosto de 2018, cuando viajaba desde Humahuaca a la localidad salteña de Iruya. Esta mañana, en la Sala de Grandes Juicios de la Ciudad de Salta se pronunciaron los alegatos de las partes, y el primero en exponer fue el fiscal Pablo Rivero, quien hizo referencia al recorrido del turista francés desde su ingreso en la Argentina.  Asimismo, reconstruyó el camino que realizó Martin cuando partió desde Tilcara el 8 de agosto de 2018 hacia Iruya y detalló que la última vez que lo vieron fue el 15 de agosto, en el paraje Peña Negra, a 15 minutos de Huacaloma, donde residen los hermanos Cuevas. Rivero destacó el intenso trabajo de búsqueda de las fuerzas provincias y federales en Salta y Jujuy, y las incursiones con canes entrenados de la Policía Federal, que detectaron rastros en un lugar llamado El Chorro, cerca de la casa de Juan Cuevas, aunque las excavaciones se vieron frustradas por las dificultades del terreno. Por su parte, el fiscal Ramiro Ramos Ossorio había solicitado la pena de 20 años de prisión para Juan Cuevas y 12 años de prisión para Froilán Cuevas, como coautores de homicidio simple en perjuicio de Martin.  A su vez, la querella, a cargo de Matías Adet no formuló pedido de pena por requerimiento de los familiares, que escribieron una carta en la que solicitaron saber la verdad y hallar el cuerpo de Martin. El abogado defensor de los hermanos acusados, Pablo Tobío, pidió la absolución por el beneficio de la duda, mientras que la Asesora de Menores e Incapaces pidió la absolución de Froilán Cuevas, que posee una discapacidad. Ninguno de los acusados quiso hacer uso de las últimas palabras, y el tribunal deliberó durante más de cinco horas antes de dar a conocer la sentencia del juicio, que comenzó el 9 de noviembre pasado. Los dos acusados hablaron el viernes pasado, ante los jueces, sin aceptar preguntas de las partes, y aseguraron no ser los autores del hecho, tras lo que afirmaron que ambos fueron obligados a confesar el crimen luego de sufrir maltratos de la policía que los detuvo en Iruya. Mathieu Pierre Martin desapareció en agosto de 2018, cuando recorría el norte argentino como mochilero, por lo que sus familiares alertaron sobre esta situación y se ordenó un operativo de búsqueda, tanto en Jujuy como en Salta. El joven se contactó por última vez desde la localidad de Tilcara e informó a su familia que su próximo destino era Iruya, y tras su desaparición, su cuerpo nunca fue hallado.'"
      ]
     },
     "execution_count": 170,
     "metadata": {},
     "output_type": "execute_result"
    }
   ],
   "source": [
    "' '.join([unicodedata.normalize(\"NFKD\",x.get_text()).strip() for x in sopa.find('section',{'id':'cuerpo'}).find_all('p', recursive=False)])"
   ]
  },
  {
   "cell_type": "code",
   "execution_count": 171,
   "metadata": {
    "scrolled": false
   },
   "outputs": [
    {
     "data": {
      "text/plain": [
       "[[<b> turista francés Mathieu Martin</b>,\n",
       "  <b>fue condenado a 13 años de prisión</b>],\n",
       " [],\n",
       " [],\n",
       " [],\n",
       " [],\n",
       " [],\n",
       " [<b>desapareció en agosto de 2018, cuando viajaba desde Humahuaca a la localidad salteña de Iruya</b>],\n",
       " [],\n",
       " [],\n",
       " [],\n",
       " [],\n",
       " [],\n",
       " [],\n",
       " [<b> la querella, a cargo de Matías Adet no formuló pedido de pena por requerimiento de los familiares, que escribieron una carta en la que solicitaron saber la verdad y hallar el cuerpo de Martin.</b>],\n",
       " [],\n",
       " [],\n",
       " [<b> aseguraron no ser los autores del hecho</b>,\n",
       "  <b> afirmaron que ambos fueron obligados a confesar el crimen luego de sufrir maltratos de la policía</b>],\n",
       " [<b>Mathieu Pierre Martin desapareció en agosto de 2018, cuando recorría el norte argentino como mochilero</b>],\n",
       " [<b>su cuerpo nunca fue hallado.</b>]]"
      ]
     },
     "execution_count": 171,
     "metadata": {},
     "output_type": "execute_result"
    }
   ],
   "source": [
    "[x.find_all('b') for x in sopa.find('section',{'id':'cuerpo'}).find_all('p', recursive=False)]"
   ]
  },
  {
   "cell_type": "markdown",
   "metadata": {},
   "source": [
    "## Comentarios"
   ]
  },
  {
   "cell_type": "code",
   "execution_count": 188,
   "metadata": {},
   "outputs": [],
   "source": [
    "import base64\n",
    "token=base64.b64encode(bytes(sopa.find('div',{'id' : 'tokenLF'}).get('data-entrada'), 'utf-8')).decode('ascii')"
   ]
  },
  {
   "cell_type": "code",
   "execution_count": 189,
   "metadata": {},
   "outputs": [],
   "source": [
    "com=r.get('https://data.livefyre.com/bs3/v3.1/la-nacion.fyre.co/356483/'+token+'/init')\n",
    "data=com.json()"
   ]
  },
  {
   "cell_type": "code",
   "execution_count": 190,
   "metadata": {
    "scrolled": false
   },
   "outputs": [
    {
     "data": {
      "text/plain": [
       "{'nPages': 1,\n",
       " 'pageInfo': {'0': {'url': '/la-nacion.fyre.co/356483/MTY5MjY5NQ==/0.json',\n",
       "   'last': 1606271934,\n",
       "   'first': 1606270635}},\n",
       " 'pathBase': '/la-nacion.fyre.co/356483/MTY5MjY5NQ==/'}"
      ]
     },
     "execution_count": 190,
     "metadata": {},
     "output_type": "execute_result"
    }
   ],
   "source": [
    "data['collectionSettings']['archiveInfo']"
   ]
  },
  {
   "cell_type": "code",
   "execution_count": 27,
   "metadata": {},
   "outputs": [
    {
     "ename": "NameError",
     "evalue": "name 'sopa' is not defined",
     "output_type": "error",
     "traceback": [
      "\u001b[1;31m---------------------------------------------------------------------------\u001b[0m",
      "\u001b[1;31mNameError\u001b[0m                                 Traceback (most recent call last)",
      "\u001b[1;32m<ipython-input-27-797e47c2344d>\u001b[0m in \u001b[0;36m<module>\u001b[1;34m\u001b[0m\n\u001b[0;32m      1\u001b[0m \u001b[1;32mimport\u001b[0m \u001b[0mbase64\u001b[0m\u001b[1;33m\u001b[0m\u001b[1;33m\u001b[0m\u001b[0m\n\u001b[1;32m----> 2\u001b[1;33m \u001b[0mtoken\u001b[0m\u001b[1;33m=\u001b[0m\u001b[0mbase64\u001b[0m\u001b[1;33m.\u001b[0m\u001b[0mb64encode\u001b[0m\u001b[1;33m(\u001b[0m\u001b[0mbytes\u001b[0m\u001b[1;33m(\u001b[0m\u001b[0msopa\u001b[0m\u001b[1;33m.\u001b[0m\u001b[0mfind\u001b[0m\u001b[1;33m(\u001b[0m\u001b[1;34m'div'\u001b[0m\u001b[1;33m,\u001b[0m\u001b[1;33m{\u001b[0m\u001b[1;34m'id'\u001b[0m \u001b[1;33m:\u001b[0m \u001b[1;34m'tokenLF'\u001b[0m\u001b[1;33m}\u001b[0m\u001b[1;33m)\u001b[0m\u001b[1;33m.\u001b[0m\u001b[0mget\u001b[0m\u001b[1;33m(\u001b[0m\u001b[1;34m'data-entrada'\u001b[0m\u001b[1;33m)\u001b[0m\u001b[1;33m,\u001b[0m \u001b[1;34m'utf-8'\u001b[0m\u001b[1;33m)\u001b[0m\u001b[1;33m)\u001b[0m\u001b[1;33m.\u001b[0m\u001b[0mdecode\u001b[0m\u001b[1;33m(\u001b[0m\u001b[1;34m'ascii'\u001b[0m\u001b[1;33m)\u001b[0m\u001b[1;33m\u001b[0m\u001b[1;33m\u001b[0m\u001b[0m\n\u001b[0m\u001b[0;32m      3\u001b[0m \u001b[0mcom\u001b[0m\u001b[1;33m=\u001b[0m\u001b[0mr\u001b[0m\u001b[1;33m.\u001b[0m\u001b[0mget\u001b[0m\u001b[1;33m(\u001b[0m\u001b[1;34m'https://data.livefyre.com/bs3/v3.1/la-nacion.fyre.co/356483/'\u001b[0m\u001b[1;33m+\u001b[0m\u001b[0mtoken\u001b[0m\u001b[1;33m+\u001b[0m\u001b[1;34m'/init'\u001b[0m\u001b[1;33m)\u001b[0m\u001b[1;33m\u001b[0m\u001b[1;33m\u001b[0m\u001b[0m\n\u001b[0;32m      4\u001b[0m \u001b[0mdata\u001b[0m\u001b[1;33m=\u001b[0m\u001b[0mcom\u001b[0m\u001b[1;33m.\u001b[0m\u001b[0mjson\u001b[0m\u001b[1;33m(\u001b[0m\u001b[1;33m)\u001b[0m\u001b[1;33m\u001b[0m\u001b[1;33m\u001b[0m\u001b[0m\n\u001b[0;32m      5\u001b[0m \u001b[0mnp\u001b[0m\u001b[1;33m=\u001b[0m\u001b[0mdata\u001b[0m\u001b[1;33m[\u001b[0m\u001b[1;34m'collectionSettings'\u001b[0m\u001b[1;33m]\u001b[0m\u001b[1;33m[\u001b[0m\u001b[1;34m'archiveInfo'\u001b[0m\u001b[1;33m]\u001b[0m\u001b[1;33m[\u001b[0m\u001b[1;34m'nPages'\u001b[0m\u001b[1;33m]\u001b[0m\u001b[1;33m\u001b[0m\u001b[1;33m\u001b[0m\u001b[0m\n",
      "\u001b[1;31mNameError\u001b[0m: name 'sopa' is not defined"
     ]
    }
   ],
   "source": [
    "import base64\n",
    "token=base64.b64encode(bytes(sopa.find('div',{'id' : 'tokenLF'}).get('data-entrada'), 'utf-8')).decode('ascii')\n",
    "com=r.get('https://data.livefyre.com/bs3/v3.1/la-nacion.fyre.co/356483/'+token+'/init')\n",
    "data=com.json()\n",
    "np=data['collectionSettings']['archiveInfo']['nPages']\n",
    "coms=[]\n",
    "for n in range(0,np):\n",
    "    com=r.get('https://data.livefyre.com/bs3/v3.1/la-nacion.fyre.co/356483/'+token+'/'+str(n)+'.json')\n",
    "    coms.extend(com.json()['content'][:])\n",
    "    time.sleep(0.2)\n",
    "    "
   ]
  },
  {
   "cell_type": "code",
   "execution_count": 32,
   "metadata": {},
   "outputs": [
    {
     "name": "stdout",
     "output_type": "stream",
     "text": [
      "1 {'erefs': ['OusKWgPOYjBaqossSlsPtwTvPbHkvjB81arbmR1SEUmv9KewPcGjE95jl9UHlFReEgJBmHslU8+KHN0='], 'vis': 2, 'collectionId': '250152065', 'content': {'id': '879630414', 'createdAt': 1607433838, 'parentId': ''}, 'source': 5, 'type': 0, 'event': 1607433909690350}\n",
      "8 {'erefs': ['3TCTZLVyvPo+kY2UeEQH8ONn2KV50L0uW1qRDXsH+veAh5/zL606kDqQuayPdQD/m023DQRA+Tc7bEk='], 'vis': 2, 'collectionId': '250152065', 'content': {'id': '879630552', 'createdAt': 1607433980, 'parentId': ''}, 'source': 5, 'type': 0, 'event': 1607433980789465}\n",
      "11 {'erefs': ['u73Khg4X1a1/VA1w6ecMB/N+89QfvZr/aOnx3RyGaeykE6jN5p/3Mp6uAiMn1IbUVXAX7f9pNYCmXWY='], 'vis': 2, 'collectionId': '250152065', 'content': {'id': '879630608', 'createdAt': 1607434044, 'parentId': ''}, 'source': 5, 'type': 0, 'event': 1607434045124678}\n",
      "12 {'erefs': ['OusKWgPOYjBaqossSlkPtgTvPbG27DUr16GClR9SQBOp86Gzb8GlHYUzl4RQkwNeRAZFwCsvVc2KTY8='], 'vis': 2, 'collectionId': '250152065', 'content': {'id': '879630615', 'createdAt': 1607434050, 'parentId': ''}, 'source': 5, 'type': 0, 'event': 1607434092714151}\n",
      "13 {'vis': 0, 'collectionId': '250152065', 'content': {'id': '879630616', 'createdAt': 1607434051, 'parentId': ''}, 'source': 5, 'type': 0, 'event': 1607434079730545}\n",
      "17 {'vis': 0, 'collectionId': '250152065', 'content': {'ancestorId': '879630649', 'id': '879630945', 'createdAt': 1607434372, 'parentId': '879630916'}, 'source': 5, 'type': 0, 'event': 1607434688415784}\n",
      "19 {'vis': 0, 'collectionId': '250152065', 'content': {'id': '879630673', 'createdAt': 1607434111, 'parentId': ''}, 'source': 5, 'type': 0, 'event': 1607434141480108}\n",
      "22 {'erefs': ['nbU3rqCKjDzfJA/znDE8ZafdKLP49pxnMqsJ7QvT887ZDbbBYtQVSopugJyGu6c9cyAqdlxDYHX2Sc8='], 'vis': 2, 'collectionId': '250152065', 'content': {'id': '879630688', 'createdAt': 1607434126, 'parentId': ''}, 'source': 5, 'type': 0, 'event': 1607434147778926}\n",
      "23 {'erefs': ['xCGzaCgq2Zm7rflk8XVkPnUGcDM1qBapSQqG9U8LY+5+ZF/oS8R7RmEjZfzQqoLI969GOCK76kwWco8='], 'vis': 2, 'collectionId': '250152065', 'content': {'id': '879630690', 'createdAt': 1607434127, 'parentId': ''}, 'source': 5, 'type': 0, 'event': 1607434127657463}\n",
      "28 {'erefs': ['yQLgY2gkEnSK0cq8OVbCy/dNkfmv0MTDD81vBujXlZA4GWSWgxPUKr1dVADGpP9HgpSlTZDqIgtENVI='], 'vis': 2, 'collectionId': '250152065', 'content': {'id': '879630722', 'createdAt': 1607434156, 'parentId': ''}, 'source': 5, 'type': 0, 'event': 1607434209693169}\n",
      "31 {'erefs': ['mUcJsqORBfSsHS39IvCXbtvlQQMHcK36+RVsz9PC88CHcz3CeOIdeOvFt0RoeavsSkkRcMQiKDoIu+A='], 'vis': 2, 'collectionId': '250152065', 'content': {'ancestorId': '879630731', 'id': '879630796', 'createdAt': 1607434238, 'parentId': '879630731'}, 'source': 5, 'type': 0, 'event': 1607434238583437}\n",
      "34 {'erefs': ['mUcJsqORBfSsHS39Iv6aYNvlQQJdIvr8q0FvyNfF/c6BdGDAKuoZdOiWtUloePm9EEMaK8svLzRfuOE='], 'vis': 2, 'collectionId': '250152065', 'content': {'ancestorId': '879630731', 'id': '879630948', 'createdAt': 1607434375, 'parentId': '879630876'}, 'source': 5, 'type': 0, 'event': 1607434393693688}\n",
      "47 {'erefs': ['XBEoWJY1sBtjkdiEcfTKCEqG/0MUyzYGqTuXLrSP94g9uVKlVHf63kd5Mm2LP/AEcvnwTIuc7AEU6xE='], 'vis': 2, 'collectionId': '250152065', 'content': {'ancestorId': '879630813', 'id': '879630934', 'createdAt': 1607434366, 'parentId': '879630813'}, 'source': 5, 'type': 0, 'event': 1607434397690730}\n",
      "53 {'erefs': ['yQLgY2gkEnSK0cq8OVnJyPdNkamqhcycDZE4Ae6PkcA8HmHD1RaGfbhTDg+Sp/RD08OhG5y/Jg5JZVc='], 'vis': 2, 'collectionId': '250152065', 'content': {'ancestorId': '879630830', 'id': '879630891', 'createdAt': 1607434328, 'parentId': '879630830'}, 'source': 5, 'type': 0, 'event': 1607434411685929}\n",
      "55 {'erefs': ['fIbrvEMhxOMsXwlpqpKz1g/Zqzv2kLBnHm/ILfMpGK+FYaIyP80EXYbH7mzHfQw+jnfM4zaLbBGbFZE='], 'vis': 2, 'collectionId': '250152065', 'content': {'id': '879630837', 'createdAt': 1607434282, 'parentId': ''}, 'source': 5, 'type': 0, 'event': 1607434335647476}\n",
      "56 {'erefs': ['QnlMvx3SUZct9kiBJeosgkB92SSRU2Mix7XLdw+tuFX5RapoYRlyvZGiVj4fp+4q/Q5LwRgW2eNCjHU='], 'vis': 2, 'collectionId': '250152065', 'content': {'id': '879630856', 'createdAt': 1607434300, 'parentId': ''}, 'source': 5, 'type': 0, 'event': 1607434339699046}\n",
      "57 {'erefs': ['rwYpE0WQQ36oS6Qri6ZytNmF4Z2O/6doSlwe3pE76I7DRQ9LCIgbRbC4bWgO0TYILpUHMsjt+ixFRt4='], 'vis': 2, 'collectionId': '250152065', 'content': {'ancestorId': '879630856', 'id': '879630897', 'createdAt': 1607434336, 'parentId': '879630856'}, 'source': 5, 'type': 0, 'event': 1607434336355660}\n",
      "65 {'erefs': ['OusKWgPOYjBaqossSlYOsgTvPbfgujso0aqNmR1cERX5pvu1bpTwHdhjmNVRwlMIRg5JnysvDsvQToo='], 'vis': 2, 'collectionId': '250152065', 'content': {'id': '879630901', 'createdAt': 1607434337, 'parentId': ''}, 'source': 0, 'type': 0, 'event': 1607434397697499}\n",
      "67 {'erefs': ['39uzT23Fcza+IS2/CTJpCigrBI/nx+AYhSHBDPaUXpePw5MKBLGWw6aIahgthwvEFFqjF4ngQf/eDSI='], 'vis': 2, 'collectionId': '250152065', 'content': {'id': '879630983', 'createdAt': 1607434403, 'parentId': ''}, 'source': 5, 'type': 0, 'event': 1607434447736052}\n",
      "70 {'erefs': ['7TZfplWHO3Co+eYP4qPHDmMPg8D29HS/XIuq1GKLO2TtDX4gNkTsNUZkjwKs23cG+Tpq1oSsQ1+q1vY='], 'vis': 2, 'collectionId': '250152065', 'content': {'ancestorId': '879630989', 'id': '879631573', 'createdAt': 1607434950, 'parentId': '879630989'}, 'source': 5, 'type': 0, 'event': 1607434951166889}\n",
      "71 {'erefs': ['7TZfplWHO3Co+eYP4qTDD2MPg5LyoyK9Xt35gjCIaWa/ACR9NB7tZBNj1QSr0CJW+WxqgIetH1Kkhao='], 'vis': 2, 'collectionId': '250152065', 'content': {'ancestorId': '879630989', 'id': '879631232', 'createdAt': 1607434652, 'parentId': '879630989'}, 'source': 5, 'type': 0, 'event': 1607434690708906}\n",
      "75 {'erefs': ['hu+DitTvOAsUYn2EpffjPaNfTZlZHF1s0cQfeBaZRtYUQ8SrmsozAIKoYvb7poQRPahPp61pOVUAw4Q='], 'vis': 2, 'collectionId': '250152065', 'content': {'ancestorId': '879630989', 'id': '879631095', 'createdAt': 1607434508, 'parentId': '879630989'}, 'source': 5, 'type': 0, 'event': 1607434508597295}\n",
      "79 {'vis': 0, 'collectionId': '250152065', 'content': {'ancestorId': '879630989', 'id': '879631087', 'createdAt': 1607434502, 'parentId': '879630989'}, 'source': 5, 'type': 0, 'event': 1607434524191232}\n",
      "94 {'erefs': ['Vo0yuAGS+cLvXrd7s2u6VYU0N4PlZxDzI5W2z2ZHvGhrjb9gt98bbocIzEIBvpMkAYmrkhKHIWqFclg='], 'vis': 2, 'collectionId': '250152065', 'content': {'id': '879631151', 'createdAt': 1607434567, 'parentId': ''}, 'source': 5, 'type': 0, 'event': 1607434633681110}\n",
      "99 {'erefs': ['xCGzaCgq2Zm7rflk8HJkN3UGcGEy+Rb9Twzb9h0PNrN+ZwvhHJF/Q2cgP/6N/dHApPxMOSS970sQId4='], 'vis': 2, 'collectionId': '250152065', 'content': {'id': '879631199', 'createdAt': 1607434618, 'parentId': ''}, 'source': 5, 'type': 0, 'event': 1607434704668615}\n",
      "102 {'erefs': ['wCz+Ej9xtfcZ1fYtTzk2FZ65O3BIhjhTGoI3tECwpDEC4cxL4zr5n1Wb0QfcSkuOJj2PpdHv8UEIBGs='], 'vis': 2, 'collectionId': '250152065', 'content': {'id': '879631227', 'createdAt': 1607434647, 'parentId': ''}, 'source': 5, 'type': 0, 'event': 1607434647926978}\n",
      "111 {'erefs': ['ByXv+/mMfy85mt+NB5HpxZY604grFHJQa54hCxM98/fSDvBDJjIadsGe3DhVMe3odhGlaIrs9qvm09U='], 'vis': 2, 'collectionId': '250152065', 'content': {'id': '879631233', 'createdAt': 1607434653, 'parentId': ''}, 'source': 5, 'type': 0, 'event': 1607434692688490}\n",
      "117 {'erefs': ['63bAs4zimAar79VbvRT7by2fJVau/ZwaBDpsBprjry8VSv77bEyTCKMI4vcn4Pww6dI02QokQ89MMJo='], 'vis': 2, 'collectionId': '250152065', 'content': {'ancestorId': '879631287', 'id': '879631643', 'createdAt': 1607435015, 'parentId': '879631287'}, 'source': 5, 'type': 0, 'event': 1607435064721893}\n",
      "127 {'erefs': ['AR51N0q8WH5C5HRS6bEooAjcyugOlyh1WGWDpFUgNQR3Q6qvPw0oPCf8WPNjUDTZ3F4SVscM7yRGUTs='], 'vis': 2, 'collectionId': '250152065', 'content': {'ancestorId': '879631366', 'id': '879631570', 'createdAt': 1607434950, 'parentId': '879631366'}, 'source': 5, 'type': 0, 'event': 1607434950226373}\n",
      "128 {'erefs': ['3izDajf/V5xTLQ1gVl+Ed5yFl5KKL+vT424VtgEqsSQVLqVRiuYoq9QD9hK3xMfEWkqeN5z8LR+NUg0='], 'vis': 2, 'collectionId': '250152065', 'content': {'ancestorId': '879631366', 'id': '879631558', 'createdAt': 1607434939, 'parentId': '879631366'}, 'source': 5, 'type': 0, 'event': 1607434939175478}\n",
      "130 {'erefs': ['wA4F8rO+A5M5jn1jJR03PTg6CdUEB7zqUl35Xq35nOPUA30hn0gIrnyhZiR7H7nGilLx3DHfBzL1efk='], 'vis': 2, 'collectionId': '250152065', 'content': {'ancestorId': '879631366', 'id': '879631427', 'createdAt': 1607434821, 'parentId': '879631366'}, 'source': 5, 'type': 0, 'event': 1607434821271097}\n",
      "133 {'erefs': ['OusKWgPOYjBaqossS1wHtQTvPbHkvTR1g/bexUhRRhX+ovfla5WjGo8xz9IClwQIF1VCmCx0D8iNGYw='], 'vis': 2, 'collectionId': '250152065', 'content': {'ancestorId': '879631366', 'id': '879631396', 'createdAt': 1607434799, 'parentId': '879631366'}, 'source': 5, 'type': 0, 'event': 1607434884761046}\n",
      "139 {'vis': 0, 'collectionId': '250152065', 'content': {'id': '879631436', 'createdAt': 1607434827, 'parentId': ''}, 'source': 5, 'type': 0, 'event': 1607434874597437}\n",
      "140 {'erefs': ['qT1H74s7y8gQaKylwv1dAoQ07FACCv/ajSDY4XuEb6p+/mjJBXA8/cAfc9de4gZaTJlzIJbfFzTCM94='], 'vis': 2, 'collectionId': '250152065', 'content': {'id': '879631442', 'createdAt': 1607434829, 'parentId': ''}, 'source': 5, 'type': 0, 'event': 1607434886982846}\n",
      "143 {'erefs': ['4vC5wQxMKLIBDygx9kCB213rhJwBYoXDQ6fgfR/y1I2bkXTqVrpdBIUDu/qFvJlOM+p0MbjIdHuOUBM='], 'vis': 2, 'collectionId': '250152065', 'content': {'ancestorId': '879631490', 'id': '879631630', 'createdAt': 1607435006, 'parentId': '879631490'}, 'source': 5, 'type': 0, 'event': 1607435006715773}\n",
      "144 {'vis': 0, 'collectionId': '250152065', 'content': {'id': '879631513', 'createdAt': 1607434900, 'parentId': ''}, 'source': 5, 'type': 0, 'event': 1607434941537731}\n",
      "153 {'erefs': ['u73Khg4X1a1/VA1w6OcND/N+89JHvp7zaLP9jRSHbe+pSKXO5pSlMcquVSZw19aBAHdCufJtMoPyAGE='], 'vis': 2, 'collectionId': '250152065', 'content': {'ancestorId': '879631561', 'id': '879631610', 'createdAt': 1607434983, 'parentId': '879631561'}, 'source': 5, 'type': 0, 'event': 1607434983959618}\n",
      "157 {'erefs': ['u73Khg4X1a1/VA1w6OYND/N+89Eb7c3/auL9iEfWaOukQfLJsJ2kOpn/BSVy2YfTUXJC6PRvZ9GvCmY='], 'vis': 2, 'collectionId': '250152065', 'content': {'ancestorId': '879631561', 'id': '879631710', 'createdAt': 1607435088, 'parentId': '879631657'}, 'source': 5, 'type': 0, 'event': 1607435125701436}\n",
      "160 {'erefs': ['TEihR9D+P5Oow23kV7/f93OyAlf1kJmSCDhqKStX9gpXxeXteheDU21x0swyZNvcO51LlLvDyPq166k='], 'vis': 2, 'collectionId': '250152065', 'content': {'id': '879631572', 'createdAt': 1607434950, 'parentId': ''}, 'source': 5, 'type': 0, 'event': 1607434992697026}\n",
      "162 {'erefs': ['ByXv+/mMfy85mt+NB5Xqz5Y6040vRSAAOMYhXhNuo/WGWftHcWZIJ8HL3GwAY+a4cxTwOIa99Pm0g9M='], 'vis': 2, 'collectionId': '250152065', 'content': {'id': '879631609', 'createdAt': 1607434983, 'parentId': ''}, 'source': 5, 'type': 0, 'event': 1607435056696147}\n",
      "164 {'erefs': ['0HPbixUz44HisJUD6Lv82rCk8lkqo9zukDpjnQLLVWoc3pCgz92YtC7Ruq0t/dyxII2+hC6FaB/zoDw='], 'vis': 2, 'collectionId': '250152065', 'content': {'id': '879631627', 'createdAt': 1607435002, 'parentId': ''}, 'source': 5, 'type': 0, 'event': 1607435046832529}\n",
      "165 {'erefs': ['u73Khg4X1a1/VA1w6OcKCvN+89BOsM7/Zujy3UeHa7n2E/Sc75r3NJ/8V3cjh9zQU3IWvvJqP4OkADQ='], 'vis': 2, 'collectionId': '250152065', 'content': {'ancestorId': '879631627', 'id': '879631665', 'createdAt': 1607435042, 'parentId': '879631627'}, 'source': 5, 'type': 0, 'event': 1607435042457506}\n",
      "167 {'erefs': ['qT1H74s7y8gQaKylwv9cBIQ07FxSW/nb3yeLsXnRPP18/GvHAHY7qpFOI9cKulEMH8J5dcDREmDBZt4='], 'vis': 2, 'collectionId': '250152065', 'content': {'id': '879631654', 'createdAt': 1607435029, 'parentId': ''}, 'source': 5, 'type': 0, 'event': 1607435062717962}\n",
      "171 {'vis': 0, 'collectionId': '250152065', 'content': {'id': '879631687', 'createdAt': 1607435063, 'parentId': ''}, 'source': 5, 'type': 0, 'event': 1607435206326940}\n",
      "173 {'erefs': ['ZpdicDoHX+35VEp9ud5fNNo7zPJKpqSmInwQSMwtFl0TpDcjZUx1/b6W3pVzjecxBN+WpE0YWZyrcrE='], 'vis': 2, 'collectionId': '250152065', 'content': {'ancestorId': '879631690', 'id': '879631763', 'createdAt': 1607435143, 'parentId': '879631690'}, 'source': 5, 'type': 0, 'event': 1607435170682776}\n",
      "175 {'vis': 0, 'collectionId': '250152065', 'content': {'id': '879631694', 'createdAt': 1607435071, 'parentId': ''}, 'source': 5, 'type': 0, 'event': 1607435095008621}\n",
      "184 {'erefs': ['5Bs8bMjFzg4+NqFGNUjzc3cyuVl764KApjAtbsPsrsFV9hv4rjLhixQUfiSri148vo4APUABIARNQSE='], 'vis': 2, 'collectionId': '250152065', 'content': {'ancestorId': '879631721', 'id': '879632185', 'createdAt': 1607435540, 'parentId': '879632162'}, 'source': 5, 'type': 0, 'event': 1607435597721358}\n",
      "185 {'erefs': ['mHEocpHfKJDwCkMLsRGUwPixddAUa3bEc9heUWBbqEm7JmMxSB6J6MLrShuDjo3hvULjcxNZ1hKA2WE='], 'vis': 2, 'collectionId': '250152065', 'content': {'ancestorId': '879631721', 'id': '879632162', 'createdAt': 1607435512, 'parentId': '879631772'}, 'source': 5, 'type': 0, 'event': 1607435540675909}\n",
      "188 {'erefs': ['ZWJT9vCBiVQ4rYgSDTI4qki5f/VQF9+br5t3RnBEjcaY74i+WicfG+Zb87oIgbgTpkawQf+vb08DgHw='], 'vis': 2, 'collectionId': '250152065', 'content': {'id': '879631733', 'createdAt': 1607435114, 'parentId': ''}, 'source': 5, 'type': 0, 'event': 1607435114713855}\n",
      "190 {'vis': 0, 'collectionId': '250152065', 'content': {'ancestorId': '879631740', 'id': '879631830', 'createdAt': 1607435220, 'parentId': '879631740'}, 'source': 5, 'type': 0, 'event': 1607435289321250}\n",
      "191 {'vis': 0, 'collectionId': '250152065', 'content': {'id': '879631758', 'createdAt': 1607435134, 'parentId': ''}, 'source': 5, 'type': 0, 'event': 1607435170685649}\n",
      "196 {'erefs': ['qT1H74s7y8gQaKylwvFZAIQ07F1RXPzc0SqD4yDSa6op/27KUHM68JBJI94L6gBcS8h7JJTfEmfDM98='], 'vis': 2, 'collectionId': '250152065', 'content': {'id': '879631800', 'createdAt': 1607435191, 'parentId': ''}, 'source': 5, 'type': 0, 'event': 1607435191955394}\n",
      "205 {'erefs': ['eO0k2xMIpDq6mICHHl9sfcRWZU0AgugQjY9L2edkpI0Lc1pnl3q3UarIdaZ/K6A9bew8qf+IK0zzDKA='], 'vis': 2, 'collectionId': '250152065', 'content': {'id': '879631821', 'createdAt': 1607435213, 'parentId': ''}, 'source': 0, 'type': 0, 'event': 1607435442946304}\n",
      "206 {'erefs': ['L2G2xmjmbLRs/31T/AIgBt1moAq8T6F817mfxBwY4zwRZw7gkGB2NkyGOKzC5DIUrM1RpqZwweWEkzk='], 'vis': 2, 'collectionId': '250152065', 'content': {'id': '879631826', 'createdAt': 1607435218, 'parentId': ''}, 'source': 5, 'type': 0, 'event': 1607435219079500}\n",
      "213 {'erefs': ['7HqQzPiQKa6C+lIN/qyyRF68i0Sp3P1DGlJvLJyDaNE5IlqHYxvHKAbMg5WrcoZfx1YK3XnTYgP0f3Y='], 'vis': 2, 'collectionId': '250152065', 'content': {'ancestorId': '879631891', 'id': '879631990', 'createdAt': 1607435359, 'parentId': '879631891'}, 'source': 5, 'type': 0, 'event': 1607435414697250}\n",
      "214 {'erefs': ['u73Khg4X1a1/VA1w6+MEB/N+84Yf6ZSib+imjB2DO+ikQKCU55WlMM+iA3N30YGAAicR7vY7MtH3XDI='], 'vis': 2, 'collectionId': '250152065', 'content': {'ancestorId': '879631891', 'id': '879632288', 'createdAt': 1607435649, 'parentId': '879631891'}, 'source': 5, 'type': 0, 'event': 1607435649297722}\n",
      "218 {'erefs': ['hyQPPJ48kgxjhl9zzkr+jXhJqtsHpacwWM10M8PPf/OBgD62QGIFuM9cXY4WvfgcO4HnjR+AxTO+isc='], 'vis': 2, 'collectionId': '250152065', 'content': {'ancestorId': '879631891', 'id': '879632047', 'createdAt': 1607435408, 'parentId': '879632013'}, 'source': 5, 'type': 0, 'event': 1607435493816970}\n",
      "226 {'erefs': ['jv6ehpD/dTx7amAarxdpJptTzPlI8j1zUA1DKfRsBMGqgYPujn2Hsh6evKDXs+eNY2JxGvTBs+qRvRk='], 'vis': 2, 'collectionId': '250152065', 'content': {'id': '879631960', 'createdAt': 1607435339, 'parentId': ''}, 'source': 5, 'type': 0, 'event': 1607435408710866}\n",
      "229 {'erefs': ['OFMfP7gdQsPfJUEEL17P2kmlPU4i5ZkyBNB18M9vFM6c0xWf+gUebUV4U14xwrc9Jdn+UE4GPSArFwA='], 'vis': 2, 'collectionId': '250152065', 'content': {'id': '879631991', 'createdAt': 1607435360, 'parentId': ''}, 'source': 5, 'type': 0, 'event': 1607435418711824}\n",
      "230 {'vis': 0, 'collectionId': '250152065', 'content': {'id': '879631992', 'createdAt': 1607435360, 'parentId': ''}, 'source': 5, 'type': 0, 'event': 1607435404686989}\n",
      "237 {'erefs': ['AqHPyopHiEZKzUk7AgsISmNzLOjHEzXwB/RESJFUegKY4s6K9z/9QL7BND9V6siuwwy69Ds+/wZ5zuU='], 'vis': 2, 'collectionId': '250152065', 'content': {'id': '879632037', 'createdAt': 1607435399, 'parentId': ''}, 'source': 5, 'type': 0, 'event': 1607435493790710}\n",
      "243 {'vis': 0, 'collectionId': '250152065', 'content': {'id': '879632078', 'createdAt': 1607435437, 'parentId': ''}, 'source': 5, 'type': 0, 'event': 1607435461410768}\n",
      "248 {'erefs': ['5Bs8bMjFzg4+NqFGNUj5dHcyuVks74PV9zwtO8Lo/pQCpxv/rjLtgkYRfHOqjFky6d4Jb0VdJAQeGiA='], 'vis': 2, 'collectionId': '250152065', 'content': {'id': '879632122', 'createdAt': 1607435473, 'parentId': ''}, 'source': 5, 'type': 0, 'event': 1607435540685298}\n",
      "252 {'erefs': ['u73Khg4X1a1/VA1w6+MNCPN+89cbvM//ZuCg2haGObnyFKaV5Jz3ZpysAi8g0daDAHITufc7M9SkDjA='], 'vis': 2, 'collectionId': '250152065', 'content': {'ancestorId': '879632147', 'id': '879632217', 'createdAt': 1607435571, 'parentId': '879632147'}, 'source': 5, 'type': 0, 'event': 1607435571327819}\n",
      "253 {'vis': 0, 'collectionId': '250152065', 'content': {'ancestorId': '879632147', 'id': '879632294', 'createdAt': 1607435652, 'parentId': '879632147'}, 'source': 5, 'type': 0, 'event': 1607435652906713}\n",
      "254 {'vis': 0, 'collectionId': '250152065', 'content': {'ancestorId': '879632147', 'id': '879632263', 'createdAt': 1607435617, 'parentId': '879632147'}, 'source': 5, 'type': 0, 'event': 1607435633610096}\n",
      "255 {'vis': 0, 'collectionId': '250152065', 'content': {'id': '879632152', 'createdAt': 1607435496, 'parentId': ''}, 'source': 5, 'type': 0, 'event': 1607435523026161}\n",
      "257 {'vis': 0, 'collectionId': '250152065', 'content': {'ancestorId': '879632168', 'id': '879632240', 'createdAt': 1607435596, 'parentId': '879632168'}, 'source': 5, 'type': 0, 'event': 1607435610951969}\n",
      "261 {'erefs': ['oTxYf9zrSOalEbsN+CZgleO8+Y78TkADKhpUC5hQeAvw24LG6GA9J6Uii3ize7Vg2s8H7atx+XaFk7s='], 'vis': 2, 'collectionId': '250152065', 'content': {'id': '879632191', 'createdAt': 1607435546, 'parentId': ''}, 'source': 5, 'type': 0, 'event': 1607435546514612}\n",
      "272 {'erefs': ['u73Khg4X1a1/VA1w6+ULD/N+89cYsc//b7Lx3BKAZr+nFfOd7p+tYMv+U3d22NHTCCBH5vFnN4WiD2I='], 'vis': 2, 'collectionId': '250152065', 'content': {'ancestorId': '879632248', 'id': '879632470', 'createdAt': 1607435806, 'parentId': '879632432'}, 'source': 5, 'type': 0, 'event': 1607435806695638}\n",
      "274 {'erefs': ['rIPG7QXBbVmh6M6pYPxju3sSK4qbU5zdLoriACpgH0Xatf2oqZOrV/1aw7/qeER7f7S4WHYGAYj7CtU='], 'vis': 2, 'collectionId': '250152065', 'content': {'id': '879632251', 'createdAt': 1607435604, 'parentId': ''}, 'source': 5, 'type': 0, 'event': 1607435659676854}\n",
      "285 {'vis': 0, 'collectionId': '250152065', 'content': {'id': '879632268', 'createdAt': 1607435624, 'parentId': ''}, 'source': 5, 'type': 0, 'event': 1607435672093527}\n",
      "288 {'erefs': ['gko1Q6ksKSsx8ozcjmHi4cu+9IbJp2EIO9cweoJyaY4aXunonSG5POq3AXOfUjLXvFBxKtL1Wuyck80='], 'vis': 2, 'collectionId': '250152065', 'content': {'ancestorId': '879632279', 'id': '879632915', 'createdAt': 1607436178, 'parentId': '879632279'}, 'source': 5, 'type': 0, 'event': 1607436249775505}\n",
      "289 {'erefs': ['EqApgKPYOszzOp+lwrNOb0KIy5xBCzFSN74u1UXdE8W1J34CgyZpdm/ohRpO2bWLSnze2pmH35mu35M='], 'vis': 2, 'collectionId': '250152065', 'content': {'ancestorId': '879632279', 'id': '879632351', 'createdAt': 1607435703, 'parentId': '879632279'}, 'source': 5, 'type': 0, 'event': 1607435703151132}\n",
      "292 {'erefs': ['OusKWgPOYjBaqossSFsNtwTvPeDnuTF11qGPlhlUREaupaGyaZaiEoU1nY0CxwVYRANGwHpyVJ3cS9o='], 'vis': 2, 'collectionId': '250152065', 'content': {'ancestorId': '879632279', 'id': '879632434', 'createdAt': 1607435777, 'parentId': '879632372'}, 'source': 5, 'type': 0, 'event': 1607435825808405}\n",
      "301 {'erefs': ['OusKWgPOYjBaqossSFwMtwTvPbXhvTQuhvCOlBlSR0eu9/PnOMSnGIpuy9ZQx1MJHABDyC0gA8OKGNo='], 'vis': 2, 'collectionId': '250152065', 'content': {'id': '879632324', 'createdAt': 1607435679, 'parentId': ''}, 'source': 5, 'type': 0, 'event': 1607435705814978}\n",
      "312 {'erefs': ['HZ6jJmBSjIWi49Zi8xmJY4SprXA9Syw848vmgQDMvtBh2K5RwGe4bmZQ+wK2RO6ZBh6SLJv8bUKxCQg='], 'vis': 2, 'collectionId': '250152065', 'content': {'ancestorId': '879632332', 'id': '879632377', 'createdAt': 1607435726, 'parentId': '879632332'}, 'source': 5, 'type': 0, 'event': 1607435769644265}\n",
      "315 {'erefs': ['gko1Q6ksKSsx8ozcjm7i7cu+9IHKpTcFb4Uwe9N3YYlHW7nvzHbkOOrjDXTKBWCC6AFyKYWiDb7Jxp4='], 'vis': 2, 'collectionId': '250152065', 'content': {'ancestorId': '879632354', 'id': '879632619', 'createdAt': 1607435923, 'parentId': '879632378'}, 'source': 5, 'type': 0, 'event': 1607435980695921}\n",
      "318 {'erefs': ['u73Khg4X1a1/VA1w6+QPCvN+84dJ68qnb7Ki2hKBZr6lFKWV4s3xOp//BHIkg9LRAHBB5vFnZ4fwC2Y='], 'vis': 2, 'collectionId': '250152065', 'content': {'ancestorId': '879632354', 'id': '879632535', 'createdAt': 1607435860, 'parentId': '879632378'}, 'source': 5, 'type': 0, 'event': 1607435860333801}\n",
      "324 {'vis': 0, 'collectionId': '250152065', 'content': {'id': '879632397', 'createdAt': 1607435745, 'parentId': ''}, 'source': 5, 'type': 0, 'event': 1607435799675067}\n",
      "326 {'erefs': ['u73Khg4X1a1/VA1w6+UNBvN+89xHsZTybeOi3BfTOr+oEfOY4pWhZ5+jBS9309CDCCVDvfc9YtOhCWk='], 'vis': 2, 'collectionId': '250152065', 'content': {'id': '879632419', 'createdAt': 1607435760, 'parentId': ''}, 'source': 5, 'type': 0, 'event': 1607435761001270}\n",
      "327 {'erefs': ['Txp0na3oAeCi9IxiMGodOHU/PDe90svqCX3osR6vzim0s0omvwN6s9b8dbGvMlFhzqOX+yC0zpWjZkU='], 'vis': 2, 'collectionId': '250152065', 'content': {'id': '879632448', 'createdAt': 1607435790, 'parentId': ''}, 'source': 5, 'type': 0, 'event': 1607435825818884}\n",
      "332 {'vis': 0, 'collectionId': '250152065', 'content': {'id': '879632547', 'createdAt': 1607435870, 'parentId': ''}, 'source': 5, 'type': 0, 'event': 1607436024446876}\n",
      "334 {'vis': 0, 'collectionId': '250152065', 'content': {'ancestorId': '879632547', 'id': '879632650', 'createdAt': 1607435948, 'parentId': '879632579'}, 'source': 5, 'type': 0, 'event': 1607436025288556}\n",
      "337 {'erefs': ['3LG0Eoh2kPvhxZHOfsFU0JAo5mjtuGxk2qWmUR/sNVr0qEAuyyu+61ohM0Dlvedg3QNvtt45Zutwd9A='], 'vis': 2, 'collectionId': '250152065', 'content': {'id': '879632554', 'createdAt': 1607435874, 'parentId': ''}, 'source': 5, 'type': 0, 'event': 1607435874596304}\n",
      "350 {'erefs': ['OusKWgPOYjBaqossSFgNtwTvPbey6GF8gqWOl08BExP/pvXnP8ejEohgmYYGwgYJEQ5ImCgmBcvZGYg='], 'vis': 2, 'collectionId': '250152065', 'content': {'ancestorId': '879632575', 'id': '879632734', 'createdAt': 1607436012, 'parentId': '879632575'}, 'source': 5, 'type': 0, 'event': 1607436065805320}\n",
      "367 {'erefs': ['8RUNvsolDouuJnYPvn33O1bVrJvmh/uQC+xE0HIO+dQ88kgH8lrTDgOAIcqd0nm5wz3uOD4i9Z12n5I='], 'vis': 2, 'collectionId': '250152065', 'content': {'ancestorId': '879632722', 'id': '879632813', 'createdAt': 1607436083, 'parentId': '879632722'}, 'source': 5, 'type': 0, 'event': 1607436127712225}\n",
      "369 {'erefs': ['EHLr+8f/zOX/tVc6KkXM2I8uCh/iFLMjLE7CclN5b7pVMj44f2PGAVrwr9UZ/usX/fq06oz0mEkjpyE='], 'vis': 2, 'collectionId': '250152065', 'content': {'ancestorId': '879632723', 'id': '879632896', 'createdAt': 1607436162, 'parentId': '879632723'}, 'source': 5, 'type': 0, 'event': 1607436163045227}\n",
      "385 {'erefs': ['7HqQzPiQKa6C+lIN/aKyQF68ixWviP4THlY4LMmFb9NpJAyHZhvAI1fNjsisJN0IzgJb2nreYgz1KCA='], 'vis': 2, 'collectionId': '250152065', 'content': {'id': '879632794', 'createdAt': 1607436064, 'parentId': ''}, 'source': 5, 'type': 0, 'event': 1607436145694086}\n",
      "388 {'vis': 0, 'collectionId': '250152065', 'content': {'id': '879632841', 'createdAt': 1607436105, 'parentId': ''}, 'source': 5, 'type': 0, 'event': 1607436119404830}\n",
      "391 {'erefs': ['QXg9fNzg4q3pc/GfEJ+rw3mE8eeiMfqioLFAhbWKwj1fxflfjwLgS/klxyFQ7VII0QX8svo8ve8rbgw='], 'vis': 2, 'collectionId': '250152065', 'content': {'ancestorId': '879632859', 'id': '879633493', 'createdAt': 1607436666, 'parentId': '879632859'}, 'source': 5, 'type': 0, 'event': 1607436745652010}\n",
      "394 {'erefs': ['u73Khg4X1a1/VA1w6+kEB/N+89VNu5qkaeX9iEaHPOOpSfOY75+lNM//A3NxgtOMVXJF6vZoNIHwWmU='], 'vis': 2, 'collectionId': '250152065', 'content': {'ancestorId': '879632865', 'id': '879632888', 'createdAt': 1607436156, 'parentId': '879632865'}, 'source': 5, 'type': 0, 'event': 1607436206675759}\n",
      "395 {'erefs': ['AQWgNlPBkajiH75wWXj5Eu/Qrm9WSrg7GJYBN2JmqaHYNB0HERC16rErAdsTcur07Y28iipyo4sRflU='], 'vis': 2, 'collectionId': '250152065', 'content': {'id': '879632872', 'createdAt': 1607436135, 'parentId': ''}, 'source': 5, 'type': 0, 'event': 1607436206681028}\n",
      "405 {'erefs': ['Qq9mYzPH/w8Vo6n92/NSAfTHIl5qWSWp6Q/+XEBwwQllck6D3Gt8/Eb9KMaV5r5AA+Fpz2kA9IOA928='], 'vis': 2, 'collectionId': '250152065', 'content': {'id': '879632935', 'createdAt': 1607436196, 'parentId': ''}, 'source': 0, 'type': 0, 'event': 1607436475535570}\n",
      "412 {'vis': 0, 'collectionId': '250152065', 'content': {'id': '879632953', 'createdAt': 1607436221, 'parentId': ''}, 'source': 5, 'type': 0, 'event': 1607436255855032}\n",
      "413 {'erefs': ['Qq9mYzPH/w8Vo6n92/NZA/THIl4wDSLy5VytWkN0xVtncUDf3Dgs/BWse5TE4bhBU7Y9w2gCroOE9Gw='], 'vis': 2, 'collectionId': '250152065', 'content': {'id': '879632987', 'createdAt': 1607436249, 'parentId': ''}, 'source': 0, 'type': 0, 'event': 1607436397165967}\n",
      "416 {'erefs': ['Kypy9HzodqCutMWMEA4pxsO4tMcABZywPlLcQi5K1jovIBu1TrnVuPrindx1HCv/F9uyXtSsMv2E8Pw='], 'vis': 2, 'collectionId': '250152065', 'content': {'id': '879632999', 'createdAt': 1607436259, 'parentId': ''}, 'source': 5, 'type': 0, 'event': 1607436314688092}\n",
      "417 {'erefs': ['OusKWgPOYjBaqossSV8OsQTvPeGxvjV61aLbk0sHFUCvpfXjNJPwHY80zNAMwQQOEgUXmC8mUsyNTow='], 'vis': 2, 'collectionId': '250152065', 'content': {'id': '879633002', 'createdAt': 1607436261, 'parentId': ''}, 'source': 0, 'type': 0, 'event': 1607436439088588}\n",
      "420 {'erefs': ['Be3QiRIsTKQpD/2FpZ3vY/kw920C9xlBB7gwE7sscWI17iJEUGwPxIbeYdPQzqzcaj+E2+kl3GkzIKU='], 'vis': 2, 'collectionId': '250152065', 'content': {'id': '879633015', 'createdAt': 1607436268, 'parentId': ''}, 'source': 0, 'type': 0, 'event': 1607436449215145}\n",
      "424 {'erefs': ['DUiKAZrQONELNPEeMXu216OY20aTBhD5nNJ4KshskSmAi3W4B6isSraYxuH5Eu8aAjzle5ORAPRdBbA='], 'vis': 2, 'collectionId': '250152065', 'content': {'ancestorId': '879633034', 'id': '879633174', 'createdAt': 1607436401, 'parentId': '879633034'}, 'source': 5, 'type': 0, 'event': 1607436401480044}\n",
      "435 {'erefs': ['QXg9fNzg4q3pc/GfEJmnx3mE8eb/MqjyoLUb2eHRx20MxflX2Va/FPAmkSAM71JZilKr4flr77csPws='], 'vis': 2, 'collectionId': '250152065', 'content': {'ancestorId': '879633103', 'id': '879633257', 'createdAt': 1607436473, 'parentId': '879633103'}, 'source': 5, 'type': 0, 'event': 1607436473658040}\n",
      "437 {'erefs': ['HxQQeWqgea1I1xfVSoLSvLCH28pnXyH5hYTidzctWKTXrVNXUy+HA34a96nJ2Dmu8+fuU+9IXWUoPcQ='], 'vis': 2, 'collectionId': '250152065', 'content': {'id': '879633120', 'createdAt': 1607436352, 'parentId': ''}, 'source': 5, 'type': 0, 'event': 1607436383740041}\n",
      "441 {'erefs': ['u73Khg4X1a1/VA1w6uIJB/N+84ZMuJunbef33RXUOeKjSKmZs5qtY8z4VCNz2dDTUnFHvqI+NYf1CWU='], 'vis': 2, 'collectionId': '250152065', 'content': {'ancestorId': '879633146', 'id': '879633358', 'createdAt': 1607436548, 'parentId': '879633309'}, 'source': 5, 'type': 0, 'event': 1607436622668668}\n",
      "445 {'erefs': ['u73Khg4X1a1/VA1w6uUIBvN+89dP6c/wZuOnixzQbeOhRqSU4Jv0Nc3/BHNx1teDByZA6/5mMdOhCGU='], 'vis': 2, 'collectionId': '250152065', 'content': {'ancestorId': '879633146', 'id': '879633449', 'createdAt': 1607436625, 'parentId': '879633412'}, 'source': 5, 'type': 0, 'event': 1607436683710574}\n",
      "449 {'erefs': ['7HqQzPiQKa6C+lIN/Ke8Rl68i0Ku3vsWGVU5fZmAaIZqJljWYE+WJwbKi5+sdN1Tl1FdjS3fMQ+jdHY='], 'vis': 2, 'collectionId': '250152065', 'content': {'ancestorId': '879633155', 'id': '879633272', 'createdAt': 1607436486, 'parentId': '879633155'}, 'source': 5, 'type': 0, 'event': 1607436545860366}\n",
      "450 {'erefs': ['AQWgNlPBkajiH75wWHL9Eu/Qrj0EHb5rTpAHNWNk/PeNaEQHQBPk6+J7UohHfuD76ILo3XonoI9AeQA='], 'vis': 2, 'collectionId': '250152065', 'content': {'ancestorId': '879633155', 'id': '879633232', 'createdAt': 1607436449, 'parentId': '879633155'}, 'source': 5, 'type': 0, 'event': 1607436449908891}\n",
      "451 {'erefs': ['u73Khg4X1a1/VA1w6uAEB/N+89NNupzza+H13hXVPOn1Q/fJt52mMs+iVCQl09GMBSEU5vVtZNOvXGk='], 'vis': 2, 'collectionId': '250152065', 'content': {'ancestorId': '879633155', 'id': '879633188', 'createdAt': 1607436414, 'parentId': '879633155'}, 'source': 5, 'type': 0, 'event': 1607436428716532}\n",
      "452 {'erefs': ['nC9TsMHk9mwFvXyu11md/4dPXEM0voh+5E+i+ESSoTS9MwqSvZND4GNyodK3mRgAGer0DrwPc2h6SBo='], 'vis': 2, 'collectionId': '250152065', 'content': {'id': '879633163', 'createdAt': 1607436390, 'parentId': ''}, 'source': 5, 'type': 0, 'event': 1607436426857864}\n",
      "459 {'erefs': ['BIAsjCwoG849R6TPvhmDFxLfn0I2Q9jwP26CkdB2V7dYHYk0bI3jqcn9KF7ywQcfPgBMeJooclZyFdk='], 'vis': 2, 'collectionId': '250152065', 'content': {'id': '879633229', 'createdAt': 1607436448, 'parentId': ''}, 'source': 5, 'type': 0, 'event': 1607436493669567}\n",
      "468 {'erefs': ['u73Khg4X1a1/VA1w6uMFDPN+84AYuM71PuH83UGGbuz1EaHI5MigZ5r8B3V/0tPUU3EQ6vRqZYSiDTM='], 'vis': 2, 'collectionId': '250152065', 'content': {'ancestorId': '879633239', 'id': '879633293', 'createdAt': 1607436499, 'parentId': '879633239'}, 'source': 5, 'type': 0, 'event': 1607436499571450}\n",
      "483 {'erefs': ['wdGF/yYPNGeE5fFo4RVhqN2nL1PX+961fe21qzij6cIWXGMBgoZOTkT89mSK4EVzsr7IXWOX1K4MLvk='], 'vis': 2, 'collectionId': '250152065', 'content': {'id': '879633366', 'createdAt': 1607436556, 'parentId': ''}, 'source': 0, 'type': 0, 'event': 1607436643149393}\n",
      "484 {'erefs': ['kWLhR4p1bgkUadIQ0TjDjOyXJVtdrA8Lv39iMlRC+o4J21ukXkbbuV8FSvdGNxiFMeJYFI/HgtI2fl4='], 'vis': 2, 'collectionId': '250152065', 'content': {'id': '879633370', 'createdAt': 1607436557, 'parentId': ''}, 'source': 5, 'type': 0, 'event': 1607436629396488}\n",
      "486 {'erefs': ['hynrAwl9TAsUpWf3tFbCBKyoyWvV7w3aDFINMauQUas9MvKt7F4fCnxfj9YmdW1NHfcHSOtJkgbHfF4='], 'vis': 2, 'collectionId': '250152065', 'content': {'ancestorId': '879633374', 'id': '879633526', 'createdAt': 1607436699, 'parentId': '879633374'}, 'source': 5, 'type': 0, 'event': 1607436741738015}\n",
      "489 {'erefs': ['VtsOBofxQcxyHAqHropudI+GPTYCUAHCujASkD7jqie5j7L6w1XGTnzp1Gr3YmSLcF+3z5wdPQxdSZc='], 'vis': 2, 'collectionId': '250152065', 'content': {'id': '879633384', 'createdAt': 1607436564, 'parentId': ''}, 'source': 5, 'type': 0, 'event': 1607436612667204}\n",
      "490 {'erefs': ['72S520Q6MoLXgRhmOX6j+E9ZjZL978eE24c4CAwtDb6Iwg5XVgGFyizZSogTcsFrst8PKumANhNI9ag='], 'vis': 2, 'collectionId': '250152065', 'content': {'id': '879633408', 'createdAt': 1607436583, 'parentId': ''}, 'source': 5, 'type': 0, 'event': 1607436636663209}\n",
      "501 {'erefs': ['u73Khg4X1a1/VA1w6uYJDPN+89cf68mlZuel3EDXau70QKbJs8/xMc3/AiNz2NTWAXpH7PNvNoSkWzI='], 'vis': 2, 'collectionId': '250152065', 'content': {'ancestorId': '879633461', 'id': '879633753', 'createdAt': 1607436907, 'parentId': '879633707'}, 'source': 5, 'type': 0, 'event': 1607436907618295}\n",
      "532 {'erefs': ['UK0l0+6EfMU1NR+9J3viSE6CFMmXJXyJkqwlq0uBfI7esT19OePL0dlx6yxCpPxU3qO6B08BCQYofwU='], 'vis': 2, 'collectionId': '250152065', 'content': {'ancestorId': '879633632', 'id': '879633665', 'createdAt': 1607436812, 'parentId': '879633632'}, 'source': 5, 'type': 0, 'event': 1607436859668094}\n",
      "538 {'erefs': ['u73Khg4X1a1/VA1w6ucFCvN+84BNu5XzaeT33ETaO++nSKjN7pv3YM/+UHV32NeHA3JD76VtP4OvDWM='], 'vis': 2, 'collectionId': '250152065', 'content': {'ancestorId': '879633673', 'id': '879633695', 'createdAt': 1607436854, 'parentId': '879633673'}, 'source': 5, 'type': 0, 'event': 1607436854466819}\n",
      "539 {'erefs': ['162Clai0GU9VGJUdiXaalB2lb1sXS6mT7TGatlB8DrS496cwOKe2TDBS7gBFMBMsQojrlLi/VH8OfcA='], 'vis': 2, 'collectionId': '250152065', 'content': {'ancestorId': '879633673', 'id': '879634262', 'createdAt': 1607437382, 'parentId': '879633673'}, 'source': 5, 'type': 0, 'event': 1607437469681963}\n",
      "542 {'erefs': ['16p4CwtQO2pWHPhS2vSmRPvKp12wP6fLe/GhejPMNL8xVGAZwq9fm5l1VWu0Zo+j+L7TL0LN0t7uHl8='], 'vis': 2, 'collectionId': '250152065', 'content': {'ancestorId': '879633685', 'id': '879633813', 'createdAt': 1607436970, 'parentId': '879633685'}, 'source': 5, 'type': 0, 'event': 1607437050744490}\n",
      "543 {'erefs': ['RVja5VdVyZ/4oYDmEq3BNTZSU7EsHd4PoyOBhLlWWb5D5/M1MaRZGc1jdJRy/ZS+W3gBInjLciYT9+g='], 'vis': 2, 'collectionId': '250152065', 'content': {'ancestorId': '879633685', 'id': '879634027', 'createdAt': 1607437174, 'parentId': '879633685'}, 'source': 5, 'type': 0, 'event': 1607437209693355}\n",
      "545 {'erefs': ['AQWgNlPBkajiH75wWHb3Eu/Qrj8KTLxpGJQAYjNjrKiNY04GFUbgurZ4U99CIrem6Y/tiC0jpt5GfFM='], 'vis': 2, 'collectionId': '250152065', 'content': {'id': '879633692', 'createdAt': 1607436849, 'parentId': ''}, 'source': 5, 'type': 0, 'event': 1607436920712121}\n",
      "546 {'erefs': ['5Bs8bMjFzg4+NqFGNE77c3cyuV0t69eH+Tx4OsK++ccF8UqqpmXmjEQUdXKs0F4zuIgBPUdaIVUfGnQ='], 'vis': 2, 'collectionId': '250152065', 'content': {'id': '879633705', 'createdAt': 1607436866, 'parentId': ''}, 'source': 5, 'type': 0, 'event': 1607436866545653}\n",
      "547 {'erefs': ['lgPkB0+0v8ONrDnQtNj7KsSU7l7htXMWgsKnf8PYSHbZQ91r/YWCaJ4XtqsFE22oO1/g027woSZOfp4='], 'vis': 2, 'collectionId': '250152065', 'content': {'id': '879633723', 'createdAt': 1607436877, 'parentId': ''}, 'source': 5, 'type': 0, 'event': 1607436922724792}\n",
      "548 {'erefs': ['atcDsdGpqyhgZ9nz1P2QkOIIPgxEH8b+kcMKaPoLAXnjJ3+bqmijIDisUpig0PSmjY+72kLbteOBzFQ='], 'vis': 2, 'collectionId': '250152065', 'content': {'id': '879633732', 'createdAt': 1607436887, 'parentId': ''}, 'source': 5, 'type': 0, 'event': 1607436912742570}\n",
      "553 {'erefs': ['R95El5SSMVxRnfNLM3CgvwFP6JWdsDgadzyWYmgMLGPMJPbhBcIzLUJDbPPmL98hPt/6lYgknBngPlI='], 'vis': 2, 'collectionId': '250152065', 'content': {'id': '879633779', 'createdAt': 1607436933, 'parentId': ''}, 'source': 5, 'type': 0, 'event': 1607436985689250}\n",
      "557 {'erefs': ['72S520Q6MoLXgRhmOX2r+E9Zjcv77Jveh4QyBgolAeiPkl0BBwbSzC6NTYVCLsc074YFLOqCYUYc96Y='], 'vis': 2, 'collectionId': '250152065', 'content': {'id': '879633788', 'createdAt': 1607436946, 'parentId': ''}, 'source': 5, 'type': 0, 'event': 1607436985688740}\n",
      "558 {'erefs': ['dld73ks2zkL46HBYWpRlXe94f+mC6N1ryRrUUgPQSVglX9bNZ0ZZAc8vPa+oWhYJP9jDpL11Ak69xIY='], 'vis': 2, 'collectionId': '250152065', 'content': {'id': '879633792', 'createdAt': 1607436951, 'parentId': ''}, 'source': 5, 'type': 0, 'event': 1607436973682954}\n",
      "560 {'erefs': ['n1zumVSupvkCvQ6lzYj9mPEMCQCJm5prywS8rPZXlX6A0MmeaXtDaAkwrirK/qXg8dy/XfT8xlHrE0o='], 'vis': 2, 'collectionId': '250152065', 'content': {'id': '879633810', 'createdAt': 1607436967, 'parentId': ''}, 'source': 5, 'type': 0, 'event': 1607437044704465}\n",
      "562 {'erefs': ['bpruTTPMFLtpi3aETe/Uyr+L3WJ+4VKAgTF66d0RKux7H4l3hxIrtVyp41YTQbDE21ADYZziqJvHl34='], 'vis': 2, 'collectionId': '250152065', 'content': {'id': '879633825', 'createdAt': 1607436983, 'parentId': ''}, 'source': 5, 'type': 0, 'event': 1607437034678460}\n",
      "563 {'erefs': ['atcDsdGpqyhgZ9nz1PKRleIIPg5MS5L+lc8OaPBQXHfhI3LGrmz7I2r5U5mn3an119Xt2xSP47DSzFc='], 'vis': 2, 'collectionId': '250152065', 'content': {'id': '879633827', 'createdAt': 1607436983, 'parentId': ''}, 'source': 5, 'type': 0, 'event': 1607437034670967}\n",
      "567 {'erefs': ['eYtvcXF4HFrMCALhGcygHew9/yndoLuxkJUOSpHyYJdBE0xS7KJf6O7L5vMT3ces0NSJLOj3XUb/RqE='], 'vis': 2, 'collectionId': '250152065', 'content': {'id': '879633846', 'createdAt': 1607437003, 'parentId': ''}, 'source': 5, 'type': 0, 'event': 1607437003914817}\n",
      "573 {'erefs': ['lgPkB0+0v8ONrDnQtNfxKcSU7l+y5HFBi5egIZXaHyPfQIht+onSP8sT5awNFGihbwmy1GTyoCNCc8k='], 'vis': 2, 'collectionId': '250152065', 'content': {'id': '879633880', 'createdAt': 1607437030, 'parentId': ''}, 'source': 5, 'type': 0, 'event': 1607437093673040}\n",
      "576 {'erefs': ['u73Khg4X1a1/VA1w7eELDvN+89FMu82kPOLzjRXVPLj0SPWds56sOp2iUnUkh4eEACcW5/ZsYtWlDWM='], 'vis': 2, 'collectionId': '250152065', 'content': {'ancestorId': '879633890', 'id': '879634071', 'createdAt': 1607437215, 'parentId': '879634050'}, 'source': 5, 'type': 0, 'event': 1607437276786687}\n",
      "578 {'erefs': ['OWG3VhwUPzxDG62WTWb5AeWIjWizVr0yphxHIYVOdSN/W/5TqKfgIWICr/cx1WaVt5mmiq4ZDNW4jlc='], 'vis': 2, 'collectionId': '250152065', 'content': {'ancestorId': '879633890', 'id': '879634334', 'createdAt': 1607437449, 'parentId': '879633933'}, 'source': 5, 'type': 0, 'event': 1607437449723202}\n",
      "580 {'erefs': ['u73Khg4X1a1/VA1w7eEOB/N+89RIv8miPLH0jEPbZryjR6Wd4J+sMcuqVyYg04WAUiBA6aNmMdauAGY='], 'vis': 2, 'collectionId': '250152065', 'content': {'ancestorId': '879633890', 'id': '879634028', 'createdAt': 1607437175, 'parentId': '879633989'}, 'source': 5, 'type': 0, 'event': 1607437213692688}\n",
      "581 {'erefs': ['UK0l0+6EfMU1NR+9J3TsRE6CFJDCL3OLx6h0oBiGeNLZt219P+fFitt17igY8/pQ3qfuUxYDXlEjfwU='], 'vis': 2, 'collectionId': '250152065', 'content': {'ancestorId': '879633890', 'id': '879633989', 'createdAt': 1607437141, 'parentId': '879633965'}, 'source': 5, 'type': 0, 'event': 1607437231672298}\n",
      "582 {'erefs': ['UK0l0+6EfMU1NR+9IH3hTU6CFJXCI3Pbxa0iqhfXLY3es20uPOOZgNgjuS5O9vRT3KO6Dk1RXwEqKVg='], 'vis': 2, 'collectionId': '250152065', 'content': {'ancestorId': '879633890', 'id': '879634050', 'createdAt': 1607437195, 'parentId': '879634028'}, 'source': 5, 'type': 0, 'event': 1607437217658142}\n",
      "585 {'vis': 0, 'collectionId': '250152065', 'content': {'id': '879633944', 'createdAt': 1607437104, 'parentId': ''}, 'source': 5, 'type': 0, 'event': 1607437385908902}\n",
      "589 {'erefs': ['eYtvcXF4HFrMCALhHsSnGew9/3uB++q5zJEMTZWkaZJKExxSuKJZuezG4aEYiMH+19TWKL+mC0KsFPI='], 'vis': 2, 'collectionId': '250152065', 'content': {'ancestorId': '879633991', 'id': '879634032', 'createdAt': 1607437177, 'parentId': '879633991'}, 'source': 5, 'type': 0, 'event': 1607437231625910}\n",
      "591 {'erefs': ['S3FkJRVpi3GEgDPbva577lPqM1nU/+Xd0taIBCz1SkNGjcdRiRxnzwhDVHZ5sUVe/+lqFJP/9+bNgTQ='], 'vis': 2, 'collectionId': '250152065', 'content': {'ancestorId': '879633991', 'id': '879634163', 'createdAt': 1607437297, 'parentId': '879634082'}, 'source': 5, 'type': 0, 'event': 1607437297205680}\n",
      "593 {'erefs': ['S3FkJRVpi3GEgDPbva917FPqM1iH9OuKhYTfUyWiTkUR2JUFikszkQhGVSJ9tEhYr+8+S5WqorWd1mY='], 'vis': 2, 'collectionId': '250152065', 'content': {'ancestorId': '879633991', 'id': '879634081', 'createdAt': 1607437224, 'parentId': '879634032'}, 'source': 5, 'type': 0, 'event': 1607437224992304}\n",
      "595 {'erefs': ['u73Khg4X1a1/VA1w7eAOCfN+84Qf6s+kPLOm20DUauLzFqLItMmlMsipB3AnhNSNBndG76M6M4egDDQ='], 'vis': 2, 'collectionId': '250152065', 'content': {'ancestorId': '879633991', 'id': '879634126', 'createdAt': 1607437261, 'parentId': '879633991'}, 'source': 5, 'type': 0, 'event': 1607437335726521}\n",
      "597 {'erefs': ['OWG3VhwUPzxDG62WTWX4BeWIjTOyVLhmpkRCJ4RKcS17WqEC8qTvdDZVqfpm12bO5p73hf9KAtK5hVc='], 'vis': 2, 'collectionId': '250152065', 'content': {'id': '879634020', 'createdAt': 1607437168, 'parentId': ''}, 'source': 5, 'type': 0, 'event': 1607437168940104}\n",
      "605 {'erefs': ['5Bs8bMjFzg4+NqFGM0nzdXcyuQ1/v4OC9Wwra8K5q5wKoE+u8WXl3EUZfyf+jVo4uowFPUEMKVJNS3Q='], 'vis': 2, 'collectionId': '250152065', 'content': {'id': '879634083', 'createdAt': 1607437225, 'parentId': ''}, 'source': 5, 'type': 0, 'event': 1607437225207351}\n",
      "608 {'erefs': ['h8E9Y+VbhZN/tSwwfwMfaZKitYzb7tQyGQh2jQ8TKQjELllYLMs9S5Tc733yF9UGuIRR+2YPyMHM7kM='], 'vis': 2, 'collectionId': '250152065', 'content': {'ancestorId': '879634106', 'id': '879634292', 'createdAt': 1607437408, 'parentId': '879634106'}, 'source': 5, 'type': 0, 'event': 1607437449687365}\n",
      "614 {'erefs': ['5Bs8bMjFzg4+NqFGM0jzf3cyuVop7I3TojkkZ5Xu+cEF8xz4rzXn2UBDe3Sv3Fxq79hTOhEIdQIZTCY='], 'vis': 2, 'collectionId': '250152065', 'content': {'ancestorId': '879634147', 'id': '879634189', 'createdAt': 1607437318, 'parentId': '879634147'}, 'source': 5, 'type': 0, 'event': 1607437318294487}\n",
      "617 {'erefs': ['Txp0na3oAeCi9IxiNm0fNHU/PGC6g56yCHzr4xz7wyrq5Eok4gcpuNf+dOymZF5mmvXK/CDnnZSgZkY='], 'vis': 2, 'collectionId': '250152065', 'content': {'ancestorId': '879634147', 'id': '879634364', 'createdAt': 1607437477, 'parentId': '879634282'}, 'source': 5, 'type': 0, 'event': 1607437523675761}\n",
      "626 {'erefs': ['vsO1aaF2lwjbPaTTaP6+bvbRQg8b7vdKmW1MUYxO8q57y3zIFArcPhcoLc76dXEnQbMiSs/P7FqVU0Q='], 'vis': 2, 'collectionId': '250152065', 'content': {'id': '879634275', 'createdAt': 1607437397, 'parentId': ''}, 'source': 5, 'type': 0, 'event': 1607437455677026}\n",
      "627 {'erefs': ['eYtvcXF4HFrMCALhHsajHOw9/3mNrO/vkJVYTcCkYpBDQUsOvKkLuO2asaYUhMX509Xfdr/0WhH4QKI='], 'vis': 2, 'collectionId': '250152065', 'content': {'id': '879634277', 'createdAt': 1607437398, 'parentId': ''}, 'source': 5, 'type': 0, 'event': 1607437399056652}\n",
      "629 {'vis': 0, 'collectionId': '250152065', 'content': {'id': '879634308', 'createdAt': 1607437429, 'parentId': ''}, 'source': 5, 'type': 0, 'event': 1607437493900039}\n",
      "644 {'erefs': ['QafvKfY91Y9ogJ6Y5U6tA1xJSbFQbw88iEX4hp+BQt93Rx4B6ogOfcQk6G3I53FXjcADwCAAKvocl7U='], 'vis': 2, 'collectionId': '250152065', 'content': {'ancestorId': '879634387', 'id': '879634661', 'createdAt': 1607437739, 'parentId': '879634387'}, 'source': 5, 'type': 0, 'event': 1607437739988560}\n",
      "645 {'vis': 0, 'collectionId': '250152065', 'content': {'ancestorId': '879634387', 'id': '879634420', 'createdAt': 1607437520, 'parentId': '879634387'}, 'source': 5, 'type': 0, 'event': 1607437707151556}\n",
      "646 {'vis': 0, 'collectionId': '250152065', 'content': {'id': '879634392', 'createdAt': 1607437498, 'parentId': ''}, 'source': 5, 'type': 0, 'event': 1607437731534208}\n",
      "647 {'vis': 0, 'collectionId': '250152065', 'content': {'ancestorId': '879634392', 'id': '879634590', 'createdAt': 1607437671, 'parentId': '879634502'}, 'source': 5, 'type': 0, 'event': 1607437734549519}\n",
      "648 {'erefs': ['0eLPd8biG4xfR+nubExGlU35RRPJ26uBQuc9ybIB0m2YZZhzBajI9ufl5WhHiRv/5S+QaBVWNU6gG2E='], 'vis': 2, 'collectionId': '250152065', 'content': {'ancestorId': '879634392', 'id': '879634554', 'createdAt': 1607437640, 'parentId': '879634472'}, 'source': 5, 'type': 0, 'event': 1607437701659384}\n",
      "653 {'vis': 0, 'collectionId': '250152065', 'content': {'ancestorId': '879634392', 'id': '879634454', 'createdAt': 1607437550, 'parentId': '879634407'}, 'source': 5, 'type': 0, 'event': 1607437732779121}\n",
      "655 {'erefs': ['NZkMUX/HWkii1lnZt7nztbbEikQ1jy327ulNcyHNpbGmd0zaEvBa47QeFNt30rxbgPz/ipqk/B1sVgE='], 'vis': 2, 'collectionId': '250152065', 'content': {'id': '879634401', 'createdAt': 1607437505, 'parentId': ''}, 'source': 5, 'type': 0, 'event': 1607437571694131}\n",
      "669 {'vis': 0, 'collectionId': '250152065', 'content': {'id': '879634506', 'createdAt': 1607437597, 'parentId': ''}, 'source': 5, 'type': 0, 'event': 1607437725673940}\n",
      "670 {'erefs': ['fJuIq2v5lTS9ZtmypFQLEHlRHmEp0vr39tBXs1rzCMZWj6LKacIIR1LzWD+VIHerVSOlSo5irBhDu8Q='], 'vis': 2, 'collectionId': '250152065', 'content': {'id': '879634525', 'createdAt': 1607437611, 'parentId': ''}, 'source': 5, 'type': 0, 'event': 1607437611901704}\n",
      "687 {'erefs': ['u73Khg4X1a1/VA1w7ecIC/N+89Md65/xaral3EPabOymE6HOs5TxZ5msBSYg2YKHAXJB56RvNoWnAGU='], 'vis': 2, 'collectionId': '250152065', 'content': {'id': '879634644', 'createdAt': 1607437722, 'parentId': ''}, 'source': 0, 'type': 0, 'event': 1607437732542950}\n",
      "690 {'erefs': ['wMGS8Ftdt14IyGudCeLjZAJnJYUd8YzpOfdiVz8I9fZdvKnIUTGmiSqUDzp3Tco4To+BHhf73ORWJsg='], 'vis': 2, 'collectionId': '250152065', 'content': {'ancestorId': '879634652', 'id': '879635256', 'createdAt': 1607438270, 'parentId': '879634746'}, 'source': 5, 'type': 0, 'event': 1607438308748152}\n",
      "694 {'erefs': ['5Bs8bMjFzg4+NqFGM0/9cXcyuVktvNfQ9Wt4PZWy+5NVoUb5rmHl3kBHLCSu2g9q5NhUbRcKKFFITCU='], 'vis': 2, 'collectionId': '250152065', 'content': {'id': '879634667', 'createdAt': 1607437743, 'parentId': ''}, 'source': 5, 'type': 0, 'event': 1607437743791609}\n",
      "695 {'vis': 0, 'collectionId': '250152065', 'content': {'id': '879634666', 'createdAt': 1607437743, 'parentId': ''}, 'source': 5, 'type': 0, 'event': 1607437743599198}\n",
      "696 {'erefs': ['eYtvcXF4HFrMCALhHsKjGew9/33dq7u4zMVcTsanYcITFksAuqBesuvMt/JB3cn9htXdK7jzXkavQfA='], 'vis': 2, 'collectionId': '250152065', 'content': {'id': '879634672', 'createdAt': 1607437748, 'parentId': ''}, 'source': 5, 'type': 0, 'event': 1607437809702235}\n",
      "703 {'vis': 0, 'collectionId': '250152065', 'content': {'id': '879634708', 'createdAt': 1607437782, 'parentId': ''}, 'source': 5, 'type': 0, 'event': 1607437868778970}\n",
      "705 {'erefs': ['waeDxoDGr/wnL/vnGpFH+MceUH3jhK4PIA9KogE4sachspCGVlCkAvu1G4T0h//6WMjj5rC1UWqnjsY='], 'vis': 2, 'collectionId': '250152065', 'content': {'ancestorId': '879634711', 'id': '879634956', 'createdAt': 1607438002, 'parentId': '879634711'}, 'source': 5, 'type': 0, 'event': 1607438057693913}\n",
      "706 {'erefs': ['u73Khg4X1a1/VA1w7eYKCvN+84RJupX3O7Khi0bQb+ilEvPI45zwMsujAHR/14GMBnBN6f5tM4D0DTU='], 'vis': 2, 'collectionId': '250152065', 'content': {'ancestorId': '879634711', 'id': '879634765', 'createdAt': 1607437830, 'parentId': '879634711'}, 'source': 5, 'type': 0, 'event': 1607437830901806}\n",
      "708 {'vis': 0, 'collectionId': '250152065', 'content': {'ancestorId': '879634731', 'id': '879634762', 'createdAt': 1607437827, 'parentId': '879634731'}, 'source': 5, 'type': 0, 'event': 1607437855300950}\n",
      "712 {'erefs': ['Txp0na3oAeCi9IxiNmkcMXU/PDLqiMzkWXfutxr9wS7q4kgmtlR959D/LrigMwk2mPPFr3i1yZX1NUY='], 'vis': 2, 'collectionId': '250152065', 'content': {'id': '879634751', 'createdAt': 1607437815, 'parentId': ''}, 'source': 0, 'type': 0, 'event': 1607438003060879}\n",
      "731 {'erefs': ['jcfeKiZa8EcaFvZ7ad5qS5aSx3aVbBrIaEVot8xCVhAME1ficW501UxK+9lHBxw4fucNKs9cuSzHY5k='], 'vis': 2, 'collectionId': '250152065', 'content': {'ancestorId': '879634789', 'id': '879635091', 'createdAt': 1607438120, 'parentId': '879634789'}, 'source': 0, 'type': 0, 'event': 1607438146325279}\n",
      "735 {'erefs': ['KZfQ1kCts/mAwGjQkhIe2Hr2N2VxcvLWuuhn+sajrCuDpVQe/hc4FiuMV9siTzEojmf3OgS3Wan11xk='], 'vis': 2, 'collectionId': '250152065', 'content': {'ancestorId': '879634789', 'id': '879634850', 'createdAt': 1607437915, 'parentId': '879634789'}, 'source': 5, 'type': 0, 'event': 1607437935657216}\n",
      "736 {'erefs': ['KZfQ1kCts/mAwGjQkh0S2Hr2N2FyJPHQ5u9lr8T3pH/e8QUZoh8/QH7cAYkjHzJ/gDKma1bjC6ukgE4='], 'vis': 2, 'collectionId': '250152065', 'content': {'id': '879634790', 'createdAt': 1607437857, 'parentId': ''}, 'source': 5, 'type': 0, 'event': 1607437947683676}\n",
      "738 {'vis': 0, 'collectionId': '250152065', 'content': {'id': '879634794', 'createdAt': 1607437861, 'parentId': ''}, 'source': 5, 'type': 0, 'event': 1607437930112679}\n",
      "740 {'vis': 0, 'collectionId': '250152065', 'content': {'ancestorId': '879634813', 'id': '879634843', 'createdAt': 1607437906, 'parentId': '879634813'}, 'source': 5, 'type': 0, 'event': 1607437928928538}\n",
      "741 {'erefs': ['bEP9zCnJuPYiqQ7EUhYrjBaM5yxGwVWgsZ9636UVB7+SzEXBkPfYYTYS7YQ4Tk2Zx5IQ8i9njgOb9Ns='], 'vis': 2, 'collectionId': '250152065', 'content': {'id': '879634820', 'createdAt': 1607437880, 'parentId': ''}, 'source': 5, 'type': 0, 'event': 1607437945678583}\n",
      "745 {'erefs': ['rU91QIalgB1TOXr+YhaqLfBiJIKNChYIzByvt9EXflOlbaE/YicR6Rru98ZiPkqxGIEJ7TSw+GtP8EQ='], 'vis': 2, 'collectionId': '250152065', 'content': {'id': '879634871', 'createdAt': 1607437936, 'parentId': ''}, 'source': 5, 'type': 0, 'event': 1607437936439946}\n",
      "750 {'erefs': ['Txp0na3oAeCi9IxiNmcaNXU/PGS+gc3mCXS7uRn4z3i96Uwhs1N64tepJ7v0NVhnyaDLqXe1ysTyMUE='], 'vis': 2, 'collectionId': '250152065', 'content': {'ancestorId': '879634882', 'id': '879634935', 'createdAt': 1607437984, 'parentId': '879634882'}, 'source': 5, 'type': 0, 'event': 1607438057692060}\n",
      "751 {'erefs': ['atcDsdGpqyhgZ9nz0/OTleIIPg9MT879lMReb6xUAS3jLyKWqmutIDD5U8mg0POg2YO1ixPZ5+TRwAY='], 'vis': 2, 'collectionId': '250152065', 'content': {'id': '879634907', 'createdAt': 1607437960, 'parentId': ''}, 'source': 5, 'type': 0, 'event': 1607438004661787}\n",
      "758 {'erefs': ['EFnbAvM2oR8xfxcsdDeGv9j/GejJ3YQRj8YnSX9yQ+TcxW1qbsC7VsltWfJFO8mIC/ULr+Ggzx2gzI0='], 'vis': 2, 'collectionId': '250152065', 'content': {'id': '879634950', 'createdAt': 1607437996, 'parentId': ''}, 'source': 5, 'type': 0, 'event': 1607438065715768}\n",
      "761 {'vis': 0, 'collectionId': '250152065', 'content': {'id': '879634962', 'createdAt': 1607438005, 'parentId': ''}, 'source': 5, 'type': 0, 'event': 1607438045800186}\n",
      "763 {'erefs': ['Yb7MPtMsGJqH87EDHL+WYdzkl7eBUcl01J3Ha8P0bpeUx9A/w2kz0/3DIawaOZ4ZwF5vL1tttbZPaak='], 'vis': 2, 'collectionId': '250152065', 'content': {'ancestorId': '879634962', 'id': '879635144', 'createdAt': 1607438179, 'parentId': '879634990'}, 'source': 5, 'type': 0, 'event': 1607438254703597}\n",
      "772 {'erefs': ['n4yXMj7EvuFiWI2v5LP3zqdD/HPq2+domvVVhU8252zYw/8vb+M4uB2FG4hUsCwOerbI+WuJXYZUhtk='], 'vis': 2, 'collectionId': '250152065', 'content': {'ancestorId': '879635012', 'id': '879635307', 'createdAt': 1607438309, 'parentId': '879635149'}, 'source': 5, 'type': 0, 'event': 1607438379809539}\n",
      "779 {'erefs': ['ck2BJ3KqJ9loRxg6QpLGqHagMxNFvurix4dUoP63qg5HAxmJa5QLbcxR/KimX0fOoOUJuLUhCcLx+GA='], 'vis': 2, 'collectionId': '250152065', 'content': {'ancestorId': '879635043', 'id': '879635321', 'createdAt': 1607438320, 'parentId': '879635043'}, 'source': 5, 'type': 0, 'event': 1607438320402360}\n",
      "793 {'vis': 0, 'collectionId': '250152065', 'content': {'id': '879635059', 'createdAt': 1607438096, 'parentId': ''}, 'source': 5, 'type': 0, 'event': 1607438167766864}\n"
     ]
    },
    {
     "name": "stdout",
     "output_type": "stream",
     "text": [
      "795 {'erefs': ['cYpFl4q+L2dnj6G8tKJG0gQNMHdbIgWfJ4XerLjwW7/rlY8XQxJA2eKkMBoW8KCKtHRaV5PN3z4au2c='], 'vis': 2, 'collectionId': '250152065', 'content': {'id': '879635095', 'createdAt': 1607438122, 'parentId': ''}, 'source': 5, 'type': 0, 'event': 1607438188706790}\n",
      "798 {'erefs': ['u73Khg4X1a1/VA1w7OIKDfN+84FO7pinOeGn0RXQPbikFqmc5JqmNJytVCMjgtaDAyFH7fY8M4ChCTU='], 'vis': 2, 'collectionId': '250152065', 'content': {'ancestorId': '879635100', 'id': '879635362', 'createdAt': 1607438346, 'parentId': '879635273'}, 'source': 5, 'type': 0, 'event': 1607438346960125}\n",
      "801 {'erefs': ['KZfQ1kCts/mAwGjQkxsa2nr2NzIiJ/bW4r0yrcSjrizV8lQd8BdkH3TeUYhzGzArizWibFbiCKugg0o='], 'vis': 2, 'collectionId': '250152065', 'content': {'id': '879635112', 'createdAt': 1607438140, 'parentId': ''}, 'source': 0, 'type': 0, 'event': 1607438364358856}\n",
      "802 {'vis': 0, 'collectionId': '250152065', 'content': {'id': '879635129', 'createdAt': 1607438162, 'parentId': ''}, 'source': 5, 'type': 0, 'event': 1607438208175401}\n",
      "805 {'erefs': ['jcfeKiZa8EcaFvZ7ad9kT5aSx3LMNRrNOxQ4spZCUBUOSVfiI24p0RNL9I1EVBlrKbVcLs0MsSnFYso='], 'vis': 2, 'collectionId': '250152065', 'content': {'id': '879635175', 'createdAt': 1607438204, 'parentId': ''}, 'source': 5, 'type': 0, 'event': 1607438204955021}\n",
      "807 {'vis': 0, 'collectionId': '250152065', 'content': {'id': '879635185', 'createdAt': 1607438211, 'parentId': ''}, 'source': 5, 'type': 0, 'event': 1607438412245727}\n",
      "817 {'vis': 0, 'collectionId': '250152065', 'content': {'id': '879635229', 'createdAt': 1607438246, 'parentId': ''}, 'source': 5, 'type': 0, 'event': 1607438292978996}\n",
      "820 {'vis': 0, 'collectionId': '250152065', 'content': {'ancestorId': '879635244', 'id': '879635305', 'createdAt': 1607438309, 'parentId': '879635244'}, 'source': 5, 'type': 0, 'event': 1607438331541490}\n",
      "825 {'erefs': ['KZfQ1kCts/mAwGjQkxka3Hr2N2N2IaaE4bk0/8rypS+EoAsY9x4+RyuKA9IiGTZ7gDunPAztXqX3hxw='], 'vis': 2, 'collectionId': '250152065', 'content': {'id': '879635314', 'createdAt': 1607438317, 'parentId': ''}, 'source': 5, 'type': 0, 'event': 1607438347814998}\n",
      "828 {'erefs': ['KZfQ1kCts/mAwGjQkx4c2Xr2NzMldaHRt+lh/pekrXvSpwpM9h5qEn/fAo13TmQu2jP1OwS0Ban33x0='], 'vis': 2, 'collectionId': '250152065', 'content': {'ancestorId': '879635339', 'id': '879635471', 'createdAt': 1607438455, 'parentId': '879635339'}, 'source': 5, 'type': 0, 'event': 1607438456139078}\n",
      "831 {'erefs': ['CKKps9Q/4IAbaSN3JpFgYUnVvQ3OHBXIVGO2ZaOtNdycSf39USEP7D81+UeFEoARDjkw2Q6O8dkLBpE='], 'vis': 2, 'collectionId': '250152065', 'content': {'id': '879635365', 'createdAt': 1607438350, 'parentId': ''}, 'source': 5, 'type': 0, 'event': 1607438408693985}\n",
      "833 {'erefs': ['l21Nv3KEcxpF7LJPGojkrlp35q55PDTh8BXk8ffT0R7Yk4+P/eXncdKeKTAkEHb7MWQI0YNQA8BkLJc='], 'vis': 2, 'collectionId': '250152065', 'content': {'id': '879635370', 'createdAt': 1607438358, 'parentId': ''}, 'source': 5, 'type': 0, 'event': 1607438358733100}\n",
      "840 {'erefs': ['7vl53ev7ztfa4RWk6P4807TmnRE08k7OEOGRBNbX6lppGIQJx2PzKYfg22IImI0d0u133FUfA2q+oUA='], 'vis': 2, 'collectionId': '250152065', 'content': {'ancestorId': '879635418', 'id': '879636052', 'createdAt': 1607438880, 'parentId': '879635436'}, 'source': 5, 'type': 0, 'event': 1607438960697120}\n",
      "851 {'erefs': ['g2i/FsUsUSJNNDKonbNsagNQ8HK4F6vkD4UI+B53LeKYhhqgQLDhVXn/zCd9AsTWv4UvxzCi0UXngoc='], 'vis': 2, 'collectionId': '250152065', 'content': {'id': '879635467', 'createdAt': 1607438449, 'parentId': ''}, 'source': 5, 'type': 0, 'event': 1607438489845729}\n",
      "857 {'erefs': ['F49SRk3kBX7bVzCR3AQWCZEAwRiJgv0DhUbcAyzAFFb5sB62k0vzm4iNU7+tsVsdUxtFTseCAXIo2Fc='], 'vis': 2, 'collectionId': '250152065', 'content': {'ancestorId': '879635493', 'id': '879635731', 'createdAt': 1607438645, 'parentId': '879635705'}, 'source': 5, 'type': 0, 'event': 1607438645612609}\n",
      "861 {'erefs': ['7vl53ev7ztfa4RWk6/Y80bTmnUQ18RTNHuTHBt+B61s/SYAOnWShLtDjiGRTnN1K1b0hiFRLVj7o9xQ='], 'vis': 2, 'collectionId': '250152065', 'content': {'ancestorId': '879635493', 'id': '879635850', 'createdAt': 1607438720, 'parentId': '879635741'}, 'source': 5, 'type': 0, 'event': 1607438805703907}\n",
      "862 {'vis': 0, 'collectionId': '250152065', 'content': {'ancestorId': '879635493', 'id': '879635552', 'createdAt': 1607438520, 'parentId': '879635493'}, 'source': 5, 'type': 0, 'event': 1607438914151439}\n",
      "866 {'erefs': ['aP/L1xpSQ7WscLxQj915kd9bQ2q25FQFQgdjIJwv0dcnJnl1U72dYBvZ1yCHm5MTNMWpBiT9tuZ2IbU='], 'vis': 2, 'collectionId': '250152065', 'content': {'ancestorId': '879635504', 'id': '879635629', 'createdAt': 1607438576, 'parentId': '879635504'}, 'source': 5, 'type': 0, 'event': 1607438606916596}\n",
      "880 {'erefs': ['lgPkB0+0v8ONrDnQstrwLsSU7gLktSAX1MP0epKJGSSNQN83pIXWb85Dtv8NFmjzaQ/m0j3zrHITfZk='], 'vis': 2, 'collectionId': '250152065', 'content': {'id': '879635597', 'createdAt': 1607438548, 'parentId': ''}, 'source': 0, 'type': 0, 'event': 1607438599823611}\n",
      "881 {'erefs': ['3lULnu8acZrEn44RcZvxFoJuUjuwUwR1WaCW4hAV9daMrNFLbrNFxOiEpTYjnyOC12INdXzvX/pSW/4='], 'vis': 2, 'collectionId': '250152065', 'content': {'id': '879635625', 'createdAt': 1607438573, 'parentId': ''}, 'source': 5, 'type': 0, 'event': 1607438620873619}\n",
      "903 {'erefs': ['Y+mDEAj5ZcDh8oxLtLaLeKpSqhmoC/5rkWLZZMNW8GdBWFu8yYtJtG4Xd1NLSaYGvAqWO3nB4YulGVQ='], 'vis': 2, 'collectionId': '250152065', 'content': {'id': '879635790', 'createdAt': 1607438684, 'parentId': ''}, 'source': 5, 'type': 0, 'event': 1607438749977449}\n",
      "905 {'erefs': ['Txp0na3oAeCi9IxiNG8eMHU/PDG7icjgAiDn5BT+lHi1s0Els1cvtdL9c+miZlxnmaLA+HC3zpOjMkY='], 'vis': 2, 'collectionId': '250152065', 'content': {'ancestorId': '879635800', 'id': '879636170', 'createdAt': 1607438969, 'parentId': '879635800'}, 'source': 5, 'type': 0, 'event': 1607438969355783}\n",
      "911 {'erefs': ['u73Khg4X1a1/VA1w7OgKDPN+84ZH6ZWgbbT00B3Ubu/xQ6af4pShNcioACEg2YGHB3EWufFrNdLwXmU='], 'vis': 2, 'collectionId': '250152065', 'content': {'ancestorId': '879635843', 'id': '879635963', 'createdAt': 1607438792, 'parentId': '879635932'}, 'source': 5, 'type': 0, 'event': 1607438862698004}\n",
      "912 {'erefs': ['u73Khg4X1a1/VA1w7+MMDPN+89xLu83/bbGi30CAbbnySaPP7s2gNJetDiR+gNXQByERuv9qMYCgWWQ='], 'vis': 2, 'collectionId': '250152065', 'content': {'ancestorId': '879635843', 'id': '879636203', 'createdAt': 1607439004, 'parentId': '879636100'}, 'source': 5, 'type': 0, 'event': 1607439004199760}\n",
      "922 {'erefs': ['0DqFAifx7PLqqh/BKPS+th5EDhLhSP8k3Sm259SW6bvhYbZFdQbhESYKN6owGtB2nFR6KGrx3EqUZ9U='], 'vis': 2, 'collectionId': '250152065', 'content': {'ancestorId': '879635861', 'id': '879636449', 'createdAt': 1607439214, 'parentId': '879635861'}, 'source': 5, 'type': 0, 'event': 1607439267759443}\n",
      "924 {'erefs': ['FDW5LnMeHfV4MFe4hN/0r4+wcQbZH3KYfoyYQdegIU83fhi2TN2mQ/iSmb1Dp8lmPPIp6saIvPKASxc='], 'vis': 2, 'collectionId': '250152065', 'content': {'ancestorId': '879635861', 'id': '879636353', 'createdAt': 1607439143, 'parentId': '879635861'}, 'source': 5, 'type': 0, 'event': 1607439209725388}\n",
      "929 {'erefs': ['57U0s2Kp/57UDqy4skw2KMuGFcQFj12xt/+csdMrqz3bcsucb170rjMUHwUEQqVDXygdi87TIleUUqg='], 'vis': 2, 'collectionId': '250152065', 'content': {'ancestorId': '879635899', 'id': '879636033', 'createdAt': 1607438861, 'parentId': '879635899'}, 'source': 5, 'type': 0, 'event': 1607438893710176}\n",
      "937 {'erefs': ['eYtvcXF4HFrMCALhH82jHuw9/y6BoOq6xsNcGsD0Y8ZAER8E76gI6O3I5aUYicOo0tWMfO74CkH9Q/U='], 'vis': 2, 'collectionId': '250152065', 'content': {'id': '879635975', 'createdAt': 1607438803, 'parentId': ''}, 'source': 5, 'type': 0, 'event': 1607438803990005}\n",
      "939 {'erefs': ['k8dgIYSzf329TCVLzf6WYYEP01o4lvabauUsBnfn7OnwzBlRflquU308wi0ViMZJOFJLuDr+4vMQoaE='], 'vis': 2, 'collectionId': '250152065', 'content': {'ancestorId': '879636004', 'id': '879636740', 'createdAt': 1607439473, 'parentId': '879636004'}, 'source': 5, 'type': 0, 'event': 1607439498719881}\n",
      "944 {'erefs': ['eYtvcXF4HFrMCALhHMSmG+w9/yiJ/Orvk5FYRJHyYpNCREgFuPJf6OjK6/sQ2cWr04KLe7XyWEn9F6w='], 'vis': 2, 'collectionId': '250152065', 'content': {'id': '879636020', 'createdAt': 1607438843, 'parentId': ''}, 'source': 5, 'type': 0, 'event': 1607438843879511}\n",
      "947 {'erefs': ['Gjp2MhBiEJdJpDBtWODkxitZVATNCSmdikVcQPl8tO3uo7jJKgsjS+DkEcIFotldHPf1TGQcKel/+6U='], 'vis': 2, 'collectionId': '250152065', 'content': {'ancestorId': '879636036', 'id': '879636167', 'createdAt': 1607438966, 'parentId': '879636036'}, 'source': 5, 'type': 0, 'event': 1607439023700623}\n",
      "948 {'erefs': ['EFnbAvM2oR8xfxcsdj6AuNj/GevFj9dEgZV3Si8lQ+HbxWs6ZsThUJg3AqdFbJmIXfJfrOP3nkqjmYk='], 'vis': 2, 'collectionId': '250152065', 'content': {'id': '879636037', 'createdAt': 1607438866, 'parentId': ''}, 'source': 5, 'type': 0, 'event': 1607438901672763}\n",
      "952 {'erefs': ['u73Khg4X1a1/VA1w7+UICfN+84MbsZvxZ+D12xaEZuynEqjO75qmO5b7B3ci1NOCAHVG5vJmYNL1XjI='], 'vis': 2, 'collectionId': '250152065', 'content': {'ancestorId': '879636042', 'id': '879636446', 'createdAt': 1607439211, 'parentId': '879636324'}, 'source': 5, 'type': 0, 'event': 1607439211323393}\n",
      "961 {'erefs': ['5qWjyXkFZ6wJuKeylD5Qi4V8lMGUrUnDWhX4tMh9uCHZ+dMgCzeI+5FNT5HQETswQWBqi43wRhXN5vo='], 'vis': 2, 'collectionId': '250152065', 'content': {'ancestorId': '879636073', 'id': '879636102', 'createdAt': 1607438917, 'parentId': '879636073'}, 'source': 5, 'type': 0, 'event': 1607438917434886}\n",
      "972 {'erefs': ['7vl53ev7ztfa4RWk6Pw80rTmnRQw9hzNHuGRVteD4QBuTIBUmmemI9Cy3mZSzt1O3bl121tLBTvpp0Q='], 'vis': 2, 'collectionId': '250152065', 'content': {'ancestorId': '879636125', 'id': '879636253', 'createdAt': 1607439054, 'parentId': '879636125'}, 'source': 5, 'type': 0, 'event': 1607439055111878}\n",
      "981 {'erefs': ['3DjFFQmNlBslSoKqvjhryBudjy5orMVVw1q65WYnrbnJlKzpjpVVrgt0iRTIdNlT74kG71BibXasvag='], 'vis': 2, 'collectionId': '250152065', 'content': {'ancestorId': '879636224', 'id': '879636766', 'createdAt': 1607439494, 'parentId': '879636224'}, 'source': 5, 'type': 0, 'event': 1607439556701236}\n",
      "986 {'erefs': ['YO+FGbzGxgFsqja+Yz+QDML5kO0/Q1wyLVyMnxUzhKzOzJ4PyNkH+G97U8rEsZiHDAx2g9fs7oKZtRE='], 'vis': 2, 'collectionId': '250152065', 'content': {'id': '879636236', 'createdAt': 1607439034, 'parentId': ''}, 'source': 5, 'type': 0, 'event': 1607439034871847}\n",
      "991 {'erefs': ['u73Khg4X1a1/VA1w7+cICfN+84FJu5vzaub02B3Xau+oQ6ObtJSmOp37ASN22dGGBnVFvaU9NoCkXGk='], 'vis': 2, 'collectionId': '250152065', 'content': {'ancestorId': '879636238', 'id': '879636646', 'createdAt': 1607439378, 'parentId': '879636529'}, 'source': 5, 'type': 0, 'event': 1607439378682011}\n",
      "993 {'erefs': ['u73Khg4X1a1/VA1w7+ULC/N+891NvJjybunzjxPXOuKiE6OUtJT0ZMv8UCR32dCMBnRMufNoZNKjATc='], 'vis': 2, 'collectionId': '250152065', 'content': {'ancestorId': '879636238', 'id': '879636474', 'createdAt': 1607439238, 'parentId': '879636440'}, 'source': 5, 'type': 0, 'event': 1607439238491968}\n",
      "996 {'erefs': ['sMvm6pCfNv1SAuAJHyG1h2VaK5/h/3zPv+uijTOj+sjL+PPCvs78KFP3P7tUG2mtPxkQikJ4KV2nzD8='], 'vis': 2, 'collectionId': '250152065', 'content': {'ancestorId': '879636238', 'id': '879636345', 'createdAt': 1607439135, 'parentId': '879636238'}, 'source': 5, 'type': 0, 'event': 1607439186839728}\n",
      "999 {'vis': 0, 'collectionId': '250152065', 'content': {'id': '879636280', 'createdAt': 1607439074, 'parentId': ''}, 'source': 5, 'type': 0, 'event': 1607439154463693}\n",
      "1002 {'erefs': ['ZznNEccaLBiy1SqKkaU/cn8RJ84IBehNeu16nGfMQkuWAo14tuD0wiTM4B+FLT9miPldFGOHF0J7PMQ='], 'vis': 2, 'collectionId': '250152065', 'content': {'id': '879636310', 'createdAt': 1607439103, 'parentId': ''}, 'source': 5, 'type': 0, 'event': 1607439149796437}\n",
      "1004 {'erefs': ['dnIiiN4V2ik9uwQ+LejZA+j8vEo6XHZOqbt/geZf6+3Uj3nsCQvRqXHDXHV2zVHA4EfHHYwwH9rhU5w='], 'vis': 2, 'collectionId': '250152065', 'content': {'id': '879636321', 'createdAt': 1607439118, 'parentId': ''}, 'source': 5, 'type': 0, 'event': 1607439211718535}\n",
      "1005 {'vis': 0, 'collectionId': '250152065', 'content': {'ancestorId': '879636321', 'id': '879636366', 'createdAt': 1607439150, 'parentId': '879636321'}, 'source': 5, 'type': 0, 'event': 1607439355330608}\n",
      "1007 {'erefs': ['7vl53ev7ztfa4RWk6f0/1bTmnRQ0phWbRu3EUdeF4Qk5R4FbnmPzIoHh2TRSmN8egLon3A0ZCDi7phM='], 'vis': 2, 'collectionId': '250152065', 'content': {'ancestorId': '879636325', 'id': '879637364', 'createdAt': 1607440031, 'parentId': '879636385'}, 'source': 5, 'type': 0, 'event': 1607440095655273}\n",
      "1008 {'erefs': ['u73Khg4X1a1/VA1w7+IKCPN+89BGuJ6kZ7P12RSBO+zxSfCf7pukMp+tDyB10NzQVCcRvaRqMojwDTc='], 'vis': 2, 'collectionId': '250152065', 'content': {'ancestorId': '879636325', 'id': '879636367', 'createdAt': 1607439151, 'parentId': '879636325'}, 'source': 5, 'type': 0, 'event': 1607439197724182}\n",
      "1009 {'vis': 0, 'collectionId': '250152065', 'content': {'ancestorId': '879636325', 'id': '879636460', 'createdAt': 1607439224, 'parentId': '879636325'}, 'source': 5, 'type': 0, 'event': 1607440071962892}\n",
      "1017 {'vis': 0, 'collectionId': '250152065', 'content': {'id': '879636405', 'createdAt': 1607439180, 'parentId': ''}, 'source': 5, 'type': 0, 'event': 1607439227704460}\n",
      "1039 {'vis': 0, 'collectionId': '250152065', 'content': {'ancestorId': '879636485', 'id': '879636612', 'createdAt': 1607439352, 'parentId': '879636485'}, 'source': 5, 'type': 0, 'event': 1607439367613266}\n",
      "1043 {'erefs': ['sMvm6pCfNv1SAuAJHya5i2VaK5jloCrOu+ekj2Wjr5+V/6af7J30fFmhbOxdGGr8PxYX3RcscVb1yWc='], 'vis': 2, 'collectionId': '250152065', 'content': {'id': '879636489', 'createdAt': 1607439253, 'parentId': ''}, 'source': 5, 'type': 0, 'event': 1607439253922938}\n",
      "1045 {'erefs': ['dnIiiN4V2ik9uwQ+Le7fAOj8vEppDiYS8rIohOAKvbfVgX+9WV6Hrn2QWXAvxlect0STGdtnHom5VJ0='], 'vis': 2, 'collectionId': '250152065', 'content': {'ancestorId': '879636499', 'id': '879636542', 'createdAt': 1607439296, 'parentId': '879636499'}, 'source': 5, 'type': 0, 'event': 1607439333671801}\n",
      "1046 {'vis': 0, 'collectionId': '250152065', 'content': {'ancestorId': '879636499', 'id': '879636570', 'createdAt': 1607439323, 'parentId': '879636542'}, 'source': 5, 'type': 0, 'event': 1607439363242838}\n",
      "1057 {'erefs': ['7vl53ev7ztfa4RWk6Pk92bTmnUQxphWbQ+PCAoKK7lk9SoRUymOieYC922gIyIwdgL8viF9CUmq18RE='], 'vis': 2, 'collectionId': '250152065', 'content': {'ancestorId': '879636554', 'id': '879636748', 'createdAt': 1607439480, 'parentId': '879636594'}, 'source': 5, 'type': 0, 'event': 1607439481019405}\n",
      "1067 {'erefs': ['sMvm6pCfNv1SAuAJHySzh2VaK5+w9SiYuOGr2GKh/8uW/fPG6c71L1mub+BSHj6obhdGjUF/I1vxmjw='], 'vis': 2, 'collectionId': '250152065', 'content': {'ancestorId': '879636577', 'id': '879636625', 'createdAt': 1607439362, 'parentId': '879636577'}, 'source': 5, 'type': 0, 'event': 1607439440697441}\n",
      "1068 {'erefs': ['O0PckIC9fuFUTpKa+dj01f6KzYowTzUlyc4uFKafKp6nKHThnAzDfwuDno4ANcjHIoMOBf4RJXYU/hI='], 'vis': 2, 'collectionId': '250152065', 'content': {'ancestorId': '879636577', 'id': '879636844', 'createdAt': 1607439555, 'parentId': '879636577'}, 'source': 5, 'type': 0, 'event': 1607439625692824}\n",
      "1075 {'erefs': ['sMvm6pCfNv1SAuAJHyS5hmVaK8m0pCzJ6LeqiG+ooJ7F+/LC7M+pflDyOOxdFT76O00d2RAnI1vxzzw='], 'vis': 2, 'collectionId': '250152065', 'content': {'ancestorId': '879636662', 'id': '879636684', 'createdAt': 1607439414, 'parentId': '879636662'}, 'source': 5, 'type': 0, 'event': 1607439428787460}\n",
      "1084 {'vis': 0, 'collectionId': '250152065', 'content': {'id': '879636702', 'createdAt': 1607439432, 'parentId': ''}, 'source': 0, 'type': 0, 'event': 1607439632747619}\n",
      "1091 {'erefs': ['iuUqV8gllcBSPm8D3Ux8PXNS3MHj33mkYjyAK1kzUvDil3E851YJzv89WvonjXOz4bYAXlW4AldAE4M='], 'vis': 2, 'collectionId': '250152065', 'content': {'ancestorId': '879636705', 'id': '879636923', 'createdAt': 1607439622, 'parentId': '879636705'}, 'source': 5, 'type': 0, 'event': 1607439697687897}\n",
      "1092 {'erefs': ['sMvm6pCfNv1SAuAJHyWyh2VaK8nk93yY7OKhimel+pnArabFuMr+K1SgPu8GHW2rbkgX2RgndVqjnzg='], 'vis': 2, 'collectionId': '250152065', 'content': {'ancestorId': '879636705', 'id': '879636735', 'createdAt': 1607439468, 'parentId': '879636705'}, 'source': 5, 'type': 0, 'event': 1607439510695306}\n",
      "1099 {'vis': 0, 'collectionId': '250152065', 'content': {'id': '879636781', 'createdAt': 1607439504, 'parentId': ''}, 'source': 5, 'type': 0, 'event': 1607439707367947}\n",
      "1107 {'erefs': ['sMvm6pCfNv1SAuAJHyqygWVaK83l9S3L6rD3imGj+sjL/6GRv8b5fAX3aOBUGzitPU8Q0ER7cg2rn24='], 'vis': 2, 'collectionId': '250152065', 'content': {'ancestorId': '879636813', 'id': '879636833', 'createdAt': 1607439550, 'parentId': '879636813'}, 'source': 5, 'type': 0, 'event': 1607439625686984}\n",
      "1115 {'erefs': ['u73Khg4X1a1/VA1w7+kEDvN+89Adv873PeX02RKEObylEqjO4ZqnMJr/ACNzgoGAACARvKNuM4ahAWI='], 'vis': 2, 'collectionId': '250152065', 'content': {'ancestorId': '879636854', 'id': '879636881', 'createdAt': 1607439585, 'parentId': '879636854'}, 'source': 5, 'type': 0, 'event': 1607439629712332}\n",
      "1125 {'erefs': ['u73Khg4X1a1/VA1w7+gOCfN+89VKupqnaeig3kDbObujQ6GZsp+kMs+sBXRx0tbQB3NN6fY+NYjyAGI='], 'vis': 2, 'collectionId': '250152065', 'content': {'ancestorId': '879636854', 'id': '879636926', 'createdAt': 1607439624, 'parentId': '879636902'}, 'source': 5, 'type': 0, 'event': 1607439689706134}\n",
      "1128 {'erefs': ['k5/r0vombQuOo7WvLvNlFEPVCp+0eN/t1273Eek2vsgCJUA77jrQ1YjrGITTFMAeU6jzHeQtn2gYMlA='], 'vis': 2, 'collectionId': '250152065', 'content': {'ancestorId': '879636857', 'id': '879637149', 'createdAt': 1607439818, 'parentId': '879636857'}, 'source': 5, 'type': 0, 'event': 1607439860667071}\n",
      "1129 {'erefs': ['EPCzF/N7b0McZ8AcmlnVqQOipKO9oU+uBgDpROfTLmNO6e4rpbdXGqjCbjsEQ7pEtinPkJqaMP0836I='], 'vis': 2, 'collectionId': '250152065', 'content': {'ancestorId': '879636857', 'id': '879638294', 'createdAt': 1607440902, 'parentId': '879636857'}, 'source': 5, 'type': 0, 'event': 1607440929745166}\n",
      "1130 {'erefs': ['sMvm6pCfNv1SAuAJHyq4hGVaK5nu9C/Lv+P33Wam+M7C//2Xucn7eQTybrsBGWOgP00R2BgpI12izzo='], 'vis': 2, 'collectionId': '250152065', 'content': {'ancestorId': '879636857', 'id': '879636896', 'createdAt': 1607439599, 'parentId': '879636857'}, 'source': 5, 'type': 0, 'event': 1607439673671785}\n",
      "1139 {'erefs': ['aDaZlBDQXvEszHpTN8fEG3Gtaafc2JjBX3iZMGw2mTvB8WMjHbsN1OdNFoxfNWzaNQMxldDuNLmEvnc='], 'vis': 2, 'collectionId': '250152065', 'content': {'ancestorId': '879636920', 'id': '879637235', 'createdAt': 1607439900, 'parentId': '879636920'}, 'source': 5, 'type': 0, 'event': 1607439973675029}\n",
      "1141 {'vis': 0, 'collectionId': '250152065', 'content': {'id': '879636927', 'createdAt': 1607439625, 'parentId': ''}, 'source': 5, 'type': 0, 'event': 1607439994129971}\n",
      "1144 {'vis': 0, 'collectionId': '250152065', 'content': {'ancestorId': '879636927', 'id': '879637161', 'createdAt': 1607439827, 'parentId': '879637014'}, 'source': 5, 'type': 0, 'event': 1607439995504588}\n",
      "1161 {'erefs': ['rk3ALmi8XBSgOG0zpo2LRHf0zTNMrov/NMoY1LV3D+wVfbSX5e+BNqAtBzsi1lekfCUK0tlHxAvnqiM='], 'vis': 2, 'collectionId': '250152065', 'content': {'ancestorId': '879637031', 'id': '879637248', 'createdAt': 1607439912, 'parentId': '879637031'}, 'source': 5, 'type': 0, 'event': 1607439971716902}\n",
      "1172 {'erefs': ['iuUqV8gllcBSPm8D3EV3PnNS3JC01yunNmjXeQ43WfCzwyNo7AtUya08Cqd8gXWy7LEHWFHrUV0RSoc='], 'vis': 2, 'collectionId': '250152065', 'content': {'id': '879637090', 'createdAt': 1607439760, 'parentId': ''}, 'source': 5, 'type': 0, 'event': 1607439801694943}\n",
      "1178 {'erefs': ['bpS1QH93jRY+taNquXGdLJnoZmFEiv886EtM8hrNw1/Avm0jB4rE+Fwpr/FEF1Xzew5n369PK6LuJTo='], 'vis': 2, 'collectionId': '250152065', 'content': {'ancestorId': '879637119', 'id': '879637439', 'createdAt': 1607440091, 'parentId': '879637240'}, 'source': 5, 'type': 0, 'event': 1607440152733378}\n",
      "1180 {'vis': 0, 'collectionId': '250152065', 'content': {'id': '879637123', 'createdAt': 1607439795, 'parentId': ''}, 'source': 5, 'type': 0, 'event': 1607439959084397}\n",
      "1186 {'erefs': ['u73Khg4X1a1/VA1w7uIODvN+891IsZn3bLPzjBzWZuqnQ/Oa5ZrwMparBiRw0IaCBnNA6aRmNdKvWWI='], 'vis': 2, 'collectionId': '250152065', 'content': {'ancestorId': '879637137', 'id': '879637321', 'createdAt': 1607439984, 'parentId': '879637286'}, 'source': 5, 'type': 0, 'event': 1607440044695280}\n",
      "1204 {'erefs': ['HoMEJZJis0aB1vZ4LKdgIBqmX6qCtglb4bR724m2ejgLExcZXdZm0rUZhKFnrgRRShTcxqhDDVnd0sw='], 'vis': 2, 'collectionId': '250152065', 'content': {'id': '879637320', 'createdAt': 1607439983, 'parentId': ''}, 'source': 5, 'type': 0, 'event': 1607440034714972}\n",
      "1206 {'erefs': ['u73Khg4X1a1/VA1w7ucPDvN+84FPvs+kbemm3BOEPeOjFfCUtJmtNZz+BC8k2NDUBCZCvaI5NNb1DzI='], 'vis': 2, 'collectionId': '250152065', 'content': {'ancestorId': '879637343', 'id': '879637631', 'createdAt': 1607440276, 'parentId': '879637590'}, 'source': 5, 'type': 0, 'event': 1607440276558601}\n",
      "1207 {'erefs': ['5Bs8bMjFzg4+NqFGME3+cXcyuVt5uo3Zoj0kOZK+q5VR80n0rmC23hFHeSSniwhqvosBPUJbdg0SQCU='], 'vis': 2, 'collectionId': '250152065', 'content': {'ancestorId': '879637343', 'id': '879637457', 'createdAt': 1607440109, 'parentId': '879637436'}, 'source': 5, 'type': 0, 'event': 1607440110109211}\n",
      "1210 {'erefs': ['u73Khg4X1a1/VA1w7uQJDPN+89dMu5ikO+L22RLUZ7yoEqfNsp+hNJavVy50gN3XAiZEvPNtP4DyDWM='], 'vis': 2, 'collectionId': '250152065', 'content': {'ancestorId': '879637343', 'id': '879637553', 'createdAt': 1607440208, 'parentId': '879637377'}, 'source': 5, 'type': 0, 'event': 1607440269715373}\n",
      "1212 {'erefs': ['bpS1QH93jRY+taNquXabJJnoZmAXj/w06R0U8h2ZlQ3D6GkvANvE9Ap5/f9LQFGkLwc13q8fK6Lpc2o='], 'vis': 2, 'collectionId': '250152065', 'content': {'id': '879637351', 'createdAt': 1607440017, 'parentId': ''}, 'source': 5, 'type': 0, 'event': 1607440042681557}\n",
      "1213 {'erefs': ['iuUqV8gllcBSPm8D3EZ4NnNS3Ma11CmoP26ELls1W6q1lXJo6QFUm/gxWKx6hXXn5+cBDgvsBw5HRtA='], 'vis': 2, 'collectionId': '250152065', 'content': {'id': '879637368', 'createdAt': 1607440036, 'parentId': ''}, 'source': 5, 'type': 0, 'event': 1607440093664498}\n",
      "1214 {'erefs': ['iuUqV8gllcBSPm8D3EZ3PXNS3Jbm1in2NG/UKw8yU/3jlyBivQcBy6xnDal+gn+ysOZRXQS3B1YURdA='], 'vis': 2, 'collectionId': '250152065', 'content': {'id': '879637393', 'createdAt': 1607440059, 'parentId': ''}, 'source': 5, 'type': 0, 'event': 1607440085722549}\n",
      "1219 {'erefs': ['Trg6t0rUyj5nfT/0lTmZV76JO+J7NVmuRS9GS7CLytwj9oY6Hq03EmJU0O9DlMOTVlCkS02sygQrZOs='], 'vis': 2, 'collectionId': '250152065', 'content': {'id': '879637442', 'createdAt': 1607440095, 'parentId': ''}, 'source': 0, 'type': 0, 'event': 1607440168773280}\n",
      "1225 {'erefs': ['yQLgY2gkEnSK0cq8PlbHyvdNkfn+hZrIXsg/B7/XlptqSjeX0UXcLrleVgfApP1Nh5ahHcvqcQlIZ1Y='], 'vis': 2, 'collectionId': '250152065', 'content': {'ancestorId': '879637441', 'id': '879637773', 'createdAt': 1607440432, 'parentId': '879637441'}, 'source': 5, 'type': 0, 'event': 1607440452930916}\n",
      "1227 {'erefs': ['FBuOPPv11E3mq8T5z+/ibp8tIVIGH6iqKShQccZkkRGkIJCkHq775Oo5iwL5zmZmrIMNJwK4+/bJDSg='], 'vis': 2, 'collectionId': '250152065', 'content': {'id': '879637464', 'createdAt': 1607440113, 'parentId': ''}, 'source': 5, 'type': 0, 'event': 1607440113642868}\n",
      "1250 {'erefs': ['ecW27UO4hQndF2KFrSZlnZ6yXZ9dlNQOS6lqRzloQt13N0VP/Va4D+BT5nJBuoULYgf7UmCKsE1SjIQ='], 'vis': 2, 'collectionId': '250152065', 'content': {'id': '879637639', 'createdAt': 1607440286, 'parentId': ''}, 'source': 5, 'type': 0, 'event': 1607440325811350}\n",
      "1256 {'erefs': ['u73Khg4X1a1/VA1w7ucLBvN+89VP7Jr2a7T2jxzXarn1QKXOs86nO5mjUiZyhNKDB3tG7PJvZ4nyCTc='], 'vis': 2, 'collectionId': '250152065', 'content': {'ancestorId': '879637658', 'id': '879637679', 'createdAt': 1607440335, 'parentId': '879637658'}, 'source': 5, 'type': 0, 'event': 1607440335164346}\n",
      "1259 {'erefs': ['bpruTTPMFLtpi3aESeDWz7+L3Tgn5geEhmt0744Ufbt9SosshREusVL+41FKFrbE2wlZa8nmr8zFmXU='], 'vis': 2, 'collectionId': '250152065', 'content': {'id': '879637700', 'createdAt': 1607440354, 'parentId': ''}, 'source': 5, 'type': 0, 'event': 1607440405685904}\n",
      "1268 {'vis': 0, 'collectionId': '250152065', 'content': {'id': '879637726', 'createdAt': 1607440385, 'parentId': ''}, 'source': 5, 'type': 0, 'event': 1607440415653389}\n",
      "1270 {'erefs': ['7OSSCkYtpHoCmyxuYMYgJ8alE5UEz7EAfMv/zyf6i1YDi2HYcr3d3mvBqjfPG0OpZCb7y5uVlXJ2Irk='], 'vis': 2, 'collectionId': '250152065', 'content': {'id': '879637758', 'createdAt': 1607440419, 'parentId': ''}, 'source': 5, 'type': 0, 'event': 1607440446872605}\n",
      "1287 {'erefs': ['B0/85SEJrJJVTD7h//MmjZYtbHZLqh7WUi8ykBj1VFEPXdcS0py1k6S0t64GVIcZAWZfXSQuxiYn49s='], 'vis': 2, 'collectionId': '250152065', 'content': {'ancestorId': '879637858', 'id': '879638169', 'createdAt': 1607440813, 'parentId': '879638111'}, 'source': 5, 'type': 0, 'event': 1607440869724026}\n",
      "1293 {'erefs': ['AwdK4OBrgo10jqJsPq5t306LsPba7aN58oAfBKs/A97w1rO7lDSREVknYc+WvOEjwNuCsygZ6r/8g48='], 'vis': 2, 'collectionId': '250152065', 'content': {'id': '879637881', 'createdAt': 1607440547, 'parentId': ''}, 'source': 0, 'type': 0, 'event': 1607440608547172}\n",
      "1295 {'erefs': ['N88Yh/NTzbOu4GvvnT0SYdUp3xLvFAmyU4NcJm+hPbKcdB91ogPqWzYhDnTxAZAZkW5PZGOkxu5G6Lg='], 'vis': 2, 'collectionId': '250152065', 'content': {'id': '879637903', 'createdAt': 1607440564, 'parentId': ''}, 'source': 5, 'type': 0, 'event': 1607440632677740}\n",
      "1297 {'erefs': ['K05qkj/L7OxaTEdNTQsRsWzhcrO2at46bSRSSfU4C3ajLwkoEAZBHanh5SCNpyQIuvcXwWlfy02SiH4='], 'vis': 2, 'collectionId': '250152065', 'content': {'id': '879637922', 'createdAt': 1607440581, 'parentId': ''}, 'source': 5, 'type': 0, 'event': 1607440626862693}\n",
      "1298 {'erefs': ['B0/85SEJrJJVTD7h8Psih5YtbHZMrh2FVXA9lUv2BFNZX4IUg5nmw6Gy7/FUV9FNATRVDnQow38nsdw='], 'vis': 2, 'collectionId': '250152065', 'content': {'id': '879637923', 'createdAt': 1607440583, 'parentId': ''}, 'source': 5, 'type': 0, 'event': 1607440626869383}\n",
      "1299 {'erefs': ['5Bs8bMjFzg4+NqFGP0n8cncyuVMt6tDV9TolOp+6+pMG80788TC130BDf3Go0Fw7uogIaxcIJgwcGic='], 'vis': 2, 'collectionId': '250152065', 'content': {'ancestorId': '879637923', 'id': '879638074', 'createdAt': 1607440727, 'parentId': '879638042'}, 'source': 5, 'type': 0, 'event': 1607440746753393}\n",
      "1304 {'erefs': ['B0/85SEJrJJVTD7h//IjgZYtbHRMrRGFA3FqkR+gA1FVXdVHh86/yfixuaoKVNdOBGoHUiB8xHxy5N4='], 'vis': 2, 'collectionId': '250152065', 'content': {'ancestorId': '879637923', 'id': '879638035', 'createdAt': 1607440691, 'parentId': '879638014'}, 'source': 5, 'type': 0, 'event': 1607440750745626}\n",
      "1306 {'erefs': ['lgPkB0+0v8ONrDnQsNb9LMSU7lPt5CVG0ZD0KMPeGHSKQI0+qt+Hb8sWtvtaQDqgYgrk32r+q3NDec0='], 'vis': 2, 'collectionId': '250152065', 'content': {'id': '879637945', 'createdAt': 1607440604, 'parentId': ''}, 'source': 5, 'type': 0, 'event': 1607440648690606}\n",
      "1307 {'erefs': ['QfqSBdd+x/KfnIE1UReHDSsVu5R/xgP3tJVCCp53VCmOT0sA57zPVrJ3zDJ51gFUN5F7t7xllICz7lg='], 'vis': 2, 'collectionId': '250152065', 'content': {'id': '879637966', 'createdAt': 1607440619, 'parentId': ''}, 'source': 5, 'type': 0, 'event': 1607440693703682}\n",
      "1308 {'erefs': ['7QNfJNsfevVOR/yR2t+5rmr2zt57zd5ye7CYQIYTOu6y08DQtZmrTy0kBhcO6uImXGWwU0OZm/a6eJw='], 'vis': 2, 'collectionId': '250152065', 'content': {'id': '879637980', 'createdAt': 1607440634, 'parentId': ''}, 'source': 5, 'type': 0, 'event': 1607440707666731}\n",
      "1310 {'erefs': ['whB2Wgf682oyMvc0mVyCuX3rgDVtKDvLDYn1TSMpa+bMHQplMCHxZRef+uu8mCRscHgxt8r2oTr5PlM='], 'vis': 2, 'collectionId': '250152065', 'content': {'id': '879637988', 'createdAt': 1607440647, 'parentId': ''}, 'source': 5, 'type': 0, 'event': 1607440695755782}\n",
      "1312 {'vis': 0, 'collectionId': '250152065', 'content': {'id': '879637993', 'createdAt': 1607440652, 'parentId': ''}, 'source': 5, 'type': 0, 'event': 1607441185466308}\n",
      "1322 {'erefs': ['zC2nynKkYJKbp/G8eSByAKDqlU1ORW3XCoksjCcREXOU4hrqvMDJ2Z5JyPwGIZ2sml97EjSdTGKwPhU='], 'vis': 2, 'collectionId': '250152065', 'content': {'id': '879638084', 'createdAt': 1607440734, 'parentId': ''}, 'source': 5, 'type': 0, 'event': 1607440735069118}\n",
      "1323 {'erefs': ['7QNfJNsfevVOR/yR1da5pmr2zt1yzNskeeKZEt4Qarqx1ZPQ5pD4GSpzChFf7uB0U2u4Uh+bmaS6csw='], 'vis': 2, 'collectionId': '250152065', 'content': {'id': '879638088', 'createdAt': 1607440737, 'parentId': ''}, 'source': 5, 'type': 0, 'event': 1607440737914229}\n",
      "1341 {'erefs': ['zC2nynKkYJKbp/G8eSJ5DaDqlUodFm/QX4x6iyJPEiXBth+468Ob18VIyPlQKJz+zVB+R2SYEmq+axA='], 'vis': 2, 'collectionId': '250152065', 'content': {'id': '879638239', 'createdAt': 1607440860, 'parentId': ''}, 'source': 5, 'type': 0, 'event': 1607440860962147}\n",
      "1353 {'vis': 0, 'collectionId': '250152065', 'content': {'id': '879638251', 'createdAt': 1607440869, 'parentId': ''}, 'source': 5, 'type': 0, 'event': 1607440900544627}\n",
      "1355 {'erefs': ['H8H6TlFxkcvCZRJKuHwnXfX+rkGGDE1wJKFLpPLWDd1VYgxMo5AAtzjoAGy9xsnkoOYQRA8dSel7LZU='], 'vis': 2, 'collectionId': '250152065', 'content': {'id': '879638265', 'createdAt': 1607440876, 'parentId': ''}, 'source': 5, 'type': 0, 'event': 1607440876850631}\n",
      "1356 {'erefs': ['H8H6TlFxkcvCZRJKuHclWPX+rkHWDhpxIadO8/DaDItRN19Nq8IGtTnsB23rx5uzo7BJEVocHex5KJs='], 'vis': 2, 'collectionId': '250152065', 'content': {'ancestorId': '879638265', 'id': '879638940', 'createdAt': 1607441451, 'parentId': '879638265'}, 'source': 5, 'type': 0, 'event': 1607441451588429}\n",
      "1365 {'erefs': ['drVDfcpIwZkXh0FxE1CckzO6zV6Mps7duyVNVMxN1zzt46cAHY3UJwbfmEAQOOEywvvog88sXeGIjKU='], 'vis': 2, 'collectionId': '250152065', 'content': {'id': '879638332', 'createdAt': 1607440949, 'parentId': ''}, 'source': 5, 'type': 0, 'event': 1607441007709666}\n",
      "1375 {'erefs': ['dRpCz7Ta8UxEsgpoeGn3ROrIcG9Bx1Vit6AceV/Q2Yhzqrwd2xSir7y6OFkC3n3lyfdRHK14WyZBbxM='], 'vis': 2, 'collectionId': '250152065', 'content': {'id': '879638374', 'createdAt': 1607440991, 'parentId': ''}, 'source': 5, 'type': 0, 'event': 1607441056666983}\n",
      "1377 {'erefs': ['id8Tgg/b7Ecayy3UW/4pRtTFfxUm5TmUPX8ghWgSCLyNwAeAO+coY6J/nml66dTAtpX0pFWiNdaoRt0='], 'vis': 2, 'collectionId': '250152065', 'content': {'id': '879638388', 'createdAt': 1607441008, 'parentId': ''}, 'source': 5, 'type': 0, 'event': 1607441072672339}\n",
      "1388 {'erefs': ['B0/85SEJrJJVTD7h//QlgJYtbHMbqxmPUS9owEqlAFVaC4JA156/w/bg7PoKBYVIA2IDCSV+wCdwtds='], 'vis': 2, 'collectionId': '250152065', 'content': {'ancestorId': '879638484', 'id': '879638654', 'createdAt': 1607441234, 'parentId': '879638624'}, 'source': 5, 'type': 0, 'event': 1607441294713879}\n",
      "1393 {'erefs': ['PslYTNiqUvtsLmX0QZfp6mKlT82Xw0n73sW3vvCp5ZgGIYzIJI5FI77r/2NGQu4nqoZA1TP6YpRGTKc='], 'vis': 2, 'collectionId': '250152065', 'content': {'id': '879638592', 'createdAt': 1607441183, 'parentId': ''}, 'source': 5, 'type': 0, 'event': 1607441257716294}\n",
      "1402 {'vis': 0, 'collectionId': '250152065', 'content': {'ancestorId': '879638632', 'id': '879638937', 'createdAt': 1607441448, 'parentId': '879638762'}, 'source': 5, 'type': 0, 'event': 1607441532952389}\n",
      "1410 {'erefs': ['qmAQIjSJCJ/QfmqSU7hBzvOv3xkJ6gIMhBCoJ2QJU+rgbxjU7a3e4haGmajbgczK1TbhEhG0beF1DJM='], 'vis': 2, 'collectionId': '250152065', 'content': {'id': '879638710', 'createdAt': 1607441282, 'parentId': ''}, 'source': 5, 'type': 0, 'event': 1607441346867975}\n",
      "1414 {'erefs': ['JdiuB99P8I97THO472XUz9oZsl1VKbZocjrkgzU/ax8Lxm5Q6JIqQ3sxSAbxgd/QdXRPBbZ1aBgT0jc='], 'vis': 2, 'collectionId': '250152065', 'content': {'id': '879638744', 'createdAt': 1607441310, 'parentId': ''}, 'source': 5, 'type': 0, 'event': 1607441311151442}\n",
      "1417 {'erefs': ['S4Z3Rf6go/uO6GBzg0zmx4/zifGJ8kcOgtgCTU7+dOUq95wz4r9FNaJuLKoUX6Weig+XKSW71ipKJxQ='], 'vis': 2, 'collectionId': '250152065', 'content': {'ancestorId': '879638763', 'id': '879638893', 'createdAt': 1607441415, 'parentId': '879638763'}, 'source': 5, 'type': 0, 'event': 1607441415423400}\n",
      "1422 {'erefs': ['qmAQIjSJCJ/QfmqSU7hGyPOv3x8MvlACjUahITUJB++wPBLXua3esUHSz6jagMbIgGizHUa0beMvC8Y='], 'vis': 2, 'collectionId': '250152065', 'content': {'id': '879638766', 'createdAt': 1607441325, 'parentId': ''}, 'source': 5, 'type': 0, 'event': 1607441325545791}\n",
      "1423 {'erefs': ['TocEEd0InufRASRyQ93Cl2XhVJki7Sbcwc6A60q2a2HO3Dzcqgimjj0TRnt1EoO1lHTe4lXt9+Chgxc='], 'vis': 2, 'collectionId': '250152065', 'content': {'id': '879638798', 'createdAt': 1607441350, 'parentId': ''}, 'source': 5, 'type': 0, 'event': 1607441411668902}\n",
      "1428 {'erefs': ['5Bs8bMjFzg4+NqFGPkn9dncyuQ9+u9bQ+DgoaZTrr8EA8Un49mGxjEYYKyCoig49vY8EakEJdgATGyc='], 'vis': 2, 'collectionId': '250152065', 'content': {'ancestorId': '879638798', 'id': '879639060', 'createdAt': 1607441541, 'parentId': '879639008'}, 'source': 5, 'type': 0, 'event': 1607441611661943}\n",
      "1435 {'erefs': ['TocEEd0InufRASRyQ9PIn2XhVJQg73KCxZqDu02yPGPAhjqB/lv81DoUESpyR4HiwHaBsFbo9Oys1xM='], 'vis': 2, 'collectionId': '250152065', 'content': {'ancestorId': '879638798', 'id': '879638930', 'createdAt': 1607441445, 'parentId': '879638843'}, 'source': 5, 'type': 0, 'event': 1607441483714721}\n",
      "1438 {'erefs': ['TocEEd0InufRASRyQtrLnGXhVJQlsieBlJ6H6RyyOGzL2Drbr16r3jEUHSlzEoayknyNtQfhorqh1UA='], 'vis': 2, 'collectionId': '250152065', 'content': {'ancestorId': '879638798', 'id': '879639003', 'createdAt': 1607441497, 'parentId': '879638969'}, 'source': 5, 'type': 0, 'event': 1607441548704088}\n",
      "1446 {'erefs': ['qmAQIjSJCJ/QfmqSU7dEzPOv300L6lRejhevKT8NU7iwOBHSvavTtxTXyvKBhMed0mK3QRLlOrB8D5Q='], 'vis': 2, 'collectionId': '250152065', 'content': {'id': '879638842', 'createdAt': 1607441381, 'parentId': ''}, 'source': 5, 'type': 0, 'event': 1607441381969596}\n",
      "1449 {'erefs': ['uoHwKYJibLz3CkpFR8B1jwgu+lJ/IPxyxdL+o0TeAeNqJ/Q3ZRKGCaX+4HSyPDqL2DTm3LVZS8I+fes='], 'vis': 2, 'collectionId': '250152065', 'content': {'id': '879638892', 'createdAt': 1607441415, 'parentId': ''}, 'source': 5, 'type': 0, 'event': 1607441475691353}\n",
      "1456 {'erefs': ['qmAQIjSJCJ/QfmqSU7ZEx/Ov3xhYuQBd2UL4JTUNBeu6ZEKHsK/Xs0SEzafQhsPM3jO5EUHiML0tX8M='], 'vis': 2, 'collectionId': '250152065', 'content': {'id': '879638949', 'createdAt': 1607441455, 'parentId': ''}, 'source': 5, 'type': 0, 'event': 1607441456012787}\n",
      "1463 {'erefs': ['S4Z3Rf6go/uO6GBzgkTuzI/ziaeL9kYB3YgEGhr9dLZ8/Zwz4ukUO/ZufP9AWPHK3QzNLS7viyVMIEI='], 'vis': 2, 'collectionId': '250152065', 'content': {'ancestorId': '879638980', 'id': '879639018', 'createdAt': 1607441507, 'parentId': '879638980'}, 'source': 5, 'type': 0, 'event': 1607441535809788}\n",
      "1464 {'erefs': ['Ds/4cYVcwT0zhcinKCNzlHyBjNJpIW++R/kOIR9xIfuyhEDBS/y9ehDqy4VlA5d81btS3My+GO+h6pw='], 'vis': 2, 'collectionId': '250152065', 'content': {'id': '879638984', 'createdAt': 1607441474, 'parentId': ''}, 'source': 0, 'type': 0, 'event': 1607441541481307}\n",
      "1465 {'erefs': ['qmAQIjSJCJ/QfmqSUr9Ax/Ov30hZ6gUM3RKvcz8JD+2xbxSD7azX4EXTn6XR1MTLgGa2FhC1OLd+DpE='], 'vis': 2, 'collectionId': '250152065', 'content': {'id': '879639009', 'createdAt': 1607441503, 'parentId': ''}, 'source': 5, 'type': 0, 'event': 1607441503145882}\n",
      "1467 {'vis': 0, 'collectionId': '250152065', 'content': {'id': '879639027', 'createdAt': 1607441518, 'parentId': ''}, 'source': 5, 'type': 0, 'event': 1607441587948778}\n",
      "1491 {'erefs': ['dRpCz7Ta8UxEsgpoeWnwQurIcGxKlQVuuPBPKFzS24guquocgBGh/bK6aF9R2Smxz6JVFKx0XXhCP0c='], 'vis': 2, 'collectionId': '250152065', 'content': {'id': '879639302', 'createdAt': 1607441729, 'parentId': ''}, 'source': 5, 'type': 0, 'event': 1607441729461675}\n"
     ]
    }
   ],
   "source": [
    "for j,x in enumerate(nota.coms):\n",
    "    try:\n",
    "        bs(x['content']['bodyHtml']).get_text().strip()\n",
    "    except:\n",
    "        pass"
   ]
  },
  {
   "cell_type": "markdown",
   "metadata": {},
   "source": [
    "### hoy"
   ]
  },
  {
   "cell_type": "code",
   "execution_count": 109,
   "metadata": {},
   "outputs": [],
   "source": []
  },
  {
   "cell_type": "code",
   "execution_count": 116,
   "metadata": {},
   "outputs": [],
   "source": [
    "def hoy(self):\n",
    "    hoy=r.get('https://www.lanacion.com.ar')\n",
    "    urls=[]\n",
    "    h1s=bs(hoy.content).find_all('h1')\n",
    "    urls.extend([h1.find('a').get('href') for h1 in h1s])\n",
    "    h2s=bs(hoy.content).find_all('h2')\n",
    "    urls.extend([h2.find('a').get('href') for h2 in h2s])\n",
    "    headers = {\n",
    "        'authority': 'www.lanacion.com.ar',\n",
    "        'user-agent': 'Mozilla/5.0 (Windows NT 10.0; Win64; x64) AppleWebKit/537.36 (KHTML, like Gecko) Chrome/86.0.4240.198 Safari/537.36',\n",
    "        'accept': '*/*',\n",
    "        'sec-fetch-site': 'same-origin',\n",
    "        'sec-fetch-mode': 'cors',\n",
    "        'sec-fetch-dest': 'empty',\n",
    "        'referer': 'https://www.lanacion.com.ar/',\n",
    "        'accept-language': 'es-419,es;q=0.9,en;q=0.8,gl;q=0.7',   \n",
    "    }\n",
    "\n",
    "    params = (\n",
    "        ('utm_source', 'navigation'),\n",
    "        ('datamodule', \"\"\"anexo_2;tema_1;tema_2;tema_3;opinion;\n",
    "         tema_4;tema_5;tema_6;mas-leidas;comercial_1;\n",
    "         tema_7;tema_8;comercial_2;tema_9;tema_10;tema_11;\n",
    "         tema_12;tema_13;tema_14;tema_15;tema_16;tema_17;tema_18\n",
    "         \"\"\"),\n",
    "    )\n",
    "\n",
    "    r1= r.get('https://www.lanacion.com.ar/', headers=headers, params=params)\n",
    "    data=r1.json()['Modules']\n",
    "    urls2=[]\n",
    "    for tema in data:\n",
    "        urls2.extend([x.find('a').get('href') for x in bs(tema['Value']).find_all('h2')])\n",
    "        try:\n",
    "            urls2.extend([x.get('href') for x in bs(tema['Value']).find('ul').find_all('a')])\n",
    "        except:\n",
    "            pass\n",
    "    urls.extend(urls2)\n",
    "    urls.sort()\n",
    "    self.portal=urls\n"
   ]
  },
  {
   "cell_type": "code",
   "execution_count": 99,
   "metadata": {},
   "outputs": [],
   "source": [
    "\n"
   ]
  },
  {
   "cell_type": "code",
   "execution_count": 115,
   "metadata": {},
   "outputs": [
    {
     "data": {
      "text/plain": [
       "['/buenos-aires/proyecto-colillas-cigarrillos-nid2534113',\n",
       " '/buenos-aires/que-son-ciudades-15-minutos-como-buenos-nid2533196',\n",
       " '/deportes/floyd-mayweather-volvera-al-ring-enfrentar-youtuber-nid2533116',\n",
       " '/deportes/futbol/benedetto-gring-disculpas-nid2534069',\n",
       " '/deportes/la-confesion-amigo-diego-maradona-me-dijo-nid2533421',\n",
       " '/deportes/rugby/la-world-rugby-tambien-critico-mensajes-racistas-nid2534073',\n",
       " '/deportes/tenis/del-potro-esta-brasil-someterse-tratamiento-celulas-nid2534118',\n",
       " '/deportes/un-jeque-arabe-compro-mitad-del-equipo-nid2534104',\n",
       " '/economia/campo/arandanos-reconocida-variedad-trajo-al-pais-firma-nid2528115',\n",
       " '/economia/campo/trigo-cultivo-se-enfrenta-falta-agua-heladas-nid2530121',\n",
       " '/economia/el-economista-roberto-cachanosky-conto-le-ofrecieron-nid2533497',\n",
       " '/economia/emmanuel-alvarez-agis-la-unica-fuente-disponible-de-financiamiento-en-dolares-para-la-argentina-es-el-fmi-nid2530486',\n",
       " '/economia/jubilaciones-advierten-nueva-ley-se-perdera-aumento-nid2530077',\n",
       " '/economia/negocios/facturan-us23-millones-en-mendoza-inventaron-negocio-nid2522795',\n",
       " '/economia/negocios/norwegian-solicita-concurso-acreedores-noruega-nid2534096',\n",
       " '/editoriales/el-pobre-legado-del-gobierno-trump-nid2530501',\n",
       " '/editoriales/vergonzoso-abandono-ninos-adoptados-nid2530500',\n",
       " '/el-mundo/coronavirus-segunda-ola-causo-mas-muertes-primera-nid2534128',\n",
       " '/el-mundo/inmunidad-rebano-el-experimento-sueco-llego-su-nid2533169',\n",
       " '/el-mundo/la-vacuna-pfizer-es-fuerte-10-dias-nid2534129',\n",
       " '/el-mundo/william-shakespeare-recibe-vacuna-covid-19-nid2534076',\n",
       " '/espectaculos/dario-barassi-hablo-su-cambio-fisico-cuarentena-nid2533128',\n",
       " '/espectaculos/la-anecdota-cande-ruggeri-oscar-galindez-todos-nid2532142',\n",
       " '/espectaculos/musica/como-fueron-ultimas-24-horas-john-lennon-nid2525788',\n",
       " '/espectaculos/personajes/la-exnovia-matthew-perry-hizo-escandalosas-declaraciones-nid2533100',\n",
       " '/espectaculos/personajes/que-es-vida-paul-hogan-actor-protagonizo-nid2532307',\n",
       " '/espectaculos/personajes/shakira-historia-oculta-sus-pies-descalzos-25-nid2534101',\n",
       " '/espectaculos/series-de-tv/series-diciembre-que-ver-disney-hbo-directv-nid2528891',\n",
       " '/espectaculos/television/florencia-pena-hizo-llorar-claudia-villafane-su-nid2534066',\n",
       " '/espectaculos/television/rating-materchef-celebrity-gano-presencia-flor-pena-nid2534103',\n",
       " '/lifestyle/alejandro-pasquale-la-belleza-naturaleza-merece-nuestro-nid2486724',\n",
       " '/lifestyle/christmasworld-ideas-deco-simples-feria-navidad-mas-nid2530071',\n",
       " '/lifestyle/deporte-naturaleza-volve-al-golf-nid2529061',\n",
       " '/lifestyle/descubren-nombre-ciudad-mas-antigua-del-mundo-nid2533198',\n",
       " '/lifestyle/el-chef-norteamericano-viajo-16-mil-km-nid2533471',\n",
       " '/lifestyle/en-fotos-medicos-muestran-que-pasa-cuando-nid2533157',\n",
       " '/lifestyle/la-casa-kaufmann-iconica-propiedad-mas-cara-nid2529003',\n",
       " '/lifestyle/las-predicciones-jimena-la-torre-carta-suerte-nid2533092',\n",
       " '/lifestyle/los-pasajes-baratos-permiten-viajar-europa-playas-nid2533122',\n",
       " '/lifestyle/quemaduras-navidad-accidentes-mas-comunes-estan-expuestos-nid2533124',\n",
       " '/lifestyle/quien-es-quien-lo-nos-cuenta-cuadro-nid2533107',\n",
       " '/opinion/cristina-kirchner-cierra-ciclo-moderacion-nid2533370',\n",
       " '/opinion/elegir-ley-poder-politico-nid2533233',\n",
       " '/opinion/rugbiers-militantes-setentistas-sintomas-peligroso-sectarismo-juvenil-nid2533227',\n",
       " '/opinion/un-ano-gobierno-un-pais-real-escondido-nid2533221',\n",
       " '/politica/demasiados-pobres-demasiada-corrupcion-nid2533462',\n",
       " '/politica/jose-luis-espert-javier-milei-luis-rosales-nid2533422',\n",
       " '/politica/la-clase-media-rechaza-gestion-alberto-fernandez-nid2533095',\n",
       " '/politica/los-gobernadores-apuran-diputados-suspension-paso-nid2533349',\n",
       " '/politica/pese-diferencias-venezuela-eeuu-esperan-relacion-pragmatica-nid2534138',\n",
       " '/politica/por-segundo-dia-consecutivo-gobierno-se-mantuvo-nid2533222',\n",
       " '/politica/presentan-senado-proyecto-ley-maradona-aparezca-billetes-nid2533225',\n",
       " '/politica/telefonicos-nid2533399',\n",
       " '/seguridad/cordoba-rugbiers-golpean-brutalmente-joven-su-fiesta-nid2534098',\n",
       " '/seguridad/hablo-amigo-victima-del-robo-crimen-retiro-nid2534150',\n",
       " '/seguridad/puerto-madero-mataron-disparo-extranjero-robarle-bicicleta-nid2534082',\n",
       " '/seguridad/tienen-impunidad-porque-saben-no-les-pasa-nid2534117',\n",
       " '/sociedad/herramientas-cambio-no-te-sorprenda-charla-alex-nid2534065',\n",
       " '/sociedad/innovacion-medicamentos-se-ubican-centro-escena-nid2529979',\n",
       " '/sociedad/la-entrevista-jamas-contada-luz-maria-galup-nid2530123',\n",
       " '/sociedad/trucos-llenar-bolsillo-devaluado-nid2533080',\n",
       " '/sociedad/turismo-covid-como-son-testeos-saliva-turistas-nid2534063',\n",
       " 'https://www.lanacion.com.ar/tecnologia/aevum-ravn-x-el-avion-autonomo-que-pondra-satelites-en-orbita-nid08122020/',\n",
       " 'https://www.lanacion.com.ar/tecnologia/playstation-5-estos-son-los-juegos-que-debes-tener-para-aprovechar-sus-graficos-nid08122020/',\n",
       " 'https://www.lanacion.com.ar/turismo/cayote-alfajor-y-postre-balcarce-una-vuelta-por-la-historia-de-los-mejores-dulces-autoctonos-nid04122020/']"
      ]
     },
     "execution_count": 115,
     "metadata": {},
     "output_type": "execute_result"
    }
   ],
   "source": [
    "urls.sort()\n",
    "urls"
   ]
  }
 ],
 "metadata": {
  "kernelspec": {
   "display_name": "Python 3",
   "language": "python",
   "name": "python3"
  },
  "language_info": {
   "codemirror_mode": {
    "name": "ipython",
    "version": 3
   },
   "file_extension": ".py",
   "mimetype": "text/x-python",
   "name": "python",
   "nbconvert_exporter": "python",
   "pygments_lexer": "ipython3",
   "version": "3.7.4"
  }
 },
 "nbformat": 4,
 "nbformat_minor": 4
}
