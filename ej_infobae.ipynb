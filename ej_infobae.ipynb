{
 "cells": [
  {
   "cell_type": "code",
   "execution_count": 87,
   "metadata": {},
   "outputs": [],
   "source": [
    "import tweepy\n",
    "import logging\n",
    "import time\n",
    "import requests as r\n",
    "from bs4 import BeautifulSoup as bs\n",
    "import json\n",
    "import time\n",
    "import pickle\n",
    "\n",
    "url='https://www.infobae.com/america/mundo/2020/11/24/el-ranking-de-los-paises-con-las-mejores-y-peores-respuestas-frente-al-covid-19/'\n",
    "url2='https://www.infobae.com/america/mundo/2020/11/24/espana-comenzara-a-vacunar-contra-el-coronavirus-en-enero-separo-a-su-poblacion-en-18-grupos-segun-su-prioridad/'"
   ]
  },
  {
   "cell_type": "code",
   "execution_count": 116,
   "metadata": {},
   "outputs": [],
   "source": [
    "class ibae():\n",
    "    def __init__(self):\n",
    "        self.url='https://www.infobae.com/'\n",
    "   \n",
    "    def get(self,url):        \n",
    "        nota=r.get(url)\n",
    "        sopa=bs(nota.content,features=\"lxml\")\n",
    "        self.titulo=sopa.find('h1').get_text(strip=True)\n",
    "        self.bajada=sopa.find('h2').get_text(strip=True)\n",
    "        mask=[ True  if x.find('mark',{'class':'hl_orange'}) else False for x in sopa.find('article').find_all('p')]\n",
    "        ind=[i for i, x in enumerate(mask) if x == True][-1]\n",
    "        self.cuerpo=' '.join([x.get_text() for x in sopa.find('article').find_all('p')[:ind]])\n",
    "        self.bolds=[x.get_text(strip=True) for x in sopa.find('article').find_all('b')[:ind]][:-1]    \n",
    "        self.bold=' / '.join(self.bolds)        \n",
    "        self.quotes=' / '.join([x.split('”')[0] for x in self.cuerpo.split('“')[1:]])\n",
    "        "
   ]
  }
 ],
 "metadata": {
  "kernelspec": {
   "display_name": "Python 3",
   "language": "python",
   "name": "python3"
  },
  "language_info": {
   "codemirror_mode": {
    "name": "ipython",
    "version": 3
   },
   "file_extension": ".py",
   "mimetype": "text/x-python",
   "name": "python",
   "nbconvert_exporter": "python",
   "pygments_lexer": "ipython3",
   "version": "3.7.4"
  }
 },
 "nbformat": 4,
 "nbformat_minor": 4
}
