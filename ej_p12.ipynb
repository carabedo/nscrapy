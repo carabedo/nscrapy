{
 "cells": [
  {
   "cell_type": "code",
   "execution_count": 134,
   "metadata": {},
   "outputs": [],
   "source": [
    "import requests as r\n",
    "from bs4 import BeautifulSoup as bs\n",
    "import urllib\n",
    "import json\n",
    "import time\n",
    "import unicodedata\n",
    "\n",
    "def dic_p12(key, var):\n",
    "    ''' saca value de la key recurrentemente comm p12'''\n",
    "    if hasattr(var,'items'):\n",
    "        for k, v in var.items():\n",
    "            if k == key:\n",
    "                yield unicodedata.normalize('NFKC',bs(v).text).replace('\\n',' ')\n",
    "            if isinstance(v, dict):\n",
    "                for result in dic_p12(key, v):\n",
    "                    yield unicodedata.normalize('NFKC',bs(result).text).replace('\\n',' ')\n",
    "            elif isinstance(v, list):\n",
    "                for d in v:\n",
    "                    for result in dic_p12(key, d):\n",
    "                        yield unicodedata.normalize('NFKC',bs(result).text).replace('\\n',' ')\n",
    "                        \n",
    "                        \n",
    "class p12():\n",
    "    \n",
    "    def __init__(self):\n",
    "        self.url='https://www.pagina12.com.ar'\n",
    "    #poner a mano el limite de comentarios, por default en la pagina=250 en qp12\n",
    "\n",
    "    \n",
    "    def get(self,url):\n",
    "        nota=r.get(url)\n",
    "        sopa=bs(nota.content,features=\"lxml\")\n",
    "        ps=sopa.find('div','article-inner padding-right').findAll('p')\n",
    "        st=sopa.find('div','article-inner padding-right').findAll('b')\n",
    "        try:\n",
    "            self.volanta=sopa.find('h2','article-prefix').text\n",
    "        except:\n",
    "            pass\n",
    "        self.titulo=sopa.find('h1').text\n",
    "        try:\n",
    "            self.bajada=sopa.find('div','article-summary').text\n",
    "        except:\n",
    "            pass\n",
    "        texto=list()\n",
    "        for p in ps:\n",
    "            texto.append(p.text)\n",
    "        bolds=list()    \n",
    "        for b in st:\n",
    "            bolds.append(b.text)            \n",
    "        self.bold=' '.join(bolds)\n",
    "        self.bolds=bolds    \n",
    "        self.cuerpo=' '.join(texto)\n",
    "        with open('qp12', 'r') as file:\n",
    "            qp12 = file.read()\n",
    "        payload=json.loads(qp12)\n",
    "        aid=url.split('/')[-1].split('-')[0]\n",
    "        payload['variables']['assetId']=aid\n",
    "        payload['variables']['assetUrl']=url\n",
    "        payload.pop('operationName')\n",
    "        pp=r.post(\"https://talk.pagina12.com.ar/api/v1/graph/ql\", json=payload)\n",
    "        coms=[]\n",
    "        for x in pp.json()['data']['asset']['comments']['nodes']:\n",
    "            coms.extend(list(dic_p12('body',x)))        \n",
    "\n",
    "        self.coms=coms\n",
    "\n",
    "        \n",
    "    def hoy(self):            \n",
    "        notas=r.get(self.url)\n",
    "        sopa=bs(notas.content,features=\"lxml\")\n",
    "        urls=[x.find('a').get('href') for x in sopa.find_all('article')]\n",
    "        self.urls=urls\n",
    "\n",
    "        \n",
    "def get(urls):\n",
    "    notas=list()\n",
    "    for url in urls:\n",
    "        if url[:28]=='https://www.pagina12.com.ar/':\n",
    "            nota=p12()\n",
    "            try:\n",
    "                nota.get(url)\n",
    "                notas.append(nota)\n",
    "                time.sleep(0.4)\n",
    "            except:\n",
    "                print(url)\n",
    "        else:\n",
    "            pass\n",
    "    return(notas)\n",
    "\n",
    "\n",
    "def getv(url):\n",
    "    nota=r.get(url)\n",
    "    sopa=bs(nota.content,features=\"lxml\")\n",
    "    ps=sopa.find('div','article-inner padding-right').findAll('p')\n",
    "    st=sopa.find('div','article-inner padding-right').findAll('b')\n",
    "    volanta=sopa.find('h2','article-prefix').text\n",
    "    titulo=sopa.find('h1').text\n",
    "    try:\n",
    "        bajada=sopa.find('div','article-summary').text\n",
    "    except:\n",
    "        pass\n",
    "    texto=list()\n",
    "    for p in ps:\n",
    "        texto.append(p.text)\n",
    "    bolds=list()    \n",
    "    for b in st:\n",
    "        bolds.append(b.text)            \n",
    "    bold=' '.join(bolds)\n",
    "    cuerpo=' '.join(texto)\n",
    "    aid=url.split('/')[-1].split('-')[0]\n",
    "    x=r'{\"query\":\"query CoralEmbedStream_Embed($assetId: ID, $assetUrl: String, $commentId: ID!, $hasComment: Boolean!, $excludeIgnored: Boolean, $sortBy: SORT_COMMENTS_BY!, $sortOrder: SORT_ORDER!) {\\n  me {\\n    id\\n    state {\\n      status {\\n        username {\\n          status\\n          __typename\\n        }\\n        banned {\\n          status\\n          __typename\\n        }\\n        alwaysPremod {\\n          status\\n          __typename\\n        }\\n        suspension {\\n          until\\n          __typename\\n        }\\n        __typename\\n      }\\n      __typename\\n    }\\n    __typename\\n  }\\n  asset(id: $assetId, url: $assetUrl) {\\n    ...CoralEmbedStream_Configure_asset\\n    ...CoralEmbedStream_Stream_asset\\n    ...CoralEmbedStream_AutomaticAssetClosure_asset\\n    __typename\\n  }\\n  ...CoralEmbedStream_Stream_root\\n  ...CoralEmbedStream_Configure_root\\n}\\n\\nfragment CoralEmbedStream_Stream_root on RootQuery {\\n  me {\\n    state {\\n      status {\\n        username {\\n          status\\n          __typename\\n        }\\n        banned {\\n          status\\n          __typename\\n        }\\n        alwaysPremod {\\n          status\\n          __typename\\n        }\\n        suspension {\\n          until\\n          __typename\\n        }\\n        __typename\\n      }\\n      __typename\\n    }\\n    ignoredUsers {\\n      id\\n      __typename\\n    }\\n    role\\n    __typename\\n  }\\n  settings {\\n    organizationName\\n    __typename\\n  }\\n  ...TalkSlot_StreamTabPanes_root\\n  ...TalkSlot_StreamFilter_root\\n  ...CoralEmbedStream_Comment_root\\n  __typename\\n}\\n\\nfragment CoralEmbedStream_Comment_root on RootQuery {\\n  me {\\n    ignoredUsers {\\n      id\\n      __typename\\n    }\\n    __typename\\n  }\\n  ...TalkSlot_CommentInfoBar_root\\n  ...TalkSlot_CommentAuthorName_root\\n  ...TalkEmbedStream_DraftArea_root\\n  ...TalkEmbedStream_DraftArea_root\\n  __typename\\n}\\n\\nfragment TalkEmbedStream_DraftArea_root on RootQuery {\\n  __typename\\n}\\n\\nfragment CoralEmbedStream_Stream_asset on Asset {\\n  comment(id: $commentId) @include(if: $hasComment) {\\n    ...CoralEmbedStream_Stream_comment\\n    parent {\\n      ...CoralEmbedStream_Stream_singleComment\\n      parent {\\n        ...CoralEmbedStream_Stream_singleComment\\n        parent {\\n          ...CoralEmbedStream_Stream_singleComment\\n          __typename\\n        }\\n        __typename\\n      }\\n      __typename\\n    }\\n    __typename\\n  }\\n  id\\n  title\\n  url\\n  isClosed\\n  created_at\\n  settings {\\n    moderation\\n    infoBoxEnable\\n    infoBoxContent\\n    premodLinksEnable\\n    questionBoxEnable\\n    questionBoxContent\\n    questionBoxIcon\\n    closedTimeout\\n    closedMessage\\n    disableCommenting\\n    disableCommentingMessage\\n    charCountEnable\\n    charCount\\n    requireEmailConfirmation\\n    __typename\\n  }\\n  totalCommentCount @skip(if: $hasComment)\\n  comments(query: {limit: 50, excludeIgnored: $excludeIgnored, sortOrder: $sortOrder, sortBy: $sortBy}) @skip(if: $hasComment) {\\n    nodes {\\n      ...CoralEmbedStream_Stream_comment\\n      __typename\\n    }\\n    hasNextPage\\n    startCursor\\n    endCursor\\n    __typename\\n  }\\n  ...TalkSlot_StreamTabsPrepend_asset\\n  ...TalkSlot_StreamTabPanes_asset\\n  ...TalkSlot_StreamFilter_asset\\n  ...CoralEmbedStream_Comment_asset\\n  __typename\\n}\\n\\nfragment CoralEmbedStream_Comment_asset on Asset {\\n  __typename\\n  id\\n  ...TalkSlot_CommentInfoBar_asset\\n  ...TalkSlot_CommentActions_asset\\n  ...TalkSlot_CommentReactions_asset\\n  ...TalkSlot_CommentAuthorName_asset\\n}\\n\\nfragment CoralEmbedStream_Stream_comment on Comment {\\n  id\\n  status\\n  user {\\n    id\\n    __typename\\n  }\\n  ...CoralEmbedStream_Comment_comment\\n  __typename\\n}\\n\\nfragment CoralEmbedStream_Comment_comment on Comment {\\n  ...CoralEmbedStream_Comment_SingleComment\\n  replies(query: {limit: 3, excludeIgnored: $excludeIgnored}) {\\n    nodes {\\n      ...CoralEmbedStream_Comment_SingleComment\\n      replies(query: {limit: 3, excludeIgnored: $excludeIgnored}) {\\n        nodes {\\n          ...CoralEmbedStream_Comment_SingleComment\\n          replies(query: {limit: 3, excludeIgnored: $excludeIgnored}) {\\n            nodes {\\n              ...CoralEmbedStream_Comment_SingleComment\\n              __typename\\n            }\\n            hasNextPage\\n            startCursor\\n            endCursor\\n            __typename\\n          }\\n          __typename\\n        }\\n        hasNextPage\\n        startCursor\\n        endCursor\\n        __typename\\n      }\\n      __typename\\n    }\\n    hasNextPage\\n    startCursor\\n    endCursor\\n    __typename\\n  }\\n  __typename\\n}\\n\\nfragment CoralEmbedStream_Comment_SingleComment on Comment {\\n  id\\n  body\\n  created_at\\n  status\\n  replyCount\\n  tags {\\n    tag {\\n      name\\n      __typename\\n    }\\n    __typename\\n  }\\n  user {\\n    id\\n    username\\n    __typename\\n  }\\n  status_history {\\n    type\\n    __typename\\n  }\\n  action_summaries {\\n    __typename\\n    count\\n    current_user {\\n      id\\n      __typename\\n    }\\n  }\\n  editing {\\n    edited\\n    editableUntil\\n    __typename\\n  }\\n  ...TalkSlot_CommentInfoBar_comment\\n  ...TalkSlot_CommentActions_comment\\n  ...TalkSlot_CommentReactions_comment\\n  ...TalkSlot_CommentAuthorName_comment\\n  ...TalkSlot_CommentContent_comment\\n  ...TalkEmbedStream_DraftArea_comment\\n  ...TalkEmbedStream_DraftArea_comment\\n  __typename\\n}\\n\\nfragment TalkEmbedStream_DraftArea_comment on Comment {\\n  __typename\\n  ...TalkSlot_DraftArea_comment\\n}\\n\\nfragment CoralEmbedStream_Stream_singleComment on Comment {\\n  id\\n  status\\n  user {\\n    id\\n    __typename\\n  }\\n  ...CoralEmbedStream_Comment_SingleComment\\n  __typename\\n}\\n\\nfragment CoralEmbedStream_Configure_root on RootQuery {\\n  __typename\\n  ...CoralEmbedStream_Settings_root\\n}\\n\\nfragment CoralEmbedStream_Settings_root on RootQuery {\\n  __typename\\n}\\n\\nfragment CoralEmbedStream_Configure_asset on Asset {\\n  __typename\\n  ...CoralEmbedStream_AssetStatusInfo_asset\\n  ...CoralEmbedStream_Settings_asset\\n}\\n\\nfragment CoralEmbedStream_AssetStatusInfo_asset on Asset {\\n  id\\n  closedAt\\n  isClosed\\n  __typename\\n}\\n\\nfragment CoralEmbedStream_Settings_asset on Asset {\\n  id\\n  settings {\\n    moderation\\n    premodLinksEnable\\n    questionBoxEnable\\n    questionBoxIcon\\n    questionBoxContent\\n    __typename\\n  }\\n  __typename\\n}\\n\\nfragment CoralEmbedStream_AutomaticAssetClosure_asset on Asset {\\n  id\\n  closedAt\\n  __typename\\n}\\n\\nfragment TalkSlot_StreamTabPanes_root on RootQuery {\\n  ...TalkFeaturedComments_TabPane_root\\n  __typename\\n}\\n\\nfragment TalkFeaturedComments_TabPane_root on RootQuery {\\n  __typename\\n  ...TalkFeaturedComments_Comment_root\\n}\\n\\nfragment TalkFeaturedComments_Comment_root on RootQuery {\\n  __typename\\n  ...TalkSlot_CommentAuthorName_root\\n}\\n\\nfragment TalkSlot_StreamFilter_root on RootQuery {\\n  ...TalkViewingOptions_ViewingOptions_root\\n  __typename\\n}\\n\\nfragment TalkViewingOptions_ViewingOptions_root on RootQuery {\\n  __typename\\n}\\n\\nfragment TalkSlot_CommentInfoBar_root on RootQuery {\\n  ...TalkModerationActions_root\\n  __typename\\n}\\n\\nfragment TalkModerationActions_root on RootQuery {\\n  me {\\n    id\\n    __typename\\n  }\\n  __typename\\n}\\n\\nfragment TalkSlot_CommentAuthorName_root on RootQuery {\\n  ...TalkAuthorMenu_AuthorName_root\\n  __typename\\n}\\n\\nfragment TalkAuthorMenu_AuthorName_root on RootQuery {\\n  __typename\\n  ...TalkSlot_AuthorMenuActions_root\\n}\\n\\nfragment TalkSlot_StreamTabsPrepend_asset on Asset {\\n  ...TalkFeaturedComments_Tab_asset\\n  __typename\\n}\\n\\nfragment TalkFeaturedComments_Tab_asset on Asset {\\n  featuredCommentsCount: totalCommentCount(tags: [\\\"FEATURED\\\"]) @skip(if: $hasComment)\\n  __typename\\n}\\n\\nfragment TalkSlot_StreamTabPanes_asset on Asset {\\n  ...TalkFeaturedComments_TabPane_asset\\n  __typename\\n}\\n\\nfragment TalkFeaturedComments_TabPane_asset on Asset {\\n  id\\n  featuredComments: comments(query: {tags: [\\\"FEATURED\\\"], sortOrder: $sortOrder, sortBy: $sortBy, excludeIgnored: $excludeIgnored}, deep: true) @skip(if: $hasComment) {\\n    nodes {\\n      ...TalkFeaturedComments_Comment_comment\\n      __typename\\n    }\\n    hasNextPage\\n    startCursor\\n    endCursor\\n    __typename\\n  }\\n  ...TalkFeaturedComments_Comment_asset\\n  __typename\\n}\\n\\nfragment TalkFeaturedComments_Comment_comment on Comment {\\n  id\\n  body\\n  created_at\\n  replyCount\\n  tags {\\n    tag {\\n      name\\n      __typename\\n    }\\n    __typename\\n  }\\n  user {\\n    id\\n    username\\n    __typename\\n  }\\n  ...TalkSlot_CommentReactions_comment\\n  ...TalkSlot_CommentAuthorName_comment\\n  ...TalkSlot_CommentContent_comment\\n  __typename\\n}\\n\\nfragment TalkFeaturedComments_Comment_asset on Asset {\\n  __typename\\n  ...TalkSlot_CommentReactions_asset\\n  ...TalkSlot_CommentAuthorName_asset\\n}\\n\\nfragment TalkSlot_StreamFilter_asset on Asset {\\n  ...TalkViewingOptions_ViewingOptions_asset\\n  __typename\\n}\\n\\nfragment TalkViewingOptions_ViewingOptions_asset on Asset {\\n  __typename\\n}\\n\\nfragment TalkSlot_CommentInfoBar_asset on Asset {\\n  ...TalkModerationActions_asset\\n  __typename\\n}\\n\\nfragment TalkModerationActions_asset on Asset {\\n  id\\n  __typename\\n}\\n\\nfragment TalkSlot_CommentActions_asset on Asset {\\n  ...TalkPermalink_Button_asset\\n  __typename\\n}\\n\\nfragment TalkPermalink_Button_asset on Asset {\\n  url\\n  __typename\\n}\\n\\nfragment TalkSlot_CommentReactions_asset on Asset {\\n  ...RespectButton_asset\\n  __typename\\n}\\n\\nfragment RespectButton_asset on Asset {\\n  id\\n  __typename\\n}\\n\\nfragment TalkSlot_CommentAuthorName_asset on Asset {\\n  ...TalkAuthorMenu_AuthorName_asset\\n  __typename\\n}\\n\\nfragment TalkAuthorMenu_AuthorName_asset on Asset {\\n  __typename\\n}\\n\\nfragment TalkSlot_CommentInfoBar_comment on Comment {\\n  ...TalkFeaturedComments_Tag_comment\\n  ...TalkModerationActions_comment\\n  __typename\\n}\\n\\nfragment TalkFeaturedComments_Tag_comment on Comment {\\n  tags {\\n    tag {\\n      name\\n      __typename\\n    }\\n    __typename\\n  }\\n  __typename\\n}\\n\\nfragment TalkModerationActions_comment on Comment {\\n  id\\n  status\\n  user {\\n    id\\n    __typename\\n  }\\n  tags {\\n    tag {\\n      name\\n      __typename\\n    }\\n    __typename\\n  }\\n  __typename\\n}\\n\\nfragment TalkSlot_CommentActions_comment on Comment {\\n  ...TalkPermalink_Button_comment\\n  __typename\\n}\\n\\nfragment TalkPermalink_Button_comment on Comment {\\n  id\\n  __typename\\n}\\n\\nfragment TalkSlot_CommentReactions_comment on Comment {\\n  ...RespectButton_comment\\n  __typename\\n}\\n\\nfragment RespectButton_comment on Comment {\\n  id\\n  action_summaries {\\n    __typename\\n    ... on RespectActionSummary {\\n      count\\n      current_user {\\n        id\\n        __typename\\n      }\\n      __typename\\n    }\\n  }\\n  __typename\\n}\\n\\nfragment TalkSlot_CommentAuthorName_comment on Comment {\\n  ...TalkAuthorMenu_AuthorName_comment\\n  __typename\\n}\\n\\nfragment TalkAuthorMenu_AuthorName_comment on Comment {\\n  __typename\\n  id\\n  user {\\n    username\\n    __typename\\n  }\\n  ...TalkSlot_AuthorMenuInfos_comment\\n  ...TalkSlot_AuthorMenuActions_comment\\n}\\n\\nfragment TalkSlot_CommentContent_comment on Comment {\\n  ...TalkPluginRichText_CommentContent_comment\\n  __typename\\n}\\n\\nfragment TalkPluginRichText_CommentContent_comment on Comment {\\n  body\\n  richTextBody\\n  __typename\\n}\\n\\nfragment TalkSlot_DraftArea_comment on Comment {\\n  ...TalkPluginRichText_Editor_comment\\n  __typename\\n}\\n\\nfragment TalkPluginRichText_Editor_comment on Comment {\\n  body\\n  richTextBody\\n  __typename\\n}\\n\\nfragment TalkSlot_AuthorMenuActions_root on RootQuery {\\n  ...TalkIgnoreUser_IgnoreUserAction_root\\n  __typename\\n}\\n\\nfragment TalkIgnoreUser_IgnoreUserAction_root on RootQuery {\\n  me {\\n    id\\n    __typename\\n  }\\n  __typename\\n}\\n\\nfragment TalkSlot_AuthorMenuInfos_comment on Comment {\\n  ...TalkMemberSince_MemberSinceInfo_comment\\n  __typename\\n}\\n\\nfragment TalkMemberSince_MemberSinceInfo_comment on Comment {\\n  user {\\n    username\\n    created_at\\n    __typename\\n  }\\n  __typename\\n}\\n\\nfragment TalkSlot_AuthorMenuActions_comment on Comment {\\n  ...TalkIgnoreUser_IgnoreUserAction_comment\\n  __typename\\n}\\n\\nfragment TalkIgnoreUser_IgnoreUserAction_comment on Comment {\\n  user {\\n    id\\n    __typename\\n  }\\n  ...TalkIgnoreUser_IgnoreUserConfirmation_comment\\n  __typename\\n}\\n\\nfragment TalkIgnoreUser_IgnoreUserConfirmation_comment on Comment {\\n  user {\\n    id\\n    username\\n    __typename\\n  }\\n  __typename\\n}\\n\",\"variables\":{\"assetId\":\"300200\",\"assetUrl\":\"https://www.pagina12.com.ar/300200-elecciones-bolivia-2020-carlos-mesa-reconocio-la-derrota\",\"commentId\":\"\",\"hasComment\":false,\"excludeIgnored\":false,\"sortBy\":\"CREATED_AT\",\"sortOrder\":\"DESC\"},\"operationName\":\"CoralEmbedStream_Embed\"}'\n",
    "    payload=json.loads(x)\n",
    "    payload['variables']['assetId']=aid\n",
    "    payload['variables']['assetUrl']=url\n",
    "    pp=r.post(\"https://talk.pagina12.com.ar/api/v1/graph/ql\", json=payload)\n",
    "    coms=pp.json()['data']['asset']['comments']['nodes']\n",
    "    comm=[unicodedata.normalize(\"NFKD\",x['body'].strip().replace('\\n','')) for x in coms]\n",
    "    com=' '.join(comm)\n",
    "    print(volanta)\n",
    "    print(titulo)\n",
    "    \n",
    "    return(comm)"
   ]
  },
  {
   "cell_type": "code",
   "execution_count": 131,
   "metadata": {},
   "outputs": [],
   "source": [
    "nota=p12()\n",
    "nota.get('https://www.pagina12.com.ar/310594-larreta-renuncia-al-pacto-fiscal-que-firmo-con-macri-para-po')"
   ]
  },
  {
   "cell_type": "code",
   "execution_count": 132,
   "metadata": {
    "scrolled": true
   },
   "outputs": [
    {
     "data": {
      "text/plain": [
       "['Soy lego en la materia, que alguien me lo confirme: ¿es cierto que hay empresas que tienen su actividad en provincias o el interior pero tributan por domicilio fiscal en CABA? ¿De qué otra manera se transfieren ingresos, más allá de los impuestos? porque donde hay desigualdad pronunciada, hay  alguna \"trampa\"- No existe persona ni entidad que, por más laborioso y eficiente que sea, pueda acumular 10, 20, 500 veces más que su vecino en real igualdad de condiciones. ',\n",
       " 'La CABA tiene el gobierno que votaron desde hace más de una década. Solo lo pueden revertir en las próximas elecciones.',\n",
       " 'Coincido....  muy buena la foto de El Guason....Larreta...., en CABA....!!!!;🤣🤣🤣🤡🤡',\n",
       " 'Estoy de acuerdo con Maximiliano Ferraro.....  Llamenlo a Macri y su entorno ministerial y económico si es que quieren recuperar lo robado. Si lo logran, no tienen que ir mas a la Corte a presionar para que les devuelva lo que Macri les regaló. ',\n",
       " 'Reforma Constitucional y cambio del asiento de la Capital Nacional. Al sur de Córdoba, muy cerca de los límites entre La Pampa y San Luis. En la llanura pampeana (pero seca). Allí donde el agua potable es subterránea y yá es interior profundo.',\n",
       " 'Y con qué plata construís una Brasilia ahí? Mejor mandemos toda esa clase a Formosa',\n",
       " 'Qué quisiste decir con Formosa? ',\n",
       " '¿Taiwán tal vez? ',\n",
       " 'no seas sarcástrico, probablemente el inefable grito no tenga ni la más peregrina idea que Taiwan era una isla llamada Formosa, aún debe estar tratando de entender a qué te referías; no des por el pito, más de lo que el pito vale; con mis respetos atentamente ',\n",
       " 'Que el modelo nac&pop entre otras virtudes',\n",
       " '¿viste cuando alguien no le dá? bien .. el grito es como la canonización de eso .. no le dá atentamente ',\n",
       " 'En castellano, por favor...',\n",
       " 'por \"canonizar\" entendemos que es un ejemplo fáctico de lo que significa el término \"no le dá\"; uno puede leer un libro, incluso varias veces, y no entender qué está leyendo; si su intelecto tiene la amplitud suficiente para entender que, tal vez, necesite ir a otras fuentes antes de volver a leer el libro con el objetivo de dilucidar términos y metáforas (por ejemplo) eso, en el tiempo, lo conducirá a una mejor comprensión de su tiempo y espacio; bien, el inefable, está en las antípodas; lee lo mismo una y otra y otra y otra vez sin establecer comparaciones o verificar los valores de verdad de su objeto de lectura o su comprensión de la misma; con mis respetos, atentamente; ',\n",
       " 'Mi pedido de redacción en castellano era dirigido al inefable globerto formoseño... o taiwanés, como sea. Ud es muy claro hg.',\n",
       " 'a la pregunta formulada por el inefable, podemos responder sin ningún problema: 1 - tomamos los 40.000.000.000 de U$S que el mamerto y su caterva robó para fuga del empréstico con el fmi. 2 - tomamos los 60.000.000.000 de U$S que el mamerto y su caterva robó para fuga de los préstamos ruinosos que contrajeron con fondos especulativos; 3 - tomamos los 71.000.000.000 de $ que el mamerto debe por cánones por la concesión de los servicios de correos, que nunca pagó y trató de condonarse durante su (des)gobierno  y pudiera seguir, pero por bonomía y para evitar la fatiga lo dejo allí;  le garantizo al inefable grito que sobra dinero para otras muchas obras; le recomiendo, como siempre, leer, informarse establecer parámetros ciertos sobre sucesos ciertos; atentamente ',\n",
       " 'Esto se arregla llamando a una Reforma Constitucional donde se le quite a CABA todo lo que se le ha otorgado en forma abusiva que creo este principado de abusos donde hace años que aspira recursos para huevadas como viaductos donde no pueden pasar dos camiones juntos, pasos bajo nivel donde no pueden cruzar ni ambulancias ni bomberos, puentes sobre nivel donde no pueden pasar camiones ni colectivos, romper y armar veredas casa dos años, plantar y desplantar plantas sin control, varias Ducato o Iveco con dos operarios para lavar bicisendas, espacios en los subtes para que acaricies gatitos, tener los baños de los subtes cerrados en todas las estaciones desde años antes de la pandemia. Y puedo seguir. Si quieren terminar con esto hay que jugarse y tomar los elementos que la Constitución dispone.',\n",
       " 'Mi única esperanza, es que mis compatriotas de todas las provincias, al momento de votar en el 2023 y como casi seguramente este señor va a ser el candidato de la derecha, tengan presentes estas atrocidades que comete.  Muchos porteños como yo, estamos hartos de estas sinvergüenzadas de todo tipo, cometidas por la diabólica Alianza PRO-UCR-Coalición Cínica, sostenidas por el voto infame de las clases pudientes que acá residen y también por el voto de muchos descerebrados y la traición a sus convicciones de tipos como Roy Cortina que uso la chapa de socialista para usar a sus seguidores como papel higiénico  Los diputados y senadores de CABA, votaron en contra del impuesto a la riqueza, pero en la legislatura de la ciudad, le aprueban a Larreta un impuesto del 1,2% a las compras con Tarjeta de Crédito que la vamos a pagar todo, ricos y no tanto que tenemos una TC para facilitar nuestras compras.  Mientras tanto, continúa la permanente reducción del presupuesto para educación pública: https://www.pagina12.com.ar/310393-la-tijera-de-larreta-avanza-sobre-la-educacion  ¿ Que Alberto está teniendo muchos problemas? Si, claro. Como en todos los países del mundo donde la pandemia se ha enseñoreado y complican hasta el cansancio cualquier proyecto o cualquier plan de gobierno y de crecimiento.  Lo único que pido es que PIENSEN... PIENSEN antes de votar, que Larreta es Macri, por más que se hagan los distanciados  ',\n",
       " 'Si creen que la solución para por arrodillar a los porteños, esquilarlos para escarmiento no es el camino. A esta altura está claro que es un ataque político. Dont tread on me',\n",
       " 'Que fino...termina la frase en Inglés....como todo troll - troskosiempre meando fuera del tarro...',\n",
       " 'Sinceramente Larreta y sus secuaces no tienen vergüenza. Se robaron tres puntos de coparticipación que no les corresponde, se robaron la lotería nacional que distribuía recursos a todo el país y se robaron 500 hectáreas de la ciudad para sus emprendimientos inmobiliarios destruyeron la educación de la ciudad y la salud pública y ahora nos quiere robar nuestra capacidad de consumir con tarjeta de crédito. Y robarse algunas otras hectáreas más, casi 200.',\n",
       " 'No se entiende. La cantidad \"en litigio\" no eran fondos co-psrticipables, sino parte del convenio de traspaso de las prestaciones de la policia a C.A.B.A., creando la Policia de la Capital, y finanviabdola en parte, desde la Nación. Y la auditoría demostró que la Naciøn tranfirió mucho mas que lo declarado como necesario. Entienfo que azuste el derecho de la Nación a reajustar esa suma, y posiblemente el derecho de X C.A.B.A. a no devolver lo mismo ya recibido en exceso? Salvo que la transferencia desde Nacion a C.A.B.A. entre 2016 y 2019 haya sido fraudulenta o delictiva.',\n",
       " 'Esta puja es histórica. Tiene la edad de nuestra nación. Unitarios y federales... ganaron los unitarios defensores de Buenos Aires. Ya es hora de cambiar con lo enunciado, lo proclamado, lo discursivo: proclamamos que somos un país federal y de federal no tenemos nada !!!  La brecha entre lo que enunciamos y la realidad es enorme. Hace cuarenta y cinco años que vivo en la Patagonia y lo vivo permanentemente. Por aquí decimos que el mejor médico es Aerolíneas Argentinas. Y no es por la idoneidad del personal médico, que en su mayoría (oh milagro) vino de Bs As. Es por la infraestructura que contamos. Es como un gran embudo: todo se resuelve en Bs As. Todo entra y sale por Bs As. Ya que este gobierno de Alberto enunció que pretende un país federal, es hora de iniciar con señales concretas el gran cambio: seamos un país federal de una vez por todas.',\n",
       " 'Los unitarios están en la rosada, país federal es que cada provincia pueda recaudar sus impuestos, legislar sus propias leyes laborales, penales, fiscales, etc, etc Eso es federalismo de verdad.',\n",
       " 'lamento disentir, eso es \"ignorancia\" de su parte y no otra cosa ',\n",
       " 'A Joker le implantaron una cara de acero inoxidable  ',\n",
       " 'Jaja la foto que pusieron de Larreta es muy graciosa',\n",
       " 'Totalmente!! Excelente foto, El Guasón en CABA!! ',\n",
       " 'Jaja, justo iba a preguntar a que personaje se parecía en la foto.',\n",
       " 'Si gustan de las fotos, los invito a ver esta muestra virtual de fotoperiodismo 2019. Hay un nivel de fotógrafos increíbles Que la disfruten!  https://www.youtube.com/watch?v=XRsdKc1arJs&t=397s ']"
      ]
     },
     "execution_count": 132,
     "metadata": {},
     "output_type": "execute_result"
    }
   ],
   "source": [
    "nota.coms"
   ]
  },
  {
   "cell_type": "code",
   "execution_count": null,
   "metadata": {},
   "outputs": [],
   "source": [
    "x=r'{\"query\":\"query CoralEmbedStream_Embed($assetId: ID, $assetUrl: String, $commentId: ID!, $hasComment: Boolean!, $excludeIgnored: Boolean, $sortBy: SORT_COMMENTS_BY!, $sortOrder: SORT_ORDER!) {\\n  me {\\n    id\\n    state {\\n      status {\\n        username {\\n          status\\n          __typename\\n        }\\n        banned {\\n          status\\n          __typename\\n        }\\n        alwaysPremod {\\n          status\\n          __typename\\n        }\\n        suspension {\\n          until\\n          __typename\\n        }\\n        __typename\\n      }\\n      __typename\\n    }\\n    __typename\\n  }\\n  asset(id: $assetId, url: $assetUrl) {\\n    ...CoralEmbedStream_Configure_asset\\n    ...CoralEmbedStream_Stream_asset\\n    ...CoralEmbedStream_AutomaticAssetClosure_asset\\n    __typename\\n  }\\n  ...CoralEmbedStream_Stream_root\\n  ...CoralEmbedStream_Configure_root\\n}\\n\\nfragment CoralEmbedStream_Stream_root on RootQuery {\\n  me {\\n    state {\\n      status {\\n        username {\\n          status\\n          __typename\\n        }\\n        banned {\\n          status\\n          __typename\\n        }\\n        alwaysPremod {\\n          status\\n          __typename\\n        }\\n        suspension {\\n          until\\n          __typename\\n        }\\n        __typename\\n      }\\n      __typename\\n    }\\n    ignoredUsers {\\n      id\\n      __typename\\n    }\\n    role\\n    __typename\\n  }\\n  settings {\\n    organizationName\\n    __typename\\n  }\\n  ...TalkSlot_StreamTabPanes_root\\n  ...TalkSlot_StreamFilter_root\\n  ...CoralEmbedStream_Comment_root\\n  __typename\\n}\\n\\nfragment CoralEmbedStream_Comment_root on RootQuery {\\n  me {\\n    ignoredUsers {\\n      id\\n      __typename\\n    }\\n    __typename\\n  }\\n  ...TalkSlot_CommentInfoBar_root\\n  ...TalkSlot_CommentAuthorName_root\\n  ...TalkEmbedStream_DraftArea_root\\n  ...TalkEmbedStream_DraftArea_root\\n  __typename\\n}\\n\\nfragment TalkEmbedStream_DraftArea_root on RootQuery {\\n  __typename\\n}\\n\\nfragment CoralEmbedStream_Stream_asset on Asset {\\n  comment(id: $commentId) @include(if: $hasComment) {\\n    ...CoralEmbedStream_Stream_comment\\n    parent {\\n      ...CoralEmbedStream_Stream_singleComment\\n      parent {\\n        ...CoralEmbedStream_Stream_singleComment\\n        parent {\\n          ...CoralEmbedStream_Stream_singleComment\\n          __typename\\n        }\\n        __typename\\n      }\\n      __typename\\n    }\\n    __typename\\n  }\\n  id\\n  title\\n  url\\n  isClosed\\n  created_at\\n  settings {\\n    moderation\\n    infoBoxEnable\\n    infoBoxContent\\n    premodLinksEnable\\n    questionBoxEnable\\n    questionBoxContent\\n    questionBoxIcon\\n    closedTimeout\\n    closedMessage\\n    disableCommenting\\n    disableCommentingMessage\\n    charCountEnable\\n    charCount\\n    requireEmailConfirmation\\n    __typename\\n  }\\n  totalCommentCount @skip(if: $hasComment)\\n  comments(query: {limit: 250, excludeIgnored: $excludeIgnored, sortOrder: $sortOrder, sortBy: $sortBy}) @skip(if: $hasComment) {\\n    nodes {\\n      ...CoralEmbedStream_Stream_comment\\n      __typename\\n    }\\n    hasNextPage\\n    startCursor\\n    endCursor\\n    __typename\\n  }\\n  ...TalkSlot_StreamTabsPrepend_asset\\n  ...TalkSlot_StreamTabPanes_asset\\n  ...TalkSlot_StreamFilter_asset\\n  ...CoralEmbedStream_Comment_asset\\n  __typename\\n}\\n\\nfragment CoralEmbedStream_Comment_asset on Asset {\\n  __typename\\n  id\\n  ...TalkSlot_CommentInfoBar_asset\\n  ...TalkSlot_CommentActions_asset\\n  ...TalkSlot_CommentReactions_asset\\n  ...TalkSlot_CommentAuthorName_asset\\n}\\n\\nfragment CoralEmbedStream_Stream_comment on Comment {\\n  id\\n  status\\n  user {\\n    id\\n    __typename\\n  }\\n  ...CoralEmbedStream_Comment_comment\\n  __typename\\n}\\n\\nfragment CoralEmbedStream_Comment_comment on Comment {\\n  ...CoralEmbedStream_Comment_SingleComment\\n  replies(query: {limit: 25, excludeIgnored: $excludeIgnored}) {\\n    nodes {\\n      ...CoralEmbedStream_Comment_SingleComment\\n      replies(query: {limit: 25, excludeIgnored: $excludeIgnored}) {\\n        nodes {\\n          ...CoralEmbedStream_Comment_SingleComment\\n          replies(query: {limit: 25, excludeIgnored: $excludeIgnored}) {\\n            nodes {\\n              ...CoralEmbedStream_Comment_SingleComment\\n              __typename\\n            }\\n            hasNextPage\\n            startCursor\\n            endCursor\\n            __typename\\n          }\\n          __typename\\n        }\\n        hasNextPage\\n        startCursor\\n        endCursor\\n        __typename\\n      }\\n      __typename\\n    }\\n    hasNextPage\\n    startCursor\\n    endCursor\\n    __typename\\n  }\\n  __typename\\n}\\n\\nfragment CoralEmbedStream_Comment_SingleComment on Comment {\\n  id\\n  body\\n  created_at\\n  status\\n  replyCount\\n  tags {\\n    tag {\\n      name\\n      __typename\\n    }\\n    __typename\\n  }\\n  user {\\n    id\\n    username\\n    __typename\\n  }\\n  status_history {\\n    type\\n    __typename\\n  }\\n  action_summaries {\\n    __typename\\n    count\\n    current_user {\\n      id\\n      __typename\\n    }\\n  }\\n  editing {\\n    edited\\n    editableUntil\\n    __typename\\n  }\\n  ...TalkSlot_CommentInfoBar_comment\\n  ...TalkSlot_CommentActions_comment\\n  ...TalkSlot_CommentReactions_comment\\n  ...TalkSlot_CommentAuthorName_comment\\n  ...TalkSlot_CommentContent_comment\\n  ...TalkEmbedStream_DraftArea_comment\\n  ...TalkEmbedStream_DraftArea_comment\\n  __typename\\n}\\n\\nfragment TalkEmbedStream_DraftArea_comment on Comment {\\n  __typename\\n  ...TalkSlot_DraftArea_comment\\n}\\n\\nfragment CoralEmbedStream_Stream_singleComment on Comment {\\n  id\\n  status\\n  user {\\n    id\\n    __typename\\n  }\\n  ...CoralEmbedStream_Comment_SingleComment\\n  __typename\\n}\\n\\nfragment CoralEmbedStream_Configure_root on RootQuery {\\n  __typename\\n  ...CoralEmbedStream_Settings_root\\n}\\n\\nfragment CoralEmbedStream_Settings_root on RootQuery {\\n  __typename\\n}\\n\\nfragment CoralEmbedStream_Configure_asset on Asset {\\n  __typename\\n  ...CoralEmbedStream_AssetStatusInfo_asset\\n  ...CoralEmbedStream_Settings_asset\\n}\\n\\nfragment CoralEmbedStream_AssetStatusInfo_asset on Asset {\\n  id\\n  closedAt\\n  isClosed\\n  __typename\\n}\\n\\nfragment CoralEmbedStream_Settings_asset on Asset {\\n  id\\n  settings {\\n    moderation\\n    premodLinksEnable\\n    questionBoxEnable\\n    questionBoxIcon\\n    questionBoxContent\\n    __typename\\n  }\\n  __typename\\n}\\n\\nfragment CoralEmbedStream_AutomaticAssetClosure_asset on Asset {\\n  id\\n  closedAt\\n  __typename\\n}\\n\\nfragment TalkSlot_StreamTabPanes_root on RootQuery {\\n  ...TalkFeaturedComments_TabPane_root\\n  __typename\\n}\\n\\nfragment TalkFeaturedComments_TabPane_root on RootQuery {\\n  __typename\\n  ...TalkFeaturedComments_Comment_root\\n}\\n\\nfragment TalkFeaturedComments_Comment_root on RootQuery {\\n  __typename\\n  ...TalkSlot_CommentAuthorName_root\\n}\\n\\nfragment TalkSlot_StreamFilter_root on RootQuery {\\n  ...TalkViewingOptions_ViewingOptions_root\\n  __typename\\n}\\n\\nfragment TalkViewingOptions_ViewingOptions_root on RootQuery {\\n  __typename\\n}\\n\\nfragment TalkSlot_CommentInfoBar_root on RootQuery {\\n  ...TalkModerationActions_root\\n  __typename\\n}\\n\\nfragment TalkModerationActions_root on RootQuery {\\n  me {\\n    id\\n    __typename\\n  }\\n  __typename\\n}\\n\\nfragment TalkSlot_CommentAuthorName_root on RootQuery {\\n  ...TalkAuthorMenu_AuthorName_root\\n  __typename\\n}\\n\\nfragment TalkAuthorMenu_AuthorName_root on RootQuery {\\n  __typename\\n  ...TalkSlot_AuthorMenuActions_root\\n}\\n\\nfragment TalkSlot_StreamTabsPrepend_asset on Asset {\\n  ...TalkFeaturedComments_Tab_asset\\n  __typename\\n}\\n\\nfragment TalkFeaturedComments_Tab_asset on Asset {\\n  featuredCommentsCount: totalCommentCount(tags: [\\\"FEATURED\\\"]) @skip(if: $hasComment)\\n  __typename\\n}\\n\\nfragment TalkSlot_StreamTabPanes_asset on Asset {\\n  ...TalkFeaturedComments_TabPane_asset\\n  __typename\\n}\\n\\nfragment TalkFeaturedComments_TabPane_asset on Asset {\\n  id\\n  featuredComments: comments(query: {tags: [\\\"FEATURED\\\"], sortOrder: $sortOrder, sortBy: $sortBy, excludeIgnored: $excludeIgnored}, deep: true) @skip(if: $hasComment) {\\n    nodes {\\n      ...TalkFeaturedComments_Comment_comment\\n      __typename\\n    }\\n    hasNextPage\\n    startCursor\\n    endCursor\\n    __typename\\n  }\\n  ...TalkFeaturedComments_Comment_asset\\n  __typename\\n}\\n\\nfragment TalkFeaturedComments_Comment_comment on Comment {\\n  id\\n  body\\n  created_at\\n  replyCount\\n  tags {\\n    tag {\\n      name\\n      __typename\\n    }\\n    __typename\\n  }\\n  user {\\n    id\\n    username\\n    __typename\\n  }\\n  ...TalkSlot_CommentReactions_comment\\n  ...TalkSlot_CommentAuthorName_comment\\n  ...TalkSlot_CommentContent_comment\\n  __typename\\n}\\n\\nfragment TalkFeaturedComments_Comment_asset on Asset {\\n  __typename\\n  ...TalkSlot_CommentReactions_asset\\n  ...TalkSlot_CommentAuthorName_asset\\n}\\n\\nfragment TalkSlot_StreamFilter_asset on Asset {\\n  ...TalkViewingOptions_ViewingOptions_asset\\n  __typename\\n}\\n\\nfragment TalkViewingOptions_ViewingOptions_asset on Asset {\\n  __typename\\n}\\n\\nfragment TalkSlot_CommentInfoBar_asset on Asset {\\n  ...TalkModerationActions_asset\\n  __typename\\n}\\n\\nfragment TalkModerationActions_asset on Asset {\\n  id\\n  __typename\\n}\\n\\nfragment TalkSlot_CommentActions_asset on Asset {\\n  ...TalkPermalink_Button_asset\\n  __typename\\n}\\n\\nfragment TalkPermalink_Button_asset on Asset {\\n  url\\n  __typename\\n}\\n\\nfragment TalkSlot_CommentReactions_asset on Asset {\\n  ...RespectButton_asset\\n  __typename\\n}\\n\\nfragment RespectButton_asset on Asset {\\n  id\\n  __typename\\n}\\n\\nfragment TalkSlot_CommentAuthorName_asset on Asset {\\n  ...TalkAuthorMenu_AuthorName_asset\\n  __typename\\n}\\n\\nfragment TalkAuthorMenu_AuthorName_asset on Asset {\\n  __typename\\n}\\n\\nfragment TalkSlot_CommentInfoBar_comment on Comment {\\n  ...TalkFeaturedComments_Tag_comment\\n  ...TalkModerationActions_comment\\n  __typename\\n}\\n\\nfragment TalkFeaturedComments_Tag_comment on Comment {\\n  tags {\\n    tag {\\n      name\\n      __typename\\n    }\\n    __typename\\n  }\\n  __typename\\n}\\n\\nfragment TalkModerationActions_comment on Comment {\\n  id\\n  status\\n  user {\\n    id\\n    __typename\\n  }\\n  tags {\\n    tag {\\n      name\\n      __typename\\n    }\\n    __typename\\n  }\\n  __typename\\n}\\n\\nfragment TalkSlot_CommentActions_comment on Comment {\\n  ...TalkPermalink_Button_comment\\n  __typename\\n}\\n\\nfragment TalkPermalink_Button_comment on Comment {\\n  id\\n  __typename\\n}\\n\\nfragment TalkSlot_CommentReactions_comment on Comment {\\n  ...RespectButton_comment\\n  __typename\\n}\\n\\nfragment RespectButton_comment on Comment {\\n  id\\n  action_summaries {\\n    __typename\\n    ... on RespectActionSummary {\\n      count\\n      current_user {\\n        id\\n        __typename\\n      }\\n      __typename\\n    }\\n  }\\n  __typename\\n}\\n\\nfragment TalkSlot_CommentAuthorName_comment on Comment {\\n  ...TalkAuthorMenu_AuthorName_comment\\n  __typename\\n}\\n\\nfragment TalkAuthorMenu_AuthorName_comment on Comment {\\n  __typename\\n  id\\n  user {\\n    username\\n    __typename\\n  }\\n  ...TalkSlot_AuthorMenuInfos_comment\\n  ...TalkSlot_AuthorMenuActions_comment\\n}\\n\\nfragment TalkSlot_CommentContent_comment on Comment {\\n  ...TalkPluginRichText_CommentContent_comment\\n  __typename\\n}\\n\\nfragment TalkPluginRichText_CommentContent_comment on Comment {\\n  body\\n  richTextBody\\n  __typename\\n}\\n\\nfragment TalkSlot_DraftArea_comment on Comment {\\n  ...TalkPluginRichText_Editor_comment\\n  __typename\\n}\\n\\nfragment TalkPluginRichText_Editor_comment on Comment {\\n  body\\n  richTextBody\\n  __typename\\n}\\n\\nfragment TalkSlot_AuthorMenuActions_root on RootQuery {\\n  ...TalkIgnoreUser_IgnoreUserAction_root\\n  __typename\\n}\\n\\nfragment TalkIgnoreUser_IgnoreUserAction_root on RootQuery {\\n  me {\\n    id\\n    __typename\\n  }\\n  __typename\\n}\\n\\nfragment TalkSlot_AuthorMenuInfos_comment on Comment {\\n  ...TalkMemberSince_MemberSinceInfo_comment\\n  __typename\\n}\\n\\nfragment TalkMemberSince_MemberSinceInfo_comment on Comment {\\n  user {\\n    username\\n    created_at\\n    __typename\\n  }\\n  __typename\\n}\\n\\nfragment TalkSlot_AuthorMenuActions_comment on Comment {\\n  ...TalkIgnoreUser_IgnoreUserAction_comment\\n  __typename\\n}\\n\\nfragment TalkIgnoreUser_IgnoreUserAction_comment on Comment {\\n  user {\\n    id\\n    __typename\\n  }\\n  ...TalkIgnoreUser_IgnoreUserConfirmation_comment\\n  __typename\\n}\\n\\nfragment TalkIgnoreUser_IgnoreUserConfirmation_comment on Comment {\\n  user {\\n    id\\n    username\\n    __typename\\n  }\\n  __typename\\n}\\n\",\"variables\":{\"assetId\":\"\",\"assetUrl\":\"\",\"commentId\":\"\",\"hasComment\":false,\"excludeIgnored\":false,\"sortBy\":\"CREATED_AT\",\"sortOrder\":\"DESC\"},\"operationName\":\"CoralEmbedStream_Embed\"}'\n"
   ]
  },
  {
   "cell_type": "code",
   "execution_count": 127,
   "metadata": {},
   "outputs": [
    {
     "data": {
      "text/plain": [
       "29"
      ]
     },
     "execution_count": 127,
     "metadata": {},
     "output_type": "execute_result"
    }
   ],
   "source": [
    "url='https://www.pagina12.com.ar/310594-larreta-renuncia-al-pacto-fiscal-que-firmo-con-macri-para-po'\n",
    "with open('qp12', 'r') as file:\n",
    "    qp12 = file.read()\n",
    "payload=json.loads(qp12)\n",
    "aid=url.split('/')[-1].split('-')[0]\n",
    "payload['variables']['assetId']=aid\n",
    "payload['variables']['assetUrl']=url\n",
    "payload.pop('operationName')\n",
    "pp=r.post(\"https://talk.pagina12.com.ar/api/v1/graph/ql\", json=payload)\n",
    "coms=[]\n",
    "for x in pp.json()['data']['asset']['comments']['nodes']:\n",
    "    coms.extend(list(dict_extract('body',x)))\n",
    "len(coms)"
   ]
  },
  {
   "cell_type": "code",
   "execution_count": 128,
   "metadata": {
    "scrolled": true
   },
   "outputs": [
    {
     "data": {
      "text/plain": [
       "['Soy lego en la materia, que alguien me lo confirme: ¿es cierto que hay empresas que tienen su actividad en provincias o el interior pero tributan por domicilio fiscal en CABA? ¿De qué otra manera se transfieren ingresos, más allá de los impuestos? porque donde hay desigualdad pronunciada, hay\\xa0 alguna \"trampa\"- No existe persona ni entidad que, por más laborioso y eficiente que sea, pueda acumular 10, 20, 500 veces más que su vecino en real igualdad de condiciones.\\xa0',\n",
       " 'La CABA tiene el gobierno que votaron desde hace más de una década. Solo lo pueden revertir en las próximas elecciones.',\n",
       " 'Coincido....\\xa0 muy buena la foto de El Guason....Larreta...., en CABA....!!!!;🤣🤣🤣🤡🤡',\n",
       " 'Estoy de acuerdo con Maximiliano Ferraro.....\\xa0 Llamenlo a Macri y su entorno ministerial y económico si es que quieren recuperar lo robado. Si lo logran, no tienen que ir mas a la Corte a presionar para que les devuelva lo que Macri les regaló.\\xa0',\n",
       " 'Reforma Constitucional y cambio del asiento de la Capital Nacional. Al sur de Córdoba, muy cerca de los límites entre La Pampa y San Luis. En la llanura pampeana (pero seca). Allí donde el agua potable es subterránea y yá es interior profundo.',\n",
       " 'Y con qué plata construís una Brasilia ahí? Mejor mandemos toda esa clase a Formosa',\n",
       " 'Qué quisiste decir con Formosa?\\xa0',\n",
       " '¿Taiwán tal vez? ',\n",
       " 'no seas sarcástrico, probablemente el inefable grito no tenga ni la más peregrina idea que Taiwan era una isla llamada Formosa, aún debe estar tratando de entender a qué te referías; no des por el pito, más de lo que el pito vale; con mis respetos atentamente ',\n",
       " 'Que el modelo nac&pop entre otras virtudes',\n",
       " '¿viste cuando alguien no le dá? bien .. el grito es como la canonización de eso .. no le dá atentamente ',\n",
       " 'En castellano, por favor...',\n",
       " 'por \"canonizar\" entendemos que es un ejemplo fáctico de lo que significa el término \"no le dá\"; uno puede leer un libro, incluso varias veces, y no entender qué está leyendo; si su intelecto tiene la amplitud suficiente para entender que, tal vez, necesite ir a otras fuentes antes de volver a leer el libro con el objetivo de dilucidar términos y metáforas (por ejemplo) eso, en el tiempo, lo conducirá a una mejor comprensión de su tiempo y espacio; bien, el inefable, está en las antípodas; lee lo mismo una y otra y otra y otra vez sin establecer comparaciones o verificar los valores de verdad de su objeto de lectura o su comprensión de la misma; con mis respetos, atentamente; ',\n",
       " 'Mi pedido de redacción en castellano era dirigido al inefable globerto formoseño... o taiwanés, como sea. Ud es muy claro hg.',\n",
       " 'a la pregunta formulada por el inefable, podemos responder sin ningún problema: 1 - tomamos los 40.000.000.000 de U$S que el mamerto y su caterva robó para fuga del empréstico con el fmi. 2 - tomamos los 60.000.000.000 de U$S que el mamerto y su caterva robó para fuga de los préstamos ruinosos que contrajeron con fondos especulativos; 3 - tomamos los 71.000.000.000 de $ que el mamerto debe por cánones por la concesión de los servicios de correos, que nunca pagó y trató de condonarse durante su (des)gobierno  y pudiera seguir, pero por bonomía y para evitar la fatiga lo dejo allí;  le garantizo al inefable grito que sobra dinero para otras muchas obras; le recomiendo, como siempre, leer, informarse establecer parámetros ciertos sobre sucesos ciertos; atentamente ',\n",
       " 'Esto se arregla llamando a una Reforma Constitucional donde se le quite a CABA todo lo que se le ha otorgado en forma abusiva que creo este principado de abusos donde hace años que aspira recursos para huevadas como viaductos donde no pueden pasar dos camiones juntos, pasos bajo nivel donde no pueden cruzar ni ambulancias ni bomberos, puentes sobre nivel donde no pueden pasar camiones ni colectivos, romper y armar veredas casa dos años, plantar y desplantar plantas sin control, varias Ducato o Iveco con dos operarios para lavar bicisendas, espacios en los subtes para que acaricies gatitos, tener los baños de los subtes cerrados en todas las estaciones desde años antes de la pandemia. Y puedo seguir. Si quieren terminar con esto hay que jugarse y tomar los elementos que la Constitución dispone.',\n",
       " 'Mi única esperanza, es que mis compatriotas de todas las provincias, al momento de votar en el 2023 y como casi seguramente este señor va a ser el candidato de la derecha, tengan presentes estas atrocidades que comete.  Muchos porteños como yo, estamos hartos de estas sinvergüenzadas de todo tipo, cometidas por la diabólica Alianza PRO-UCR-Coalición Cínica, sostenidas por el voto infame de las clases pudientes que acá residen y también por el voto de muchos descerebrados y la traición a sus convicciones de tipos como Roy Cortina que uso la chapa de socialista para usar a sus seguidores como papel higiénico  Los diputados y senadores de CABA, votaron en contra del impuesto a la riqueza, pero en la legislatura de la ciudad, le aprueban a Larreta un impuesto del 1,2% a las compras con Tarjeta de Crédito que la vamos a pagar todo, ricos y no tanto que tenemos una TC para facilitar nuestras compras.  Mientras tanto, continúa la permanente reducción del presupuesto para educación pública: https://www.pagina12.com.ar/310393-la-tijera-de-larreta-avanza-sobre-la-educacion  ¿ Que Alberto está teniendo muchos problemas? Si, claro. Como en todos los países del mundo donde la pandemia se ha enseñoreado y complican hasta el cansancio cualquier proyecto o cualquier plan de gobierno y de crecimiento.  Lo único que pido es que PIENSEN... PIENSEN antes de votar, que Larreta es Macri, por más que se hagan los distanciados  ',\n",
       " 'Si creen que la solución para por arrodillar a los porteños, esquilarlos para escarmiento no es el camino. A esta altura está claro que es un ataque político. Dont tread on me',\n",
       " 'Que fino...termina la frase en Inglés....como todo troll - troskosiempre meando fuera del tarro...',\n",
       " 'Sinceramente Larreta y sus secuaces no tienen vergüenza. Se robaron tres puntos de coparticipación que no les corresponde, se robaron la lotería nacional que distribuía recursos a todo el país y se robaron 500 hectáreas de la ciudad para sus emprendimientos inmobiliarios destruyeron la educación de la ciudad y la salud pública y ahora nos quiere robar nuestra capacidad de consumir con tarjeta de crédito. Y robarse algunas otras hectáreas más, casi 200.',\n",
       " 'No se entiende. La cantidad \"en litigio\" no eran fondos co-psrticipables, sino parte del convenio de traspaso de las prestaciones de la policia a C.A.B.A., creando la Policia de la Capital, y finanviabdola en parte, desde la Nación. Y la auditoría demostró que la Naciøn tranfirió mucho mas que lo declarado como necesario. Entienfo que azuste el derecho de la Nación a reajustar esa suma, y posiblemente el derecho de X C.A.B.A. a no devolver lo mismo ya recibido en exceso? Salvo que la transferencia desde Nacion a C.A.B.A. entre 2016 y 2019 haya sido fraudulenta o delictiva.',\n",
       " 'Esta puja es histórica. Tiene la edad de nuestra nación. Unitarios y federales... ganaron los unitarios defensores de Buenos Aires. Ya es hora de cambiar con lo enunciado, lo proclamado, lo discursivo: proclamamos que somos un país federal y de federal no tenemos nada !!!\\xa0 La brecha entre lo que enunciamos y la realidad es enorme. Hace cuarenta y cinco años que vivo en la Patagonia y lo vivo permanentemente. Por aquí decimos que el mejor médico es Aerolíneas Argentinas. Y no es por la idoneidad del personal médico, que en su mayoría (oh milagro) vino de Bs As. Es por la infraestructura que contamos. Es como un gran embudo: todo se resuelve en Bs As. Todo entra y sale por Bs As. Ya que este gobierno de Alberto enunció que pretende un país federal, es hora de iniciar con señales concretas el gran cambio: seamos un país federal de una vez por todas.',\n",
       " 'Los unitarios están en la rosada, país federal es que cada provincia pueda recaudar sus impuestos, legislar sus propias leyes laborales, penales, fiscales, etc, etc Eso es federalismo de verdad.',\n",
       " 'lamento disentir, eso es \"ignorancia\" de su parte y no otra cosa ',\n",
       " 'A Joker le implantaron una cara de acero inoxidable\\xa0 ',\n",
       " 'Jaja la foto que pusieron de Larreta es muy graciosa',\n",
       " 'Totalmente!! Excelente foto, El Guasón en CABA!!\\xa0',\n",
       " 'Jaja, justo iba a preguntar a que personaje se parecía en la foto.',\n",
       " 'Si gustan de las fotos, los invito a ver esta muestra virtual de fotoperiodismo 2019. Hay un nivel de fotógrafos increíbles Que la disfruten!  https://www.youtube.com/watch?v=XRsdKc1arJs&t=397s ']"
      ]
     },
     "execution_count": 128,
     "metadata": {},
     "output_type": "execute_result"
    }
   ],
   "source": [
    "coms"
   ]
  },
  {
   "cell_type": "code",
   "execution_count": 43,
   "metadata": {},
   "outputs": [
    {
     "data": {
      "text/plain": [
       "'CoralEmbedStream_Embed'"
      ]
     },
     "execution_count": 43,
     "metadata": {},
     "output_type": "execute_result"
    }
   ],
   "source": []
  },
  {
   "cell_type": "code",
   "execution_count": 56,
   "metadata": {},
   "outputs": [],
   "source": []
  },
  {
   "cell_type": "code",
   "execution_count": 19,
   "metadata": {},
   "outputs": [
    {
     "data": {
      "text/plain": [
       "'POST body missing. Did you forget use body-parser middleware?'"
      ]
     },
     "execution_count": 19,
     "metadata": {},
     "output_type": "execute_result"
    }
   ],
   "source": [
    "response.text"
   ]
  },
  {
   "cell_type": "code",
   "execution_count": 2,
   "metadata": {},
   "outputs": [],
   "source": [
    "req=r.get('https://www.pagina12.com.ar/')"
   ]
  },
  {
   "cell_type": "code",
   "execution_count": 4,
   "metadata": {},
   "outputs": [],
   "source": [
    "sopa=bs(req.content)"
   ]
  },
  {
   "cell_type": "code",
   "execution_count": 6,
   "metadata": {},
   "outputs": [],
   "source": [
    "arts=sopa.find_all('article')"
   ]
  },
  {
   "cell_type": "code",
   "execution_count": 15,
   "metadata": {},
   "outputs": [
    {
     "data": {
      "text/plain": [
       "'Estafas, vaciamiento, desvío de fondos, ventas simuladas y empresas pantalla bajo investigación judicialLos Etchevehere: un modelo ejemplar de apropiación privadaLas maniobras de ocultamiento de activos en perjuicio de la hermana del ex ministro, pero también de acreedores y otros vínculos, están bajo la lupa de la Justicia. Las operaciones que ya le imputó la Fiscalía al clan familiar.Por Raúl Dellatorre'"
      ]
     },
     "execution_count": 15,
     "metadata": {},
     "output_type": "execute_result"
    }
   ],
   "source": [
    "arts[0].text"
   ]
  },
  {
   "cell_type": "code",
   "execution_count": 10,
   "metadata": {},
   "outputs": [
    {
     "data": {
      "text/plain": [
       "'Festival Internacional de Cortos de Juyuy Este lunes 26 de octubre comienza la 19° edición de la renombrada muestra, de forma online y mediante la plataforma OctubreTV'"
      ]
     },
     "execution_count": 10,
     "metadata": {},
     "output_type": "execute_result"
    }
   ],
   "source": [
    "arts[-1].text"
   ]
  },
  {
   "cell_type": "code",
   "execution_count": 12,
   "metadata": {},
   "outputs": [
    {
     "data": {
      "text/plain": [
       "133"
      ]
     },
     "execution_count": 12,
     "metadata": {},
     "output_type": "execute_result"
    }
   ],
   "source": [
    "len(arts)"
   ]
  },
  {
   "cell_type": "code",
   "execution_count": 19,
   "metadata": {},
   "outputs": [
    {
     "data": {
      "text/plain": [
       "'https://www.pagina12.com.ar/302979-los-etchevehere-el-modelo-ejemplar-de-apropiacion-privada'"
      ]
     },
     "execution_count": 19,
     "metadata": {},
     "output_type": "execute_result"
    }
   ],
   "source": [
    "arts[0].find('a').get('href')"
   ]
  },
  {
   "cell_type": "markdown",
   "metadata": {},
   "source": [
    "### hoy"
   ]
  },
  {
   "cell_type": "code",
   "execution_count": 28,
   "metadata": {},
   "outputs": [],
   "source": [
    "pa12=p12()"
   ]
  },
  {
   "cell_type": "code",
   "execution_count": 29,
   "metadata": {},
   "outputs": [],
   "source": [
    "pa12.hoy()"
   ]
  },
  {
   "cell_type": "code",
   "execution_count": 30,
   "metadata": {
    "jupyter": {
     "outputs_hidden": true
    },
    "scrolled": true
   },
   "outputs": [
    {
     "data": {
      "text/plain": [
       "['https://www.pagina12.com.ar/302979-los-etchevehere-el-modelo-ejemplar-de-apropiacion-privada',\n",
       " 'https://www.pagina12.com.ar/302958-coronavirus-en-argentina-se-registraron-211-muertes',\n",
       " 'https://www.pagina12.com.ar/302948-elecciones-en-estados-unidos-el-analisis-de-noam-chomsky-sob',\n",
       " 'https://www.pagina12.com.ar/302971-el-proyecto-artigas-sigue-en-marcha',\n",
       " 'https://www.pagina12.com.ar/302937-europa-en-crisis-por-la-segunda-ola-del-virus',\n",
       " 'https://www.pagina12.com.ar/302801-el-golpe-que-trump-puede-dar-para-seguir-en-el-poder-aunque-',\n",
       " 'https://www.pagina12.com.ar/302963-cornejo-cruzo-a-carrio-y-salio-a-defender-a-macri',\n",
       " 'https://www.pagina12.com.ar/302965-femicidio-en-tucuman-un-hombre-mato-a-una-mujer-que-acosaba-',\n",
       " 'https://www.pagina12.com.ar/302192-que-es-la-luna-azul-el-extrano-fenomeno-que-podra-verse-este',\n",
       " 'https://www.pagina12.com.ar/302791-en-netflix-no-se-consigue',\n",
       " 'https://www.pagina12.com.ar/302840-escandalo-en-la-causa-del-dolar-futuro-uno-de-los-jueces-adv',\n",
       " 'https://www.pagina12.com.ar/302978-la-nasa-recopilo-sonidos-terrorificos-del-espacio-para-hallo',\n",
       " 'https://www.pagina12.com.ar/302960-elecciones-en-estados-unidos-donde-tiene-que-ganar-biden-par',\n",
       " 'https://www.pagina12.com.ar/302903-murio-sean-connery',\n",
       " 'https://www.pagina12.com.ar/302858-los-etchevehere-los-macri-los-mitre-herederos-del-reino',\n",
       " 'https://www.pagina12.com.ar/302911-un-jubilado-mato-a-dos-ladrones-en-florencio-varela',\n",
       " 'https://www.pagina12.com.ar/302846-luis-etchevehere-sus-hermanos-y-la-madre-tienen-cita-con-el-',\n",
       " 'https://www.pagina12.com.ar/302968-la-localia-de-river-una-novela-sin-fin',\n",
       " 'https://www.pagina12.com.ar/302731-alexandria-ocasio-cortez-salio-en-la-tapa-de-vanity-fair-y-l',\n",
       " 'https://www.pagina12.com.ar/302839-dolares-de-brasil-para-bajar-el-blue',\n",
       " 'https://www.pagina12.com.ar/302905-la-vida-de-sean-connery-en-sus-peliculas',\n",
       " 'https://www.pagina12.com.ar/302750-donald-trump-qanon-y-el-lado-oscuro-de-la-derecha',\n",
       " 'https://www.pagina12.com.ar/302829-coronavirus-la-caba-corrige-por-goteo-el-subregistro-de-muer',\n",
       " 'https://www.pagina12.com.ar/302909-desalojo-de-guernica-berni-acuso-a-la-izquierda-de-lanzar-lo',\n",
       " 'https://www.pagina12.com.ar/302917-protestas-de-presos-bonaerenses-por-visitas-presenciales',\n",
       " 'https://www.pagina12.com.ar/302898-hace-110-anos-nacia-miguel-hernandez',\n",
       " 'https://www.pagina12.com.ar/302923-murio-por-coronavirus-el-intendente-de-gualeguay-federico-bo',\n",
       " 'https://www.pagina12.com.ar/302845-larreta-vidal-y-carrio-apuestan-a-rafecas-y-se-alejan-de-mac',\n",
       " 'https://www.pagina12.com.ar/302927-un-cura-ortodoxo-fue-baleado-en-la-ciudad-francesa-de-lyon',\n",
       " 'https://www.pagina12.com.ar/302936-fallecio-la-nina-del-primer-caso-de-difteria-en-peru-en-20-a',\n",
       " 'https://www.pagina12.com.ar/302427-trump-y-la-amenaza-fascista-en-estados-unidos',\n",
       " 'https://www.pagina12.com.ar/302915-la-afip-retoma-la-atencion-presencial-desde-el-lunes',\n",
       " 'https://www.pagina12.com.ar/302700-identifican-una-mutacion-del-coronavirus-que-se-expande-por-',\n",
       " 'https://www.pagina12.com.ar/302913-desoriente-medio',\n",
       " 'https://www.pagina12.com.ar/302703-gran-bretana-frena-una-compra-de-aviones-de-la-argentina-a-c',\n",
       " 'https://www.pagina12.com.ar/302920-fernando-espinoza-diego-maradona-y-la-cruz-roja-argentina-es',\n",
       " 'https://www.pagina12.com.ar/302821-espionaje-ilegal-las-victimas-piden-que-mariano-macri-declar',\n",
       " 'https://www.pagina12.com.ar/302860-benjamin-isaac-dricas-alberto-marcelo-oro-moyano-maria-jose-',\n",
       " 'https://www.pagina12.com.ar/302760-el-fragil-poder-del-homo-deus',\n",
       " 'https://www.pagina12.com.ar/autores/824-eric-nepomuceno',\n",
       " 'https://www.pagina12.com.ar/302698-este-loco-amor-por-maradona',\n",
       " 'https://www.pagina12.com.ar/autores/863-juan-jose-panno',\n",
       " 'https://www.pagina12.com.ar/autores/262061-esther-diaz',\n",
       " 'https://www.pagina12.com.ar/302780-prorrogan-los-precios-maximos-por-tres-meses',\n",
       " 'https://www.pagina12.com.ar/302533-la-chocotorta-fue-elegida-como-el-mejor-postre-del-mundo',\n",
       " 'https://www.pagina12.com.ar/302755-auh-noviembre-2020-el-cronograma-de-pago-completo-de-la-anse',\n",
       " 'https://www.pagina12.com.ar/302847-detienen-al-represor-eduardo-alfonso',\n",
       " 'https://www.pagina12.com.ar/302739-20-anos-de-curb-your-enthusiasm-larry-el-idiota-heroe',\n",
       " 'https://www.pagina12.com.ar/302739-20-anos-de-curb-your-enthusiasm-larry-el-idiota-heroe',\n",
       " 'https://www.pagina12.com.ar/302771-fifi-real-en-el-ambiente-tanguero-finjo-demencia',\n",
       " 'https://www.pagina12.com.ar/302802-agustina-bazterrica-le-da-pelea-a-stephen-king',\n",
       " 'https://www.pagina12.com.ar/302815-documentales-de-musica-para-ver-gratis-por-cont-ar',\n",
       " 'https://www.pagina12.com.ar/302819-el-tango-se-reinventa-online',\n",
       " 'https://www.pagina12.com.ar/302779-un-3-invita-a-pensar-a-cuestionar-y-a-reir',\n",
       " 'https://www.pagina12.com.ar/302778-del-worlds-2020-de-league-of-legends-al-halloween-multipanta',\n",
       " 'https://www.pagina12.com.ar/302776-shows-en-vivo-y-por-streaming-para-el-fin-de-semana',\n",
       " 'https://www.pagina12.com.ar/302777-musica-popular-para-la-era-del-rivotril',\n",
       " 'https://www.pagina12.com.ar/302353-welcome-to-the-falopita-el-magico-mundo-web-de-tomas-garcia',\n",
       " 'https://www.pagina12.com.ar/301998-bandalos-chinos-quisimos-revisar-el-pop-de-todas-las-epocas',\n",
       " 'https://www.pagina12.com.ar/301831-en-programacion-la-creatividad-esta-en-como-combinas-los-ele',\n",
       " 'https://www.pagina12.com.ar/104703-suscribite-a-los-newsletters-del-no',\n",
       " 'https://www.pagina12.com.ar/302587-fue-una-muy-buena-reunion',\n",
       " 'https://www.pagina12.com.ar/302577-nunca-reivindicare-actividades-ilegales-del-estado',\n",
       " 'https://www.pagina12.com.ar/302593-la-inyeccion-mas-buscada-de-cada-mes',\n",
       " 'https://www.pagina12.com.ar/302897-volvio-el-turismo-interno-y-ya-hay-movimiento-en-algunas-loc',\n",
       " 'https://www.pagina12.com.ar/302896-comunidad-wichi-intimidada-para-que-se-vayan-de-la-ruta-tras',\n",
       " 'https://www.pagina12.com.ar/302895-perpetua-para-el-femicida-de-adriana-ruiz',\n",
       " 'https://750.am/2020/10/27/ciro-martinez-lanza-una-nueva-version-de-el-farolito-y-adelanta-la-trilogia-que-repasara-su-carrera/',\n",
       " 'https://750.am/2020/10/28/santiago-carreras-sobre-los-derechos-de-televisacion-del-futbol-la-pelea-es-entre-privados-el-estado-no-tiene-nada-que-ver/',\n",
       " 'https://750.am/2020/10/28/paula-de-luque-no-me-gustaria-que-el-destino-sea-reflejarnos-solo-en-netflix-que-es-el-nuevo-disney/',\n",
       " 'https://www.pagina12.com.ar/302391-la-penalizacion-del-aborto-es-una-injuria',\n",
       " 'https://www.pagina12.com.ar/302110-frutos-de-tanta-sangre',\n",
       " 'https://www.pagina12.com.ar/302052-lengua-karateca',\n",
       " 'https://www.pagina12.com.ar/301781-brays-efe-suelto-de-cuerpo',\n",
       " 'https://www.pagina12.com.ar/302119-el-35-encuentro-feminista-oprimir-o-compartir',\n",
       " 'https://www.pagina12.com.ar/302122-paula-rivera-hasta-no-hace-mucho-la-lesbiana-quedaba-relegad',\n",
       " 'https://www.pagina12.com.ar/302271-mujeres-productoras-y-guardianas-de-los-archivos',\n",
       " 'https://www.pagina12.com.ar/302257-hay-una-gran-resistencia-a-vincular-la-literatura-o-el-arte-',\n",
       " 'https://www.pagina12.com.ar/302261-agricultura-familiar-y-soberania-alimentaria-en-busca-de-sol',\n",
       " 'https://www.pagina12.com.ar/301796-nunca-en-pasado',\n",
       " 'https://www.pagina12.com.ar/301798-yo-quiero-a-mi-bandera',\n",
       " 'https://www.pagina12.com.ar/301841-koraje',\n",
       " 'https://www.pagina12.com.ar/301031-yoga-de-emmanuel-carrere-la-busqueda-de-la-libertad-y-la-car',\n",
       " 'https://www.pagina12.com.ar/300780-el-disco-tributo-a-mose-allison',\n",
       " 'https://www.pagina12.com.ar/300988-entrevista-con-nathy-peluso',\n",
       " 'https://www.pagina12.com.ar/300981-la-epopeya-de-la-repesificacion-de-la-economia',\n",
       " 'https://www.pagina12.com.ar/301046-quienes-tienen-que-pagar-mas-por-la-crisis',\n",
       " 'https://www.pagina12.com.ar/301061-el-riesgo-de-una-crisis-mundial-de-deuda',\n",
       " 'https://www.pagina12.com.ar/302391-la-penalizacion-del-aborto-es-una-injuria',\n",
       " 'https://www.pagina12.com.ar/302110-frutos-de-tanta-sangre',\n",
       " 'https://www.pagina12.com.ar/302052-lengua-karateca',\n",
       " 'https://www.pagina12.com.ar/301781-brays-efe-suelto-de-cuerpo',\n",
       " 'https://www.pagina12.com.ar/302119-el-35-encuentro-feminista-oprimir-o-compartir',\n",
       " 'https://www.pagina12.com.ar/302122-paula-rivera-hasta-no-hace-mucho-la-lesbiana-quedaba-relegad',\n",
       " 'https://www.pagina12.com.ar/302271-mujeres-productoras-y-guardianas-de-los-archivos',\n",
       " 'https://www.pagina12.com.ar/302257-hay-una-gran-resistencia-a-vincular-la-literatura-o-el-arte-',\n",
       " 'https://www.pagina12.com.ar/302261-agricultura-familiar-y-soberania-alimentaria-en-busca-de-sol',\n",
       " 'https://www.pagina12.com.ar/301796-nunca-en-pasado',\n",
       " 'https://www.pagina12.com.ar/301798-yo-quiero-a-mi-bandera',\n",
       " 'https://www.pagina12.com.ar/301841-koraje',\n",
       " 'https://www.pagina12.com.ar/301031-yoga-de-emmanuel-carrere-la-busqueda-de-la-libertad-y-la-car',\n",
       " 'https://www.pagina12.com.ar/300780-el-disco-tributo-a-mose-allison',\n",
       " 'https://www.pagina12.com.ar/300988-entrevista-con-nathy-peluso',\n",
       " 'https://www.pagina12.com.ar/300981-la-epopeya-de-la-repesificacion-de-la-economia',\n",
       " 'https://www.pagina12.com.ar/301046-quienes-tienen-que-pagar-mas-por-la-crisis',\n",
       " 'https://www.pagina12.com.ar/301061-el-riesgo-de-una-crisis-mundial-de-deuda',\n",
       " 'https://carasycaretas.org.ar/2020/10/05/la-pasion-segun-nestor/',\n",
       " 'https://carasycaretas.org.ar/2020/10/05/nestor-y-yo/',\n",
       " 'https://carasycaretas.org.ar/2020/10/05/vengo-a-proponerles-un-sueno/',\n",
       " 'https://www.pagina12.com.ar/302991-a-diez-anos-de-su-muerte-adriana-calvo-volvera-a-ser-escucha',\n",
       " 'https://www.pagina12.com.ar/302987-el-testimonio-que-puede-hundir-a-mauricio-macri',\n",
       " 'https://www.pagina12.com.ar/302986-en-gobierno-piensan-en-tener-la-vacuna-rusa-contra-el-corona',\n",
       " 'https://www.pagina12.com.ar/302979-los-etchevehere-el-modelo-ejemplar-de-apropiacion-privada',\n",
       " 'https://www.pagina12.com.ar/302971-el-proyecto-artigas-sigue-en-marcha',\n",
       " 'https://www.pagina12.com.ar/302915-la-afip-retoma-la-atencion-presencial-desde-el-lunes',\n",
       " 'https://www.pagina12.com.ar/302989-reclamos-de-presos-bonaerenses-para-que-vuelvan-las-visitas',\n",
       " 'https://www.pagina12.com.ar/302988-el-gobernador-de-cordoba-removio-la-cupula-de-la-policia-y-p',\n",
       " 'https://www.pagina12.com.ar/302978-la-nasa-recopilo-sonidos-terrorificos-del-espacio-para-hallo',\n",
       " 'https://www.pagina12.com.ar/302966-elecciones-en-estados-unidos-que-es-y-como-funciona-el-coleg',\n",
       " 'https://www.pagina12.com.ar/302960-elecciones-en-estados-unidos-donde-tiene-que-ganar-biden-par',\n",
       " 'https://www.pagina12.com.ar/302948-elecciones-en-estados-unidos-el-analisis-de-noam-chomsky-sob',\n",
       " 'https://www.pagina12.com.ar/302941-sean-connery-fue-uno-de-los-ultimos-semidioses-que-le-quedab',\n",
       " 'https://www.pagina12.com.ar/302905-la-vida-de-sean-connery-en-sus-peliculas',\n",
       " 'https://www.pagina12.com.ar/302903-murio-sean-connery',\n",
       " 'https://www.pagina12.com.ar/302990-liga-profesional-boca-logro-un-gran-triunfo-ante-lanus',\n",
       " 'https://www.pagina12.com.ar/302982-liga-profesional-san-lorenzo-quedo-en-deuda-en-el-debut',\n",
       " 'https://www.pagina12.com.ar/302968-la-localia-de-river-una-novela-sin-fin',\n",
       " 'https://elplanetaurbano.com/2020/10/celeste-cid-·-el-lenguaje-de-los-cielos/',\n",
       " 'https://elplanetaurbano.com/2020/10/martin-garabal-%C2%B7-el-ciudadano-ilustra/',\n",
       " 'https://elplanetaurbano.com/2020/10/destilados-nacionales-el-gusto-es-nuestro/',\n",
       " 'https://octubretv.com/videos/muejeres-pelicula-colectiva-realizada-por-mujeres-de-argentina-muejeres-pelicula-colectiva-realizada-por-mujeres-de-argentina/mujeres/',\n",
       " 'https://octubretv.com/videos/1a-cortometrajes-destacados-mirada-de-mujeres/',\n",
       " 'https://octubretv.com/videos/1-festival-la-vida-es-corta-jujuy-cortos/']"
      ]
     },
     "execution_count": 30,
     "metadata": {},
     "output_type": "execute_result"
    }
   ],
   "source": [
    "pa12.urls"
   ]
  },
  {
   "cell_type": "code",
   "execution_count": 31,
   "metadata": {},
   "outputs": [
    {
     "data": {
      "text/plain": [
       "28"
      ]
     },
     "execution_count": 31,
     "metadata": {},
     "output_type": "execute_result"
    }
   ],
   "source": [
    "len('https://www.pagina12.com.ar/')"
   ]
  },
  {
   "cell_type": "code",
   "execution_count": 70,
   "metadata": {},
   "outputs": [
    {
     "name": "stdout",
     "output_type": "stream",
     "text": [
      "https://www.pagina12.com.ar/autores/824-eric-nepomuceno\n",
      "https://www.pagina12.com.ar/autores/863-juan-jose-panno\n",
      "https://www.pagina12.com.ar/autores/262061-esther-diaz\n"
     ]
    }
   ],
   "source": [
    "notas=get(pa12.urls)"
   ]
  },
  {
   "cell_type": "code",
   "execution_count": 65,
   "metadata": {},
   "outputs": [
    {
     "data": {
      "text/plain": [
       "118"
      ]
     },
     "execution_count": 65,
     "metadata": {},
     "output_type": "execute_result"
    }
   ],
   "source": [
    "len(notas)"
   ]
  }
 ],
 "metadata": {
  "kernelspec": {
   "display_name": "Python 3",
   "language": "python",
   "name": "python3"
  },
  "language_info": {
   "codemirror_mode": {
    "name": "ipython",
    "version": 3
   },
   "file_extension": ".py",
   "mimetype": "text/x-python",
   "name": "python",
   "nbconvert_exporter": "python",
   "pygments_lexer": "ipython3",
   "version": "3.7.4"
  }
 },
 "nbformat": 4,
 "nbformat_minor": 4
}
