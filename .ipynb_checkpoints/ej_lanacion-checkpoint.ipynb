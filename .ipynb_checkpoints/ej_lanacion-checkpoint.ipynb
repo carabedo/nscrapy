{
 "cells": [
  {
   "cell_type": "code",
   "execution_count": 108,
   "metadata": {},
   "outputs": [],
   "source": [
    "import requests as r\n",
    "from bs4 import BeautifulSoup as bs\n",
    "import unicodedata\n",
    "import time \n",
    "\n",
    "class lnn():\n",
    "    def __init__(self):\n",
    "        self.url='https://www.infobae.com/'\n",
    "   \n",
    "    def get(self,url):        \n",
    "        nota=r.get(url)\n",
    "        sopa=bs(nota.content,features=\"lxml\")\n",
    "        self.titulo=sopa.find('h1').get_text(strip=True)\n",
    "        self.bajada=sopa.find('epigrafe').get_text(strip=True)\n",
    "        self.cuerpo=' '.join([unicodedata.normalize(\"NFKD\",x.get_text()).strip() for x in sopa.find('section',{'id':'cuerpo'}).find_all('p')][:-1])\n",
    "        bolds=sum([x.find_all('b') for x in sopa.find('section',{'id':'cuerpo'}).find_all('p', recursive=False)],[])\n",
    "        self.bolds=[x.get_text(strip=True) for x in bolds]\n",
    "        self.bold=' / '.join(self.bolds)     \n",
    "        self.quotes=' / '.join([x.split('”')[0] for x in self.cuerpo.split('“')[1:]])        "
   ]
  },
  {
   "cell_type": "code",
   "execution_count": 164,
   "metadata": {},
   "outputs": [],
   "source": [
    "url='https://www.lanacion.com.ar/el-mundo/el-ranking-mejores-paises-pasar-pandemia-deja-nid2519658'\n",
    "url='https://www.lanacion.com.ar/seguridad/homicidio-condenaron-uno-acusados-muerte-turista-frances-nid2519828'"
   ]
  },
  {
   "cell_type": "code",
   "execution_count": 165,
   "metadata": {},
   "outputs": [],
   "source": [
    "nota=lnn()\n",
    "nota.get(url)"
   ]
  },
  {
   "cell_type": "code",
   "execution_count": 166,
   "metadata": {},
   "outputs": [
    {
     "data": {
      "text/plain": [
       "'Homicidio. Condenaron a uno de los acusados por la muerte de un turista francés'"
      ]
     },
     "execution_count": 166,
     "metadata": {},
     "output_type": "execute_result"
    }
   ],
   "source": [
    "nota.titulo"
   ]
  },
  {
   "cell_type": "code",
   "execution_count": 167,
   "metadata": {},
   "outputs": [
    {
     "data": {
      "text/plain": [
       "'Mathieu Martin, un mochilero francés de 32 años, fue asesinado en Salta, en 2018'"
      ]
     },
     "execution_count": 167,
     "metadata": {},
     "output_type": "execute_result"
    }
   ],
   "source": [
    "nota.bajada"
   ]
  },
  {
   "cell_type": "code",
   "execution_count": 168,
   "metadata": {},
   "outputs": [
    {
     "data": {
      "text/plain": [
       "['turista francés Mathieu Martin',\n",
       " 'fue condenado a 13 años de prisión',\n",
       " 'desapareció en agosto de 2018, cuando viajaba desde Humahuaca a la localidad salteña de Iruya',\n",
       " 'la querella, a cargo de Matías Adet no formuló pedido de pena por requerimiento de los familiares, que escribieron una carta en la que solicitaron saber la verdad y hallar el cuerpo de Martin.',\n",
       " 'aseguraron no ser los autores del hecho',\n",
       " 'afirmaron que ambos fueron obligados a confesar el crimen luego de sufrir maltratos de la policía',\n",
       " 'Mathieu Pierre Martin desapareció en agosto de 2018, cuando recorría el norte argentino como mochilero',\n",
       " 'su cuerpo nunca fue hallado.']"
      ]
     },
     "execution_count": 168,
     "metadata": {},
     "output_type": "execute_result"
    }
   ],
   "source": [
    "nota.bolds"
   ]
  },
  {
   "cell_type": "code",
   "execution_count": 169,
   "metadata": {},
   "outputs": [],
   "source": [
    "nota=r.get(url)\n",
    "sopa=bs(nota.content,features=\"lxml\")"
   ]
  },
  {
   "cell_type": "code",
   "execution_count": 170,
   "metadata": {
    "scrolled": false
   },
   "outputs": [
    {
     "data": {
      "text/plain": [
       "'Uno de los hermanos que eran juzgados en la ciudad de Salta por el homicidio del turista francés Mathieu Martin, de 32 años, que en agosto de 2018 desapareció cuando se dirigía como mochilero a la localidad de Iruya, fue condenado a 13 años de prisión, mientras que su hermano fue absuelto por el beneficio de la duda. Los jueces de la Sala VI del Tribunal del Juicio de Salta, Guillermo Pereyra, Mónica Mukdsi y José Luis Riera, condenaron esta tarde a Juan Cuevas, de 39 años, a la pena 13 años de prisión efectiva por resultar autor penalmente responsable del delito de homicidio simple en perjuicio de Martin. Además, dispusieron su traslado a la Unidad Carcelaria 1 de Salta y la extracción de material genético por parte del Servicio de Biología Molecular del Departamento Técnico del Cuerpo de Investigaciones Fiscales (CIF), para su incorporación al Banco de Datos Genéticos. En tanto, su hermano Froilán Cuevas, de 41 años, fue absuelto por el beneficio de la duda. Los jueces ordenaron además que se consigne el fallecimiento de Mathieu Martin en el Registro Civil de Salta y se notifique a sus familiares.  Así concluyó hoy el juicio oral y público contra los hermanos Cuevas, acusados del homicidio del turista francés Mathieu Martin, quien desapareció en agosto de 2018, cuando viajaba desde Humahuaca a la localidad salteña de Iruya. Esta mañana, en la Sala de Grandes Juicios de la Ciudad de Salta se pronunciaron los alegatos de las partes, y el primero en exponer fue el fiscal Pablo Rivero, quien hizo referencia al recorrido del turista francés desde su ingreso en la Argentina.  Asimismo, reconstruyó el camino que realizó Martin cuando partió desde Tilcara el 8 de agosto de 2018 hacia Iruya y detalló que la última vez que lo vieron fue el 15 de agosto, en el paraje Peña Negra, a 15 minutos de Huacaloma, donde residen los hermanos Cuevas. Rivero destacó el intenso trabajo de búsqueda de las fuerzas provincias y federales en Salta y Jujuy, y las incursiones con canes entrenados de la Policía Federal, que detectaron rastros en un lugar llamado El Chorro, cerca de la casa de Juan Cuevas, aunque las excavaciones se vieron frustradas por las dificultades del terreno. Por su parte, el fiscal Ramiro Ramos Ossorio había solicitado la pena de 20 años de prisión para Juan Cuevas y 12 años de prisión para Froilán Cuevas, como coautores de homicidio simple en perjuicio de Martin.  A su vez, la querella, a cargo de Matías Adet no formuló pedido de pena por requerimiento de los familiares, que escribieron una carta en la que solicitaron saber la verdad y hallar el cuerpo de Martin. El abogado defensor de los hermanos acusados, Pablo Tobío, pidió la absolución por el beneficio de la duda, mientras que la Asesora de Menores e Incapaces pidió la absolución de Froilán Cuevas, que posee una discapacidad. Ninguno de los acusados quiso hacer uso de las últimas palabras, y el tribunal deliberó durante más de cinco horas antes de dar a conocer la sentencia del juicio, que comenzó el 9 de noviembre pasado. Los dos acusados hablaron el viernes pasado, ante los jueces, sin aceptar preguntas de las partes, y aseguraron no ser los autores del hecho, tras lo que afirmaron que ambos fueron obligados a confesar el crimen luego de sufrir maltratos de la policía que los detuvo en Iruya. Mathieu Pierre Martin desapareció en agosto de 2018, cuando recorría el norte argentino como mochilero, por lo que sus familiares alertaron sobre esta situación y se ordenó un operativo de búsqueda, tanto en Jujuy como en Salta. El joven se contactó por última vez desde la localidad de Tilcara e informó a su familia que su próximo destino era Iruya, y tras su desaparición, su cuerpo nunca fue hallado.'"
      ]
     },
     "execution_count": 170,
     "metadata": {},
     "output_type": "execute_result"
    }
   ],
   "source": [
    "' '.join([unicodedata.normalize(\"NFKD\",x.get_text()).strip() for x in sopa.find('section',{'id':'cuerpo'}).find_all('p', recursive=False)])"
   ]
  },
  {
   "cell_type": "code",
   "execution_count": 171,
   "metadata": {
    "scrolled": false
   },
   "outputs": [
    {
     "data": {
      "text/plain": [
       "[[<b> turista francés Mathieu Martin</b>,\n",
       "  <b>fue condenado a 13 años de prisión</b>],\n",
       " [],\n",
       " [],\n",
       " [],\n",
       " [],\n",
       " [],\n",
       " [<b>desapareció en agosto de 2018, cuando viajaba desde Humahuaca a la localidad salteña de Iruya</b>],\n",
       " [],\n",
       " [],\n",
       " [],\n",
       " [],\n",
       " [],\n",
       " [],\n",
       " [<b> la querella, a cargo de Matías Adet no formuló pedido de pena por requerimiento de los familiares, que escribieron una carta en la que solicitaron saber la verdad y hallar el cuerpo de Martin.</b>],\n",
       " [],\n",
       " [],\n",
       " [<b> aseguraron no ser los autores del hecho</b>,\n",
       "  <b> afirmaron que ambos fueron obligados a confesar el crimen luego de sufrir maltratos de la policía</b>],\n",
       " [<b>Mathieu Pierre Martin desapareció en agosto de 2018, cuando recorría el norte argentino como mochilero</b>],\n",
       " [<b>su cuerpo nunca fue hallado.</b>]]"
      ]
     },
     "execution_count": 171,
     "metadata": {},
     "output_type": "execute_result"
    }
   ],
   "source": [
    "[x.find_all('b') for x in sopa.find('section',{'id':'cuerpo'}).find_all('p', recursive=False)]"
   ]
  },
  {
   "cell_type": "code",
   "execution_count": 186,
   "metadata": {},
   "outputs": [
    {
     "data": {
      "text/plain": [
       "'1692695'"
      ]
     },
     "execution_count": 186,
     "metadata": {},
     "output_type": "execute_result"
    }
   ],
   "source": []
  },
  {
   "cell_type": "code",
   "execution_count": 188,
   "metadata": {},
   "outputs": [],
   "source": [
    "import base64\n",
    "token=base64.b64encode(bytes(sopa.find('div',{'id' : 'tokenLF'}).get('data-entrada'), 'utf-8')).decode('ascii')"
   ]
  },
  {
   "cell_type": "code",
   "execution_count": 189,
   "metadata": {},
   "outputs": [],
   "source": [
    "com=r.get('https://data.livefyre.com/bs3/v3.1/la-nacion.fyre.co/356483/'+token+'/init')\n",
    "data=com.json()"
   ]
  },
  {
   "cell_type": "code",
   "execution_count": 190,
   "metadata": {
    "scrolled": false
   },
   "outputs": [
    {
     "data": {
      "text/plain": [
       "{'nPages': 1,\n",
       " 'pageInfo': {'0': {'url': '/la-nacion.fyre.co/356483/MTY5MjY5NQ==/0.json',\n",
       "   'last': 1606271934,\n",
       "   'first': 1606270635}},\n",
       " 'pathBase': '/la-nacion.fyre.co/356483/MTY5MjY5NQ==/'}"
      ]
     },
     "execution_count": 190,
     "metadata": {},
     "output_type": "execute_result"
    }
   ],
   "source": [
    "data['collectionSettings']['archiveInfo']"
   ]
  },
  {
   "cell_type": "code",
   "execution_count": 197,
   "metadata": {},
   "outputs": [],
   "source": [
    "import base64\n",
    "token=base64.b64encode(bytes(sopa.find('div',{'id' : 'tokenLF'}).get('data-entrada'), 'utf-8')).decode('ascii')\n",
    "com=r.get('https://data.livefyre.com/bs3/v3.1/la-nacion.fyre.co/356483/'+token+'/init')\n",
    "data=com.json()\n",
    "np=data['collectionSettings']['archiveInfo']['nPages']\n",
    "coms=[]\n",
    "for n in range(0,np):\n",
    "    com=r.get('https://data.livefyre.com/bs3/v3.1/la-nacion.fyre.co/356483/'+token+'/'+str(n)+'.json')\n",
    "    coms.extend(com.json()['content'][:])\n",
    "    time.sleep(0.2)\n",
    "    "
   ]
  },
  {
   "cell_type": "code",
   "execution_count": 206,
   "metadata": {},
   "outputs": [
    {
     "name": "stdout",
     "output_type": "stream",
     "text": [
      "Que lástima que nadie le advirtió lo que es el norte feudal, dos de sus compatriotas también fueron asesinadas y abusadas en salta...entre tantos otros casos que nunca se esclarecen\n",
      "@bohe7653 El caso de las dos chicas francesas se esclareció y hubo condena.\n",
      "¿13 años por una vida arrebatada?\n"
     ]
    }
   ],
   "source": [
    "for j,x in enumerate(coms):\n",
    "    try:\n",
    "        print(bs(x['content']['bodyHtml']).get_text().strip())\n",
    "    except:\n",
    "        print(j)"
   ]
  }
 ],
 "metadata": {
  "kernelspec": {
   "display_name": "Python 3",
   "language": "python",
   "name": "python3"
  },
  "language_info": {
   "codemirror_mode": {
    "name": "ipython",
    "version": 3
   },
   "file_extension": ".py",
   "mimetype": "text/x-python",
   "name": "python",
   "nbconvert_exporter": "python",
   "pygments_lexer": "ipython3",
   "version": "3.7.4"
  }
 },
 "nbformat": 4,
 "nbformat_minor": 4
}
