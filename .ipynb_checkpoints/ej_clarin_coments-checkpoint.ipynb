{
 "cells": [
  {
   "cell_type": "code",
   "execution_count": 5,
   "metadata": {},
   "outputs": [],
   "source": [
    "import requests as r\n",
    "from bs4 import BeautifulSoup as bs\n",
    "import urllib\n",
    "import json\n",
    "import time\n",
    "import unicodedata\n",
    "from math import ceil\n",
    "\n",
    "def dict_extract(key, var):\n",
    "    if hasattr(var,'items'):\n",
    "        for k, v in var.items():\n",
    "            if k == key:\n",
    "                yield v\n",
    "            if isinstance(v, dict):\n",
    "                for result in dict_extract(key, v):\n",
    "                    yield unicodedata.normalize('NFKC',bs(result).text).strip()\n",
    "            elif isinstance(v, list):\n",
    "                for d in v:\n",
    "                    for result in dict_extract(key, d):\n",
    "                        yield unicodedata.normalize('NFKC',bs(result).text).strip()\n",
    "class clarin():\n",
    "    def __init__(self):\n",
    "        self.url='https://www.clarin.com'\n",
    "    \n",
    "    \n",
    "    urlc='https://login.clarin.com/comments.getComments'\n",
    "    urlcp='https://login.clarin.com/comments.getComments?categoryID=Com_03&streamID=H1Y2WMTS-&includeSettings=true&threaded=true&includeStreamInfo=true&includeUserOptions=true&includeUserHighlighting=true&lang=es&ctag=comments_v2&APIKey=2_fq_ZOJSR4xNZtv2rA8DALl1Gxp7yTYMb3UdER6zerupB55mwkzh9pVBz4Blzi8SW&source=showCommentsUI&sourceData=%7B%22categoryID%22%3A%22Com_03%22%2C%22streamID%22%3A%22H1Y2WMTS-%22%7D&sdk=js_latest&authMode=cookie&pageURL=https%3A%2F%2Fwww.clarin.com%2Fpolitica%2Facuerdo-cambiemos-massismo-echar-vido-camara-diputados_0_H1Y2WMTS-.html&format=jsonp&callback=gigya.callback&context=R4169081209'\n",
    "    urlp=urllib.parse.urlparse(urlcp)\n",
    "    keys=urllib.parse.parse_qs(urlp.query)\n",
    " \n",
    "    \n",
    "    def get(self,url):\n",
    "        self.url=url\n",
    "        nota=r.get(url)\n",
    "        sopa=bs(nota.content,features=\"lxml\")\n",
    "        ps=sopa.find('div','body-nota').findAll('p')\n",
    "        st=sopa.find('div','body-nota').findAll('strong')\n",
    "        self.volanta=sopa.find('p','volanta').text\n",
    "        self.titulo=sopa.find('h1').text\n",
    "        self.bajada=sopa.find('div','bajada').find('h2').text\n",
    "        texto=list()\n",
    "        for p in ps:\n",
    "            if p.text == \"COMENTARIOS\":\n",
    "                break\n",
    "            texto.append(p.text)\n",
    "        bolds=list()    \n",
    "        for b in st:\n",
    "            bolds.append(b.text)            \n",
    "        self.cuerpo=' '.join(texto)\n",
    "        self.bold=' '.join(bolds)\n",
    "        self.bolds=bolds \n",
    "        self.get_comments()\n",
    "        \n",
    "    def get_comments(self):\n",
    "        url=self.url\n",
    "        url0='https://login.clarin.com/comments.getStreamInfo'\n",
    "        keys_0={'categoryID': ['Com_03'],\n",
    "         'APIKey': ['2_fq_ZOJSR4xNZtv2rA8DALl1Gxp7yTYMb3UdER6zerupB55mwkzh9pVBz4Blzi8SW'],\n",
    "         'sdk': ['js_latest'],\n",
    "         'authMode': ['cookie'],\n",
    "         'format': ['jsonp'],\n",
    "         'callback': ['gigya.callback']}\n",
    "\n",
    "        keys_0['streamID']=url[-14:-5]\n",
    "        #keys_0['pageURL']=url\n",
    "\n",
    "        cm0=r.get(url0,params=keys_0)\n",
    "        info = json.loads(cm0.text[15:-2])\n",
    "        N=info['streamInfo']['threadCount']\n",
    "        urlcm='https://login.clarin.com/comments.getComments'\n",
    "        keys = {'categoryID': ['Com_03'],\n",
    "         'includeSettings': ['true'],\n",
    "         'threaded': ['true'],\n",
    "         'includeStreamInfo': ['true'],\n",
    "         'includeUserOptions': ['true'],\n",
    "         'includeUserHighlighting': ['true'],\n",
    "         'lang': ['es'],\n",
    "         'ctag': ['comments_v2'],\n",
    "         'APIKey': ['2_fq_ZOJSR4xNZtv2rA8DALl1Gxp7yTYMb3UdER6zerupB55mwkzh9pVBz4Blzi8SW'],\n",
    "         'source': ['showCommentsUI'],\n",
    "         'sdk': ['js_latest'],\n",
    "         'authMode': ['cookie'],\n",
    "         'format': ['jsonp'],\n",
    "         'callback': ['gigya.callback']}\n",
    "\n",
    "        keys['streamID']=url[-14:-5]\n",
    "        coms=[]\n",
    "        for x in range(ceil(N/10)):    \n",
    "            req = json.loads(r.get(urlcm,params=keys).text[15:-2])\n",
    "\n",
    "            #hay replies dentro de replies, busco recursivamente comentarios\n",
    "            coms.extend(list(dict_extract('commentText', req)))\n",
    "\n",
    "            #coms.extend([unicodedata.normalize('NFKC',bs(x['commentText']).text) for x in req['comments']])\n",
    "            #for k in req['comments']:\n",
    "            #    try: \n",
    "            #        coms.extend([unicodedata.normalize('NFKC',bs(rep['commentText']).text) for rep in k['replies']])\n",
    "            #    except:\n",
    "            #        pass\n",
    "\n",
    "            req['comments'][-1]['timestamp']\n",
    "            keys['start']='ts_'+str(req['comments'][-1]['timestamp'])\n",
    "        self.coms=coms\n",
    "\n",
    "def unq(url):\n",
    "    urlp=urllib.parse.urlparse(url)\n",
    "    keys=urllib.parse.parse_qs(urlp.query)\n",
    "    return(keys)\n",
    "    "
   ]
  },
  {
   "cell_type": "code",
   "execution_count": 6,
   "metadata": {},
   "outputs": [],
   "source": [
    "nota9=clarin()\n",
    "nota9.get('https://www.clarin.com/opinion/gobierno-cumple-ano-festejar_0_sFi-X87pB.html')"
   ]
  },
  {
   "cell_type": "code",
   "execution_count": 294,
   "metadata": {},
   "outputs": [],
   "source": [
    "nota9.get_comments()"
   ]
  },
  {
   "cell_type": "code",
   "execution_count": 7,
   "metadata": {},
   "outputs": [
    {
     "data": {
      "text/plain": [
       "['El gobierno cumple un ano con mucho por lo cual llorar!!!',\n",
       " 'Consiguieron grandes logros, liberar a todos sus secuaces!!! DELINCUENTES!!!',\n",
       " 'Que nota de mala leche!!!Me pueden decir que gobierno de TODO el mundo tiene algo que festejar este año???Clarin cada vez menos creíble!!',\n",
       " 'ACÁ TENEMOS ALGO QUE FESTEJAR CADA VEZ FALTA MENOS PARA QUE SE VAYAN',\n",
       " 'cuanto troll del mamerto y la borracha!!!!',\n",
       " 'Creoque la yarara de recoleta es korrupta, ladrona. perversa , pero no borracha. No la calumnie.-',\n",
       " 'El gran problema argentino es que entre los peores de todos los tiempos (Alberto-----Cristina) estamos nosotros en el Titanic y el iceberg ya impactó.',\n",
       " 'Fernandez Renuncia,necesitamos claridad para ver con que nos enfrentamos,salite y deja de embarrar la cancha....en las próximas elecciones son porota Vs Nosotros',\n",
       " 'Fernandez ya tenes la jubileta,inutil! mas los dolares que pago la porota para que le hagas de testaferro del poder....llego tu hora game over, renuncia!!!!! asi enfrentamos a lo que debemos enfrentar',\n",
       " 'Un año con la heladera vacía...y desenchufada por el cobro de la luz.. Volvieron para ser mejores...¡¡¡No me caben dudas...... son los mejores incapaces que recordara el pueblo argentino!!!!',\n",
       " 'al menos siempre van a ser menos peores que macri y su banda de delincuentes financieros',\n",
       " 'Pobre infeliz, no tenes cura, sos complice de este regimen perverso y asesino.-Son nazi-stalinistas.-Ya iran por vos , pero sera tarde.-',\n",
       " 'Por una nueva revolucion francesa donde estos perversos y toda su lacra sean colgados de los alboles. Es la unica solucion para salir del regimen fascista- nazi- stalinista llamado kirchnerismo.-',\n",
       " 'Salvo los inhaladores de aromas de la entrepierna de su jefa, que ominbula y deja id.iotas a todos,quién podía pensar que un 4 de copas cómo el \" presidente \" que tenemos podía hacer algo diferente.-Ni siquiera comisionado de fomento de algún pueblito escondido pudo ser, menos intendente ogobernador, sería imposible que pudiera tener algo de sabiduría.- Sólo fue un limpia parabrisas que se movía de un lado a otro buscando alguna migaja.- Hasta candidato con Cavallo fué.- Es un pobretipo, solamente sirve cómo profilactico, nada más.-',\n",
       " 'Como que no tienen que festejar el Chirolita y la Ladrona junto con los ineptos corruptos que lo acompaan junto con los medicuchos de cuarta,destruyeron el paiz, 4 millones de desocupados, 200 mil Pimes cerraron  los jubklados se garcan de hambre ni para los renedios les alcanza  las Fmprezas sd van dem pais y las que se queda  estan fundidas nk los sueldis pueden pagar, no hay un dñlar, el FMI kes dicf que hacrr ,qmillon y medio de enfermos y van asta ahora 40mil muertos como no van a festejar si zolo ñes importo j o d e r ala justicia para salvarla a la vhorra y a los corruptos ladrones como no va  a festejar si el Chirolita esta siempre de fodollas y miente tofos los dias',\n",
       " 'un año del PEOR GOBIERNO DE LA HISTORIA ARGENTINA, el gobierno del títere y kre-tina',\n",
       " 'Entre la mala (YeguaChorraKrisBabá-H-D-P) y el inútil (chirolita, felpudo, lacayo PE-LO-TU-DO) es preferible la mala, porque sabés lo que va a hacer, en cambio el inútil puede hacer cualquier cosa',\n",
       " '¿Cómo es posible suponer que Alberto Fernández iba a tener algo de independencia en sus decisiones? Claramente, la estrategia de la Kirchner de ponerlo como candidato fue una jugada de ajedrez. El discurso político de ir con todo contra Macri y hablar de la \"moderación\" del candidato y de \"la nueva Cristina\" -palabras de AF- entró en la consideración de muchos ciudadanos ingenuos que creyeron que los  que destruyeron al país, lo iban a arreglar y \"ponerlo de pie\".Vemos a diario que el presidente solo lo es la formalidad, el verdadero poder no está en Olivos ni en la Rosada, está en el instituto (anti) patria y ya sabemos quién lo tiene.',\n",
       " 'Pttsss...!!! Abascal.. el fascismo peronista no festeja resultados...los inventa...!Quèdese tranquilo mi amigo, pronto nos inundaràn de datos para que llenemos la plaza de mayo con bombos , choris y la infaltable cajita (de tinto)...........',\n",
       " '75 años de balcones y ninguna flor......!!!  le suena...?',\n",
       " 'lea el poema y allì estamos nosotros....\"a sus habitantes señor que les pasa\"',\n",
       " 'La Jefa de la Banda cumple un año más sin recibir condena y el Títere un año de Felpudo!!',\n",
       " 'Alberto lo unico que CUMPLIO es un año',\n",
       " 'Como nada que festejar , es uno de los PAYASOS más grandes de este mundo !',\n",
       " 'En 48 horas los kumpas cómplices de Bergoglio,lo empomarán con el aborto.Otro acierto de la Doctrina Social de la Iglesia,la Comunidad Organizada y los Curas Villeros de los Pobres...Bién Bergoglio.la tenés reclara!',\n",
       " 'Como que no hay nada para festejar?Y todos los delincuentes que salieron de las cárceles no festejan?',\n",
       " 'Se ha formado una pareja....¡de degenerados!Cuesta creer quién ha sido el inventor de este desacierto.El que nos aconsejaba “cuidar a Cristina”.Ahora,¿nos aconsejará “cuidar a la conch@ de su madre”?',\n",
       " 'Alberto, si te portas bien en estos días que faltan para el 10, en una de esas logras completar un año. Un consejo: mutis por el foro sería recomendable.',\n",
       " 'MUCHO POR FESTEJAR TODOS LOS CORRUPTOS LIBRES EN SUS CASITAS Y VALLA A SBER DONDE SE FUGAN PORQUE NO SON SANTOS .ADEMÁS LA Sra. sigue su camino a la libertad absoluta de sus actos de corrupción sus hijos millonarios y nosotros con las HELADERAS REPLETA DE AIRE YCON PRECIOS CUIDADOS, CON JUBILACIONES MAS BAJAS Y PLANES VOTANTES MAS ALTOS ....GRACIAS DADY HEBE CARLoTTO Y LUCIFER BERGOGLIO........montoneros nos lleva a la POBREZA TOTAL',\n",
       " \"Deben enterarse los peronistas de la K'gadas que cometen cuando votan.\",\n",
       " 'Como dijo un periodista de clorin que ya no está entre nosotros  : periodismo de guerra , periodismo opositor acerrimo   ,   carroñero  con aprovechamiento politico de una pandemia que azotó al mundo , carroñero porque sabe que este gobierno tuvo que lidiar con la criminal deuda externa dejada por el inutil',\n",
       " 'Mentira, la peor deuda nos la dejo el peronismo, que durante décadas desvío miles de millones de dólares, hoy sus principales dirigentes son todos millonarios, a ellos les debemos la pobreza endémica que sufrimos los argentinos, háganse cargo, son los principales responsables por la situación en que nos encontramos.',\n",
       " 'Otro heredero del ADOCTRINAMIENTO PERONISTA copiado por Perón a Hittler y Musolini. que hoy lo usa Kristina en su gobierno',\n",
       " 'zombie de clorin detected',\n",
       " 'Y LA DE DE LA DECADA GANADA TAMBIEN  LEE HISTORIA PRIMERO SE NEGOCIO LA DEUDA DE LA corrupta cristina elisabet fernández, sacate la venda de los ojos y los pajaritos de la cabeza es lo mas suave que se me ocurre',\n",
       " 'Que solito te veo aca Fran..!',\n",
       " 'Atento TROLL, el artículo es categórico, realidad en estado puro, innegable y contundente listado de hechos concretos. No entiendo como no te da verguenza tu laburo. No es necesario prostituirte, buscate otro trabajo que te mantenga mas integro y te permita respetarte a vos mismo.',\n",
       " 'Detras de una vice corrupta, solo pueden encolumnarse politicos mediocres con el solo afan de un sueldo y una jubilacion privilegiada.Hasta que la casta politica y la sindical no sean descabezadas estamos condenados a la pobreza e ignorancia.',\n",
       " 'El mayor y peor síntoma del mamarracho fascista en que convirtieron a Argentina está en la Educación. La suspensión del año escolar y el desinterés por el aprendizaje son, a su vez, presagios de futuras decadencias, por más que en ese entonces quieran culpar de futuras crisis a actores momentáneos y falaces, como un gobierno anterior, \"oligarcas\", y demás pavadas. La clave de la decadencia argentina es la pérdida de la calidad educativa y de los valores de convivencia, que se terminan traduciendo en pobreza y en ignorantes que votan una y otra vez a los mismos delincuentes que les roban el futuro.',\n",
       " 'Fracasaron en todo. Hagan al menos una cosa coherente. Den un paso al costado y renuncien. El país se los agradecerá',\n",
       " 'Va uno esperen que vendrán más !!!']"
      ]
     },
     "execution_count": 7,
     "metadata": {},
     "output_type": "execute_result"
    }
   ],
   "source": [
    "nota9.coms"
   ]
  },
  {
   "cell_type": "code",
   "execution_count": null,
   "metadata": {},
   "outputs": [],
   "source": []
  },
  {
   "cell_type": "code",
   "execution_count": null,
   "metadata": {},
   "outputs": [],
   "source": []
  },
  {
   "cell_type": "code",
   "execution_count": null,
   "metadata": {},
   "outputs": [],
   "source": []
  },
  {
   "cell_type": "code",
   "execution_count": 284,
   "metadata": {
    "scrolled": true
   },
   "outputs": [],
   "source": [
    "def get_comments(url):\n",
    "    url0='https://login.clarin.com/comments.getStreamInfo'\n",
    "    keys_0={'categoryID': ['Com_03'],\n",
    "     'APIKey': ['2_fq_ZOJSR4xNZtv2rA8DALl1Gxp7yTYMb3UdER6zerupB55mwkzh9pVBz4Blzi8SW'],\n",
    "     'sdk': ['js_latest'],\n",
    "     'authMode': ['cookie'],\n",
    "     'format': ['jsonp'],\n",
    "     'callback': ['gigya.callback']}\n",
    "\n",
    "    keys_0['streamID']=url[-14:-5]\n",
    "    #keys_0['pageURL']=url\n",
    "\n",
    "    cm0=r.get(url0,params=keys_0)\n",
    "    info = json.loads(cm0.text[15:-2])\n",
    "    N=info['streamInfo']['threadCount']\n",
    "\n",
    "    keys = {'categoryID': ['Com_03'],\n",
    "     'includeSettings': ['true'],\n",
    "     'threaded': ['true'],\n",
    "     'includeStreamInfo': ['true'],\n",
    "     'includeUserOptions': ['true'],\n",
    "     'includeUserHighlighting': ['true'],\n",
    "     'lang': ['es'],\n",
    "     'ctag': ['comments_v2'],\n",
    "     'APIKey': ['2_fq_ZOJSR4xNZtv2rA8DALl1Gxp7yTYMb3UdER6zerupB55mwkzh9pVBz4Blzi8SW'],\n",
    "     'source': ['showCommentsUI'],\n",
    "     'sdk': ['js_latest'],\n",
    "     'authMode': ['cookie'],\n",
    "     'format': ['jsonp'],\n",
    "     'callback': ['gigya.callback']}\n",
    "\n",
    "    keys['streamID']=url[-14:-5]\n",
    "    coms=[]\n",
    "    for x in range(ceil(N/10)):    \n",
    "        req = json.loads(r.get(urlcm,params=keys).text[15:-2])\n",
    "\n",
    "        #hay replies dentro de replies, busco recursivamente comentarios\n",
    "        coms.extend(list(dict_extract('commentText', req)))\n",
    "\n",
    "        #coms.extend([unicodedata.normalize('NFKC',bs(x['commentText']).text) for x in req['comments']])\n",
    "        #for k in req['comments']:\n",
    "        #    try: \n",
    "        #        coms.extend([unicodedata.normalize('NFKC',bs(rep['commentText']).text) for rep in k['replies']])\n",
    "        #    except:\n",
    "        #        pass\n",
    "\n",
    "        req['comments'][-1]['timestamp']\n",
    "        keys['start']='ts_'+str(req['comments'][-1]['timestamp'])\n",
    "    return(coms)"
   ]
  },
  {
   "cell_type": "code",
   "execution_count": 283,
   "metadata": {},
   "outputs": [
    {
     "data": {
      "text/plain": [
       "{'streamInfo': {'streamID': '1ttDXKDXe',\n",
       "  'status': 'enabled',\n",
       "  'categoryID': 'Com_03',\n",
       "  'commentCount': 0,\n",
       "  'approvedCommentCount': 0,\n",
       "  'threadCount': 0,\n",
       "  'ratingCount': 0,\n",
       "  'rssURL': 'http://comments.us1.gigya.com/comments/rss/6168921/Com_03/1ttDXKDXe',\n",
       "  'isUserSubscribed': False,\n",
       "  'moderationMode': 'inherit',\n",
       "  'moderationModes': {'text': 'inherit',\n",
       "   'image': 'inherit',\n",
       "   'video': 'inherit',\n",
       "   'url': 'inherit',\n",
       "   'other': 'inherit'}},\n",
       " 'statusCode': 200,\n",
       " 'errorCode': 0,\n",
       " 'statusReason': 'OK',\n",
       " 'callId': '916b7ecd5aec4c7a97e860cc4b78bb5c',\n",
       " 'time': '2020-12-08T12:58:21.321Z'}"
      ]
     },
     "execution_count": 283,
     "metadata": {},
     "output_type": "execute_result"
    }
   ],
   "source": [
    "info"
   ]
  },
  {
   "cell_type": "code",
   "execution_count": 281,
   "metadata": {},
   "outputs": [
    {
     "data": {
      "text/plain": [
       "0"
      ]
     },
     "execution_count": 281,
     "metadata": {},
     "output_type": "execute_result"
    }
   ],
   "source": [
    "len(coms)"
   ]
  },
  {
   "cell_type": "code",
   "execution_count": 278,
   "metadata": {},
   "outputs": [
    {
     "data": {
      "text/plain": [
       "['Macri es mufa!!',\n",
       " 'Los años bisiestos generalmente son muy tumultuosos...',\n",
       " 'El \"como fue para vos el 2016\" no deja encuestar ni ver resultados, te dirige a una foto de un planeta, no hagan kirnereadas donde todo es falso.',\n",
       " 'ARGENTINA ES LA EXCEPCION, con tantos años de peronismo y kirchnrismo nos acostumbraron a las desgracias rutinarias, este fue de gracia para nostoros a pesar que el peronchismo hizo lo posible para interrumpir, aobstaculizar, inhabilitas, enturbiecer, etc tuvimos un año de gracia, brindo por 100 sin peronistas',\n",
       " 'Bueno, parece que te olvidás de un sr. que presidía el país allá por el 2001, por diciembre, te acordás? Mucha gente no lo va a olvidar nunca. Ah, no era peroncho, no, estoy seguro que no lo era.',\n",
       " 'uno....un señor....y todos los otros señores? de donde salieron?',\n",
       " 'Para mi el mejor año. Un año sin KAKAS en el poder. Más no puedo pedír',\n",
       " 'han pasado cosas peores en otros años, desgracias siempre las hay. dejen de ser tan pesimistas.',\n",
       " 'fue desgradable...en verdad....pero hay que tener que todo sera mejor...',\n",
       " 'No soy moderado ni admito moderación.',\n",
       " '2016 año bisiesto, dicen que es de mala suerte.',\n",
       " 'Los supersticiosos tienen un dejo de paranoia.',\n",
       " 'dame las drogas maria',\n",
       " 'Dejen de decir pel0tudeces, un año sin los k en el gobierno es lo mejor que podia pasar.',\n",
       " 'Corten la mala onda. Siempre dicen que el año actual es el peor. Seguro vamos a ver esta noticia en el 2017.',\n",
       " 'El Juez Federal Canicoba Corral calificó al atentado contra la AMIA como un crimen de Lesa Humanidad tipificado de Genocidio.Tal como ha ocurrido con los militares, los denunciados deben ser encarcelados de inmediato en unidades de Máxima Seguridad hasta que la condena quede firme, como a ellos, tal cual era la política de Estado del kirchnerismo auspiciada por el Cels, los organismos de derechos humanos y Lorenzetti. El encubrimiento de un crimen de Lesa Humanidad es un delito de Lesa Humanidad que no puede quedar impune y los responsables de encubrirlo deben pagar por eso con cárcel de cumplimiento efectivo, como los militares. Es un delito imprescriptible y el Estado Argentino se comprometió ante la comunidad internacional a Investigar y Castigar a los culpablesAl fin del juicio, tal como siempre ocurrió con los militares: PERPETUALos denunciados son encubridores de asesinos y también son genocidas. Ni olvido ni Perdón.',\n",
       " 'Que nota mas pel o tuda',\n",
       " 'No todas las notas pueden ser sobre política o economía, hay gente que quiere leer otras cosas o distraerse.',\n",
       " 'la verdad un año para el olvido DIOS quiera derramar bendiciones para este hermoso país, a pesar de quienes nos gobiernan.',\n",
       " 'zeus estara contigo y te bendecira.',\n",
       " 'Ilúvatar llevará a este país por el mar hacia las Costas Blancas.',\n",
       " 'todo bien con la q escribio la nota, pero a la hora de nombrar celebridades que murieron...  podria haber puesto alguno mas emblematico ,como bowie, ali,bowie etc... Boutros Boutros-Ghali? si un no googlea, ni idea de quien es....',\n",
       " 'Fue secretario general de la ONU',\n",
       " 'No sabe quien fue Boutros-Ghali... me imagino que Perez de Cuellar o peor aun U-Thant..POR DIOS QUE VIEJO SOY!!!!!',\n",
       " 'Yo sí sé quienes son todos ellos sin necesidad de googlear.',\n",
       " 'Aún hay maas !!!',\n",
       " 'ES TAN SORPRENDENTE ESTE AÑO CON NOTICIAS MUY FUERTES Y NOTICIAS MUY CURIOSAS Y SORPRENDENTES QUE ME ANIMO A DECIR QUE EN EL ULTIMO DÍA DEL AÑO LUCILA NOS SORPRENDERÁ CON UN 31 GRATIS LLENO DE O RGÍA Y S EXO A NAL Y B UCAL.',\n",
       " '. . .y guarda ! a la fecha de hoy, todavía no se fué !',\n",
       " 'Este comentario ha sido eliminado',\n",
       " 'Hola, los besos de lengua vienen antes o después del bu.cal sin globito?',\n",
       " 'Si si, hasta Lucy larata comenzo a hacer publicidad pedorra y gratuita en todas las secciones sin importarle la raza, edad ni religion de los lectores. Solo se importa ella, o el nabo que la publica y este diario pedorro que no tiene la capacidad para bloquear sus avisos y los lectores que no denuncian uno y cada uno de sus avisos!!',\n",
       " 'y aun sera peor',\n",
       " 'Que otro dato le pasaron a nostradamus?',\n",
       " 'Nota digna de tabloide...',\n",
       " 'Mi palabra \"bisiesto\" en mi vida siempre han sido años terribles.',\n",
       " 'Y los otros como fueron, horribles?',\n",
       " 'Para mi fue un año de regreso a la normalidad de las cosas... Lo que pasa es que todos vivimos en un mundo pequeño.',\n",
       " 'Agradezcan haber tenido un año tan \"bueno\"; no saben lo malo que será el que viene !!!',\n",
       " 'El hecho que no lo tengamos al Felpudo en el sillón lo convierte en un gran año.Buenísimo el 2016.',\n",
       " 'Vivimos en una distopia. Osea, un mundo de merde.',\n",
       " 'Eso no es distopia.Distopia es cuando una sociedad tiene un grave fallo pero la gente no se da cuenta o hace como que no se da cuenta y la ignora o la asimila como la normalidad de las cosas.',\n",
       " 'Nada de eso. Dice la RAE: Representación ficticia de una sociedad futura de características negativas causantes de la alienación humana.O sea, en términos más simples: utopía es el pronóstico de un futuro mejor; distopía, el de un futuro peor.',\n",
       " 'No veo en qué la definición de la RAE contradiga (\"nada de eso\") la definición que enuncié yo.',\n",
       " 'Las encuestas? Siempre que haya libertad de conciencia se puede decir una cosa y hacer otra...',\n",
       " 'Huuufffff que año de merde']"
      ]
     },
     "execution_count": 278,
     "metadata": {},
     "output_type": "execute_result"
    }
   ],
   "source": [
    "coms"
   ]
  },
  {
   "cell_type": "code",
   "execution_count": 269,
   "metadata": {},
   "outputs": [],
   "source": []
  },
  {
   "cell_type": "code",
   "execution_count": null,
   "metadata": {},
   "outputs": [],
   "source": []
  },
  {
   "cell_type": "code",
   "execution_count": null,
   "metadata": {},
   "outputs": [],
   "source": []
  },
  {
   "cell_type": "code",
   "execution_count": null,
   "metadata": {},
   "outputs": [],
   "source": []
  },
  {
   "cell_type": "code",
   "execution_count": null,
   "metadata": {},
   "outputs": [],
   "source": []
  }
 ],
 "metadata": {
  "kernelspec": {
   "display_name": "Python 3",
   "language": "python",
   "name": "python3"
  },
  "language_info": {
   "codemirror_mode": {
    "name": "ipython",
    "version": 3
   },
   "file_extension": ".py",
   "mimetype": "text/x-python",
   "name": "python",
   "nbconvert_exporter": "python",
   "pygments_lexer": "ipython3",
   "version": "3.7.4"
  }
 },
 "nbformat": 4,
 "nbformat_minor": 4
}
