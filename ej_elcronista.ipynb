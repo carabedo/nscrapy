{
 "cells": [
  {
   "cell_type": "code",
   "execution_count": 2,
   "metadata": {},
   "outputs": [],
   "source": [
    "import requests as r \n",
    "from bs4 import BeautifulSoup as bs\n",
    "import urllib\n",
    "import json\n",
    "import unicodedata"
   ]
  },
  {
   "cell_type": "code",
   "execution_count": 3,
   "metadata": {},
   "outputs": [],
   "source": [
    "#bajo el html\n",
    "url='https://www.cronista.com/'\n",
    "req=r.get(url)"
   ]
  },
  {
   "cell_type": "code",
   "execution_count": 4,
   "metadata": {},
   "outputs": [],
   "source": [
    "#lo parseo\n",
    "sopa=bs(req.content,features=\"lxml\")"
   ]
  },
  {
   "cell_type": "code",
   "execution_count": 5,
   "metadata": {},
   "outputs": [],
   "source": [
    "# luego de mirar el codigo fuente veo que los titulos estan en los tags 'h2'\n",
    "# me traigo solo los que tienen como atributo 'itemprop':\"headline\"\n",
    "titulos=sopa.find_all('h2',{'itemprop':\"headline\"})"
   ]
  },
  {
   "cell_type": "code",
   "execution_count": 6,
   "metadata": {},
   "outputs": [
    {
     "name": "stdout",
     "output_type": "stream",
     "text": [
      "Manos amigas: el motivo detrás del fuerte desplome del dólar blue\n",
      "El blue cayó a $ 189 pero el contado con liquidación trepa otro 1,7%\n",
      "Por temores a una devaluación, el bono dólar linked ya ofrece un rendimiento negativo\n",
      "Se hunde la inversión en el país: quiénes pierden y cuáles son las consecuencias \"letales\"\n",
      "\"Con un tipo de cambio unificado muchos querrían entrar a invertir e imagino se derrumbaría el CCL\"\n",
      "Cómo abrir una cuenta en España sin pasaporte europeo: el truco argentino que es viral\n",
      "Ledesma le vendió a Cargill su 30% en Glucovil a cambio de u$s 34,5 millones\n",
      "El MercadoLibre del gobierno va por todo: sumó un \"peso pesado\" y ya son 6700 fabricantes\n",
      "El plan de las medialunas más conocidas de la Costa para conquistar el AMBA\n",
      "La nueva pick-up Renault Alaskan ya se fabrica en el país y preparan la preventa\n",
      "El Gobierno les aumentó el sueldo a los militares y las fuerzas de seguridad\n",
      "Cómo son los bonos en dólares con los que el Gobierno apuesta a frenar la presión cambiaria\n",
      "Increíble: estas son las horas de trabajo por día que aumentan la productividad\n",
      "Venezuela desarrolló \"una medicina que anula al 100% el coronavirus\", dice Maduro\n",
      "Guzmán se juega a bajar la presión cambiaria con bonos atados al precio del dólar\n",
      "CEO de Remax: \"Si no fuésemos empresarios locales, la marca se habría ido del país\"\n",
      "Con el dólar por las nubes, ya escasean bienes y se alimenta la expectativa de la devaluación\n",
      "Cabify Empresas: hacia una movilidad sustentable\n",
      "La otra cara del cepo: cómo afecta al emprendedor y a su vidriera digital\n",
      "Leé El Cronista sin salir de tu casa\n",
      "Elecciones en EE.UU. y los drivers de fin de año\n",
      "Riesgoso: el Gobierno entra en una etapa de 'Madurez'\n",
      "Un ministro al mando, FMI, señales fiscales: el manual anticrisis no cambia\n",
      "El dólar y la imagen del Presidente reflejan el Nodio de la realidad\n",
      "El análisis técnico de la Bolsa local muestra una luz en el horizonte\n",
      "La otra grieta: petroleras y fabricantes de biocombustibles en pie de guerra\n",
      "Ganancias, Bienes Personales y Blanqueo: punto por punto, qué dicen los proyectos\n",
      "Alberto Fernández: \"Devaluar es fácil, pero es una máquina de generar pobreza\"\n",
      "Cuánto cayó la imagen presidencial según una encuesta de la UdeSA\n",
      "La nueva TV \"enrollable\" de LG cuesta más que un depto en Recoleta: qué lujos trae\n",
      "Estas son las tres letras que usan en Argentina para ganar con el \"dólar digital\": como se usan\n",
      "Presupuesto 2021: el oficialismo apunta a darle media sanción este miércoles\n",
      "Hackearon a 5 millones de jugadores del Among Us: qué tiene que ver Donald Trump\n",
      "Vilas revela cómo la ATP le 'robó' el número 1 en un documental de Netflix\n",
      "Bolivia: Arce quiere industrializar y exportar la producción de hoja de coca\n",
      "Coronavirus: por qué la transmisión a través de objetos es poco probable\n",
      "Quién fue Dolores Cacuango, la activista que Google homenajea hoy con su doodle\n",
      "Día de los Cafés porteños: una biblioteca itinerante y café de regalo en la vereda\n",
      "Cuál es la estrategia de la Ciudad para evitar una segunda ola de Covid-19\n",
      "Pandemia: le dan $ 527,43 millones a las obras sociales para compensar baja de ingresos\n",
      "Qué distritos siguen en cuarentena y qué implica hoy el ASPO\n",
      "Se promulgó la ley de Economía del Conocimiento: las claves de los cambios de beneficios fiscales\n",
      "Coronavirus: el grupo más vulnerable renueva esperanzas con la vacuna de Oxford\n",
      "Advierten por el deterioro de la situación fiscal\n",
      "Chile: amplio triunfo del 'Apruebo' para cambiar la Constitución de Pinochet\n",
      "Rodríguez Larreta anunció cómo sigue el cronograma de aperturas en la Ciudad\n",
      "Debate entre Trump y Biden: se tiraron con todo y desnudaron sus principales diferencias\n",
      "Dolina: \"Regalo todas las cervezas de mi vida con tal de que no muera nadie\"\n",
      "Allanamientos en cuevas para frenar la venta de dólar blue\n",
      "El insólito error de Axel Kicillof al referirse a los \"Barones\" del conurbano\n",
      "Macri: \"El peronismo es el partido de los que no trabajan\"\n"
     ]
    }
   ],
   "source": [
    "# printeo lo que encontre\n",
    "\n",
    "for x in titulos:\n",
    "    print(x.text.strip())"
   ]
  },
  {
   "cell_type": "code",
   "execution_count": 21,
   "metadata": {},
   "outputs": [
    {
     "data": {
      "text/plain": [
       "'https://www.cronista.com/finanzasmercados/El-dolar-blue-se-desploma-gracias-a-manos-amigas-20201026-0035.html'"
      ]
     },
     "execution_count": 21,
     "metadata": {},
     "output_type": "execute_result"
    }
   ],
   "source": [
    "# mirando la pagina son todos menos los que aparecen en las 'boxs' cuando empiezo a scrollear\n",
    "# me quedo solo con el primero de estos\n",
    "uri=url[:-1]+titulos[0].find('a').get('href')\n",
    "uri"
   ]
  },
  {
   "cell_type": "code",
   "execution_count": 23,
   "metadata": {},
   "outputs": [],
   "source": [
    "# bajo y parseo\n",
    "\n",
    "nota=r.get(uri)\n",
    "sopa=bs(nota.content,features=\"lxml\")"
   ]
  },
  {
   "cell_type": "code",
   "execution_count": 65,
   "metadata": {},
   "outputs": [
    {
     "data": {
      "text/plain": [
       "'El dólar blue se desploma gracias a \"manos amigas\"'"
      ]
     },
     "execution_count": 65,
     "metadata": {},
     "output_type": "execute_result"
    }
   ],
   "source": [
    "# tag del titulo 'h1'\n",
    "\n",
    "titulo=sopa.find('h1').get_text(strip=True)\n",
    "titulo"
   ]
  },
  {
   "cell_type": "code",
   "execution_count": 64,
   "metadata": {},
   "outputs": [
    {
     "data": {
      "text/plain": [
       "'Cinco ventas en bloques de u$s 200.000 cada una llevaron al parelelo a bajar a $ 187.'"
      ]
     },
     "execution_count": 64,
     "metadata": {},
     "output_type": "execute_result"
    }
   ],
   "source": [
    "# bajada\n",
    "bajada=sopa.find('p',{'class':'bajada'}).get_text().strip()\n",
    "bajada"
   ]
  },
  {
   "cell_type": "code",
   "execution_count": 62,
   "metadata": {},
   "outputs": [
    {
     "data": {
      "text/plain": [
       "'“Se las extrañaba”, se sincera el dueño de una financiera, en alusión a las manos amigas que fortalecieron la oferta y provocaron un desplome del dólar blue. En la jerga cuevera, se le dice manos amigas a la intervención de alguien vinculado al Gobierno que sale a vender dólares en bloques para bajar el precio del billete.El blue arrancó a $ 195 en el mercado a mercado, como se denomina a los mayoristas, que suele ser $ 3 más barato que la venta al público. Pero cuando muchos imaginaban que podía llegar a $ 200 la divisa en la calle, de repente los corredores de cambio recibieron una orden de venta de dólares en bloque.Las ventas en bloque se denominan a las de grandes volúmenes: en este caso fue, según cuentan los propios corredores, por u$s 200.000.Eso provocó la baja del billete, y enseguida apareció otra venta en bloque por el mismo valor, luego una tercera venta, una cuarta y hasta una quinta. Todas por u$s 200.000 cada una.Al haber ya cinco ventas en bloque, los corredores empezaron a hablar de manos amigas, y expresaron que eso provocó una baja en el billete a $ 187 para la venta al público.Dos importantes casas de cambio remarcaron que esta operatoria les recordó a las épocas de cuando Guillermo Moreno estaba al frente de la Secretaría de Comercio, y apelaba a manos amigas para que ofertaran dólares para impedir que la cotización del paralelo subiera.Ahora, en el sector dicen que el Gobierno trianguló la operación a través de otros, para que sea más difícil detectar de dónde viene.“Cuando el dólar empieza a bajar y a bajar, nadie compra, todos esperan al rebote del gato muerto, para empezar a comprar una vez que remonte, porque no sabés hasta cuánto puede bajar”, advierte un bróker.Las \"manos amigas\" suelen tener dólares baratos cuando les dan más espacio para moverse entre el contado con liquidación y el dólar oficial con las divisas vinculadas al comercio exterior. Un negocio redondo en un mercado de volumen tan chico como el blue que apenas mueve u$s 6 millones diarios.'"
      ]
     },
     "execution_count": 62,
     "metadata": {},
     "output_type": "execute_result"
    }
   ],
   "source": [
    "# cuerpo joineando los tags 'p' en la div article\n",
    "# aparecen unos simbolos raros si no saco espacios y normalizo\n",
    "\n",
    "cuerpo=''.join([unicodedata.normalize(\"NFKD\",x.get_text().strip()) for x in sopa.find('div',{'class':\"article-container\"}).find_all('p') ])\n",
    "cuerpo"
   ]
  },
  {
   "cell_type": "code",
   "execution_count": 50,
   "metadata": {},
   "outputs": [
    {
     "data": {
      "text/plain": [
       "['En la jerga cuevera, se le dice manos amigas a la intervención de alguien vinculado al Gobierno que sale a vender dólares en bloques para bajar el precio del billete.',\n",
       " 'cuando muchos imaginaban que podía llegar a $ 200 la divisa en la calle, de repente los corredores de cambio recibieron una orden de venta de dólares en bloque.',\n",
       " 'Al haber ya cinco ventas en bloque, los corredores empezaron a hablar de manos amigas, y expresaron que eso provocó una baja en el billete a $ 187 para la venta al público.',\n",
       " 'Ahora, en el sector dicen que el Gobierno trianguló la operación a través de otros, para que sea más difícil detectar de dónde viene.',\n",
       " 'Las \"manos amigas\" suelen tener dólares baratos cuando les dan más espacio para moverse entre el contado con liquidación y el dólar oficial',\n",
       " '.']"
      ]
     },
     "execution_count": 50,
     "metadata": {},
     "output_type": "execute_result"
    }
   ],
   "source": [
    "#lista oraciones en negrita\n",
    "\n",
    "bolds=[ unicodedata.normalize(\"NFKD\",x.get_text(strip=True)) for x in sopa.find('div',{'class':\"article-container\"}).find_all('strong')]\n",
    "\n",
    "bolds"
   ]
  },
  {
   "cell_type": "markdown",
   "metadata": {},
   "source": [
    "## infotechnology\n",
    "\n",
    "algunas urls del home llevan a notas de este portal, este portal tiene otra estructura en los articulos, hay que usar otros tags\n"
   ]
  },
  {
   "cell_type": "code",
   "execution_count": 4,
   "metadata": {},
   "outputs": [],
   "source": [
    "nota=r.get('https://www.infotechnology.com/online/ExCEO-de-Google-cargo-con-todo-contra-las-redes-sociales-son-amplificadoras-de-idiotas-y-locos-20201026-0011.html')\n",
    "sopa=bs(nota.content,features=\"lxml\")"
   ]
  },
  {
   "cell_type": "code",
   "execution_count": 6,
   "metadata": {},
   "outputs": [
    {
     "data": {
      "text/plain": [
       "'ExCEO de Google cargó con todo contra las redes sociales: “son amplificadoras de idiotas y locos\"'"
      ]
     },
     "execution_count": 6,
     "metadata": {},
     "output_type": "execute_result"
    }
   ],
   "source": [
    "sopa.find('h1').get_text(strip=True)"
   ]
  },
  {
   "cell_type": "code",
   "execution_count": 10,
   "metadata": {},
   "outputs": [
    {
     "data": {
      "text/plain": [
       "'Lo aseveró Eric Schmidt al criticar la demanda \"anti monopolio\" presentada por el Departamento de Justicia de los Estados Unidos contra el gigante estadounidense.'"
      ]
     },
     "execution_count": 10,
     "metadata": {},
     "output_type": "execute_result"
    }
   ],
   "source": [
    "sopa.find_all('em')[2].get_text(strip=True)"
   ]
  },
  {
   "cell_type": "code",
   "execution_count": 24,
   "metadata": {},
   "outputs": [
    {
     "data": {
      "text/plain": [
       "'\"El contexto de las redes sociales que sirven como amplificadores para idiotas y locos no es lo que pretendíamos\", aseguró Eric Schmidt, exdirector ejecutivo de Google, al cuestionar la demanda “anti-monopolio” presentada por el Departamento de Justicia de los Estados Unidos contra esa firma estadounidense. Schmidt también estimó como “probable” que el \"exceso\" de redes sociales resulten en una mayor regulación de las plataformas de Internet en los próximos años. El exfuncionario expresó así su crítica visión sobre la forma en las que son usadas estas redes luego que el Departamento de Justicia de los Estados Unidos demandara el martes pasado a Google por \"abuso de su posición dominante\" en las búsquedas online para \"sofocar la competencia y perjudicar a los consumidores\". Se trató de la acción judicial más significativa tomada por el gobierno estadounidense contra un gigante tecnológico desde el caso contra Microsoft, ocurrido hace más de 20 años. Schmidt, que dejó el directorio de Google en 2019 pero sigue siendo uno de sus mayores accionistas, enfatizó que “estaba fuera de lugar” la demanda antimonopolio presentada por la administración estadunidense contra la firma. No obstante, reconoció que, en general, podría “ser necesaria” una mayor regulación para las redes sociales. \"El contexto de las redes sociales que sirven como amplificadores para idiotas y locos no es lo que pretendíamos”, insistió Schmidt durante una conferencia virtual organizada por el Wall Street Journal. YouTube, que es de Google, trabajó para disminuir la difusión de información falsa sobre coronavirus y sobre la política estadounidense durante el último año, con resultados no siempre efectivos. Facebook y Twitter, por su parte, también fueron objeto de críticas en los últimos años por permitir que se propaguen en línea mensajes racistas y discriminatorios. Schmidt aclaró que el negocio de búsqueda masiva de Google, que fue el objetivo de la demanda antimonopolio del Departamento de Justicia estadounidense, sigue teniendo éxito porque la gente los elige a ellos sobre sus competidores, no porque use su tamaño para bloquear a rivales más pequeños. “Google es la entrada a Internet y un titán de la búsqueda publicitaria”, resaltó el vice-secretario de Justicia, Teff Rosen, en una publicación realizada por la agencia AP. En cambio, Kent Walker, vicepresidente senior de Asuntos Globales de Google, insistió en que los usuarios y personas utilizan \"Google porque eligen hacerlo, no porque se vean forzados o porque no haya otras alternativas”.'"
      ]
     },
     "execution_count": 24,
     "metadata": {},
     "output_type": "execute_result"
    }
   ],
   "source": [
    "# cuerpo\n",
    "\n",
    "' '.join([unicodedata.normalize(\"NFKD\",x.get_text()) for x in sopa.find('div',{'itemprop':\"articleBody\"}).find_all('p')[:-1]])"
   ]
  },
  {
   "cell_type": "code",
   "execution_count": 25,
   "metadata": {},
   "outputs": [
    {
     "data": {
      "text/plain": [
       "'\"El contexto de las redes sociales que sirven como amplificadores para idiotas y locos no es lo que pretendíamos\" Eric Schmidt, exdirector ejecutivo de Google cuestionar la demanda “anti-monopolio” presentada por el Departamento de Justicia de los Estados Unidos estimó como “probable” que el \"exceso\" de redes sociales resulten en una mayor regulación de las plataformas de Internet en los próximos años el Departamento de Justicia de los Estados Unidos demandara el martes pasado a Google por \"abuso de su posición dominante\" en las búsquedas online para \"sofocar la competencia y perjudicar a los consumidores\" Schmidt enfatizó que “estaba fuera de lugar” la demanda antimonopolio No obstante, reconoció que, en general, podría “ser necesaria” una mayor regulación para las redes sociales YouTube, que es de Google, trabajó para disminuir la difusión de información falsa sobre coronavirus y sobre la política estadounidense durante el último año Schmidt aclaró que el negocio de búsqueda masiva de Google sigue teniendo éxito porque la gente los elige a ellos sobre sus competidores, no porque use su tamaño para bloquear a rivales más pequeños Google es la entrada a Internet y un titán de la búsqueda publicitaria Teff Rosen Kent Walker, vicepresidente senior de Asuntos Globales de Google utilizan \"Google porque eligen hacerlo, no porque se vean forzados o porque no haya otras alternativas”'"
      ]
     },
     "execution_count": 25,
     "metadata": {},
     "output_type": "execute_result"
    }
   ],
   "source": [
    "# bolds\n",
    "\n",
    "' '.join([unicodedata.normalize(\"NFKD\",x.get_text()) for x in sopa.find('div',{'itemprop':\"articleBody\"}).find_all('strong')[:-1]])"
   ]
  }
 ],
 "metadata": {
  "kernelspec": {
   "display_name": "Python 3",
   "language": "python",
   "name": "python3"
  },
  "language_info": {
   "codemirror_mode": {
    "name": "ipython",
    "version": 3
   },
   "file_extension": ".py",
   "mimetype": "text/x-python",
   "name": "python",
   "nbconvert_exporter": "python",
   "pygments_lexer": "ipython3",
   "version": "3.7.4"
  }
 },
 "nbformat": 4,
 "nbformat_minor": 4
}
